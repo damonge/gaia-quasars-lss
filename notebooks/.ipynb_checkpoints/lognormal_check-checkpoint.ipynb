{
 "cells": [
  {
   "cell_type": "code",
   "execution_count": 8,
   "metadata": {},
   "outputs": [],
   "source": [
    "import numpy as np\n",
    "import matplotlib.pyplot as plt\n",
    "import scipy\n",
    "import time\n",
    "\n",
    "import astropy\n",
    "from astropy import cosmology\n",
    "\n",
    "import sys\n",
    "sys.path.insert(0, '../code')\n",
    "import read_lognormal"
   ]
  },
  {
   "cell_type": "code",
   "execution_count": 12,
   "metadata": {},
   "outputs": [
    {
     "name": "stdout",
     "output_type": "stream",
     "text": [
      "(1999526, 6)\n"
     ]
    }
   ],
   "source": [
    "L = 6000\n",
    "Nstr = '2e6'\n",
    "z = 0\n",
    "rlz = 0\n",
    "Lx, Ly, Lz, N, data = read_lognormal.read(f'../data/mocks/cat_L{L}_N{Nstr}_z{z}_patchy_lognormal_rlz{rlz}.bin')\n",
    "print(data.shape)"
   ]
  },
  {
   "cell_type": "code",
   "execution_count": null,
   "metadata": {},
   "outputs": [],
   "source": []
  }
 ],
 "metadata": {
  "kernelspec": {
   "display_name": "Python 3",
   "language": "python",
   "name": "python3"
  },
  "language_info": {
   "codemirror_mode": {
    "name": "ipython",
    "version": 3
   },
   "file_extension": ".py",
   "mimetype": "text/x-python",
   "name": "python",
   "nbconvert_exporter": "python",
   "pygments_lexer": "ipython3",
   "version": "3.7.3"
  }
 },
 "nbformat": 4,
 "nbformat_minor": 4
}
