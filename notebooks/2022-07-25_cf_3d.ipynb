{
 "cells": [
  {
   "cell_type": "code",
   "execution_count": 1,
   "id": "1672eca7",
   "metadata": {},
   "outputs": [],
   "source": [
    "from astropy.table import Table, join\n",
    "import numpy as np\n",
    "import matplotlib.pyplot as plt\n",
    "import matplotlib\n",
    "import seaborn as sns\n",
    "from astropy.coordinates import SkyCoord, match_coordinates_sky, search_around_sky\n",
    "import astropy.units as u\n",
    "from matplotlib import cm\n",
    "import time\n",
    "from numpy.random import default_rng\n",
    "import astropy.cosmology\n",
    "\n",
    "import healpy as hp\n",
    "import pymaster as nmt\n",
    "import pandas as pd\n",
    "\n",
    "import sys\n",
    "sys.path.insert(0,'../code')\n",
    "%load_ext autoreload\n",
    "%autoreload 2\n",
    "import utils\n",
    "import generate_random\n",
    "import correlations\n",
    "import random_utils"
   ]
  },
  {
   "cell_type": "code",
   "execution_count": 2,
   "id": "6f51bc88",
   "metadata": {},
   "outputs": [],
   "source": [
    "matplotlib.rcParams['ytick.labelsize'] = 18\n",
    "matplotlib.rcParams['xtick.labelsize'] = 18\n",
    "matplotlib.rcParams['axes.labelsize'] = 22\n",
    "matplotlib.rcParams['legend.fontsize'] = 18\n",
    "\n",
    "matplotlib.rc('text', usetex=True)"
   ]
  },
  {
   "cell_type": "code",
   "execution_count": 3,
   "id": "30b140c0",
   "metadata": {},
   "outputs": [],
   "source": [
    "rng = default_rng(seed=42)"
   ]
  },
  {
   "cell_type": "markdown",
   "id": "e002b7ba",
   "metadata": {},
   "source": [
    "## Load in data"
   ]
  },
  {
   "cell_type": "code",
   "execution_count": 4,
   "id": "6cc2b027",
   "metadata": {},
   "outputs": [],
   "source": [
    "NSIDE = 64\n",
    "area_per_pixel = hp.pixelfunc.nside2pixarea(NSIDE, degrees=True)"
   ]
  },
  {
   "cell_type": "code",
   "execution_count": 7,
   "id": "6277393f",
   "metadata": {},
   "outputs": [
    {
     "name": "stdout",
     "output_type": "stream",
     "text": [
      "Number of data sources: 648842\n"
     ]
    }
   ],
   "source": [
    "G_max = 20\n",
    "fn_gaia = f'../data/gaia_G{G_max}.fits'\n",
    "tab_gaia = utils.load_table(fn_gaia)\n",
    "N_data = len(tab_gaia)\n",
    "ra_data, dec_data, gmag_data = tab_gaia['ra'], tab_gaia['dec'], tab_gaia['phot_g_mean_mag']\n",
    "print(f\"Number of data sources: {N_data}\")"
   ]
  },
  {
   "cell_type": "code",
   "execution_count": 8,
   "id": "46b93a28",
   "metadata": {},
   "outputs": [
    {
     "data": {
      "text/plain": [
       "<TableColumns names=('ra','dec','redshift_qsoc','l','b','source_id','phot_g_mean_mag','phot_bp_mean_mag','phot_rp_mean_mag','redshift_qsoc_lower','redshift_qsoc_upper','zscore_qsoc','flags_qsoc','allwise_oid','w1mpro','w2mpro','g_rp','bp_g','bp_rp','g_w1','w1_w2','ebv','A_v','redshift_spz','redshift_sdss')>"
      ]
     },
     "execution_count": 8,
     "metadata": {},
     "output_type": "execute_result"
    }
   ],
   "source": [
    "tab_gaia.columns"
   ]
  },
  {
   "cell_type": "code",
   "execution_count": 9,
   "id": "3f034c61",
   "metadata": {},
   "outputs": [],
   "source": [
    "cosmo = astropy.cosmology.Planck15\n",
    "dist = (cosmo.comoving_distance(tab_gaia['redshift_spz'])*cosmo.h).value # convert to Mpc/h"
   ]
  },
  {
   "cell_type": "code",
   "execution_count": 10,
   "id": "481735a9",
   "metadata": {},
   "outputs": [],
   "source": [
    "x, y, z = utils.radec_to_cartesian(dist, ra_data, dec_data)"
   ]
  },
  {
   "cell_type": "markdown",
   "id": "43a3ccc4",
   "metadata": {},
   "source": [
    "# Load in randoms"
   ]
  },
  {
   "cell_type": "code",
   "execution_count": 11,
   "id": "3214a402",
   "metadata": {},
   "outputs": [],
   "source": [
    "fn_stardust = '../data/randoms/random_stardust64_10x.fits'\n",
    "tab_stardust = utils.load_table(fn_stardust)"
   ]
  },
  {
   "cell_type": "code",
   "execution_count": 12,
   "id": "be975d8c",
   "metadata": {},
   "outputs": [],
   "source": [
    "ra_stardust, dec_stardust = tab_stardust['ra'], tab_stardust['dec']"
   ]
  },
  {
   "cell_type": "markdown",
   "id": "34e6d141",
   "metadata": {},
   "source": [
    "Commented out bc now doing redshift assignment after masking, to make sure to only mix up the redshifts in use"
   ]
  },
  {
   "cell_type": "code",
   "execution_count": 11,
   "id": "59553003",
   "metadata": {},
   "outputs": [],
   "source": [
    "# assign random distances from data\n",
    "#dist_stardust = rng.choice(dist, replace=True, size=len(tab_stardust))"
   ]
  },
  {
   "cell_type": "code",
   "execution_count": 12,
   "id": "ca97e3ac",
   "metadata": {},
   "outputs": [],
   "source": [
    "#x_stardust, y_stardust, z_stardust = utils.radec_to_cartesian(dist_stardust, ra_stardust, dec_stardust)"
   ]
  },
  {
   "cell_type": "markdown",
   "id": "cd7be0c9",
   "metadata": {},
   "source": [
    "# Vary plane masking"
   ]
  },
  {
   "cell_type": "code",
   "execution_count": 13,
   "id": "4ce15a40",
   "metadata": {},
   "outputs": [],
   "source": [
    "col_names = ['maskplane', 'maskmcs', 'maskdust', 'b_max', 'Av_max', 'NSIDE_dustmap']\n",
    "rand_configs_stardust = [[False, False, False, None, None, 64],\n",
    "                         [False, True, False, None, None, 64],\n",
    "                         [True, True, False, 10, None, 64],\n",
    "                         [True, True, False, 20, None, 64],\n",
    "                         [True, True, False, 30, None, 64],\n",
    "                       ] \n",
    "df_rconfigs_stardust = pd.DataFrame(data = rand_configs_stardust, \n",
    "                                    columns = col_names)"
   ]
  },
  {
   "cell_type": "code",
   "execution_count": 14,
   "id": "3e7a9cc6",
   "metadata": {},
   "outputs": [
    {
     "name": "stdout",
     "output_type": "stream",
     "text": [
      "Applied mask, kept 0.998 of sources\n",
      "Applied mask, kept 0.997 of sources\n",
      "Masking galactic plane to b=10.0\n",
      "Applied mask, kept 0.981 of sources\n",
      "Applied mask, kept 0.998 of sources\n",
      "Masking galactic plane to b=10.0\n",
      "Applied mask, kept 0.988 of sources\n",
      "Applied mask, kept 0.997 of sources\n",
      "Masking galactic plane to b=20.0\n",
      "Applied mask, kept 0.869 of sources\n",
      "Applied mask, kept 0.998 of sources\n",
      "Masking galactic plane to b=20.0\n",
      "Applied mask, kept 0.892 of sources\n",
      "Applied mask, kept 0.997 of sources\n",
      "Masking galactic plane to b=30.0\n",
      "Applied mask, kept 0.703 of sources\n",
      "Applied mask, kept 0.998 of sources\n",
      "Masking galactic plane to b=30.0\n",
      "Applied mask, kept 0.727 of sources\n",
      "Applied mask, kept 0.997 of sources\n"
     ]
    }
   ],
   "source": [
    "idx_arrs_masks_data, idx_arrs_masks_rand = random_utils.get_idx_arrs_masked(df_rconfigs_stardust, \n",
    "                                                                            ra_stardust, dec_stardust, \n",
    "                                                                            ra_data, dec_data)"
   ]
  },
  {
   "cell_type": "code",
   "execution_count": 15,
   "id": "47669c87",
   "metadata": {},
   "outputs": [
    {
     "data": {
      "text/plain": [
       "(5, 5)"
      ]
     },
     "execution_count": 15,
     "metadata": {},
     "output_type": "execute_result"
    }
   ],
   "source": [
    "len(df_rconfigs_stardust), len(idx_arrs_masks_data)"
   ]
  },
  {
   "cell_type": "markdown",
   "id": "1e4039d8",
   "metadata": {},
   "source": [
    "# CF"
   ]
  },
  {
   "cell_type": "code",
   "execution_count": 5,
   "id": "820bf30d",
   "metadata": {},
   "outputs": [],
   "source": [
    "nthreads = 4\n",
    "rmin, rmax = 24, 176\n",
    "bin_size = 8\n",
    "r_edges = np.arange(rmin, rmax+bin_size, bin_size)\n",
    "r_avg = 0.5 * (r_edges[1:] + r_edges[:-1])"
   ]
  },
  {
   "cell_type": "code",
   "execution_count": 27,
   "id": "a4da1346",
   "metadata": {},
   "outputs": [
    {
     "data": {
      "text/plain": [
       "array([ 24,  32,  40,  48,  56,  64,  72,  80,  88,  96, 104, 112, 120,\n",
       "       128, 136, 144, 152, 160, 168, 176])"
      ]
     },
     "execution_count": 27,
     "metadata": {},
     "output_type": "execute_result"
    }
   ],
   "source": [
    "r_edges"
   ]
  },
  {
   "cell_type": "code",
   "execution_count": 28,
   "id": "191111a7",
   "metadata": {},
   "outputs": [
    {
     "name": "stdout",
     "output_type": "stream",
     "text": [
      "Time: 1.1202 s\n",
      "Time: 16.5241 s\n",
      "Time: 71.3704 s\n",
      "\n",
      "Time: 1.1140 s\n",
      "Time: 16.4801 s\n",
      "Time: 71.1556 s\n",
      "\n",
      "Time: 1.1058 s\n",
      "Time: 16.2336 s\n",
      "Time: 70.0022 s\n",
      "\n",
      "Time: 1.0135 s\n",
      "Time: 14.7328 s\n",
      "Time: 63.1260 s\n",
      "\n",
      "Time: 0.8304 s\n",
      "Time: 12.0894 s\n",
      "Time: 51.8310 s\n",
      "\n"
     ]
    }
   ],
   "source": [
    "xis_stardust = []\n",
    "for i in range(len(df_rconfigs_stardust)):\n",
    "    idx_data, idx_rand = idx_arrs_masks_data[i], idx_arrs_masks_rand[i]\n",
    "    \n",
    "    # only choose distances from unmasked areas\n",
    "    dist_rand = rng.choice(dist[idx_data], replace=True, size=np.sum(idx_rand))\n",
    "    x_rand, y_rand, z_rand = utils.radec_to_cartesian(dist_rand, ra_stardust[idx_rand], dec_stardust[idx_rand])\n",
    "    \n",
    "    xis_stardust.append( correlations.compute_xi(r_edges, x[idx_data], y[idx_data], z[idx_data], \n",
    "                                                          x_rand, y_rand, z_rand) )"
   ]
  },
  {
   "cell_type": "code",
   "execution_count": 30,
   "id": "d77bd18b",
   "metadata": {},
   "outputs": [
    {
     "name": "stdout",
     "output_type": "stream",
     "text": [
      "648842 6495758\n",
      "646798 6479921\n",
      "639165 6353330\n",
      "576889 5626755\n",
      "469689 4550662\n"
     ]
    }
   ],
   "source": [
    "for i in range(len(df_rconfigs_stardust)):\n",
    "    n_data = np.sum(idx_arrs_masks_data[i])\n",
    "    n_rand = np.sum(idx_arrs_masks_rand[i])\n",
    "    print(n_data, n_rand)"
   ]
  },
  {
   "cell_type": "code",
   "execution_count": 29,
   "id": "6dd1a283",
   "metadata": {},
   "outputs": [
    {
     "data": {
      "text/plain": [
       "<matplotlib.legend.Legend at 0x14b5d7993c70>"
      ]
     },
     "execution_count": 29,
     "metadata": {},
     "output_type": "execute_result"
    },
    {
     "data": {
      "image/png": "[encoded data removed]",
      "text/plain": [
       "<Figure size 720x576 with 1 Axes>"
      ]
     },
     "metadata": {
      "needs_background": "light"
     },
     "output_type": "display_data"
    }
   ],
   "source": [
    "colors = ['magenta', 'orange', 'green', 'blue', 'purple']\n",
    "plt.figure(figsize=(10,8))\n",
    "for i in range(len(df_rconfigs_stardust)):\n",
    "    n_data = np.sum(idx_arrs_masks_data[i])\n",
    "    plt.step(r_avg, xis_stardust[i], where='mid', color=colors[i], \n",
    "             label=df_rconfigs_stardust['mask_title'][i]+f' (N_data={n_data})')\n",
    "\n",
    "plt.xlabel('r (Mpc/h)')\n",
    "plt.ylabel(r'$\\xi(r)$')\n",
    "plt.axhline(0, color='grey')\n",
    "plt.legend()"
   ]
  },
  {
   "cell_type": "markdown",
   "id": "30636384",
   "metadata": {},
   "source": [
    "# Dust masking"
   ]
  },
  {
   "cell_type": "code",
   "execution_count": 4,
   "id": "38b5a4cd",
   "metadata": {},
   "outputs": [],
   "source": [
    "col_names = ['maskplane', 'maskmcs', 'maskdust', 'b_max', 'Av_max', 'NSIDE_dustmap']\n",
    "rand_configs_Av = [[False, False, False, None, None, 64],\n",
    "                         [False, True, False, None, None, 64],\n",
    "                         [False, True, True, None, 0.2, 64],\n",
    "                         [False, True, True, None, 0.35, 64],\n",
    "                         [False, True, True, None, 0.5, 64],\n",
    "                       ] \n",
    "df_rconfigs_Av = pd.DataFrame(data = rand_configs_Av, \n",
    "                                    columns = col_names)"
   ]
  },
  {
   "cell_type": "code",
   "execution_count": 13,
   "id": "35ae2f0c",
   "metadata": {},
   "outputs": [
    {
     "name": "stdout",
     "output_type": "stream",
     "text": [
      "Applied mask, kept 0.998 of sources\n",
      "Applied mask, kept 0.997 of sources\n",
      "Applied mask, kept 0.998 of sources\n",
      "64 3.1 ../data/dustmap_Avmean_NSIDE64.npy\n",
      "Generating new dust map (../data/dustmap_Avmean_NSIDE64.npy\n",
      "NPIX for dust map sampling: 50331648\n",
      "Saved dust map to ../data/dustmap_Avmean_NSIDE64.npy\n",
      "Applied mask, kept 0.686 of sources\n",
      "Applied mask, kept 0.997 of sources\n",
      "64 3.1 ../data/dustmap_Avmean_NSIDE64.npy\n",
      "Dustmap already exists, loading from ../data/dustmap_Avmean_NSIDE64.npy\n",
      "Applied mask, kept 0.708 of sources\n",
      "Applied mask, kept 0.998 of sources\n",
      "64 3.1 ../data/dustmap_Avmean_NSIDE64.npy\n",
      "Dustmap already exists, loading from ../data/dustmap_Avmean_NSIDE64.npy\n",
      "Applied mask, kept 0.862 of sources\n",
      "Applied mask, kept 0.997 of sources\n",
      "64 3.1 ../data/dustmap_Avmean_NSIDE64.npy\n",
      "Dustmap already exists, loading from ../data/dustmap_Avmean_NSIDE64.npy\n",
      "Applied mask, kept 0.879 of sources\n",
      "Applied mask, kept 0.998 of sources\n",
      "64 3.1 ../data/dustmap_Avmean_NSIDE64.npy\n",
      "Dustmap already exists, loading from ../data/dustmap_Avmean_NSIDE64.npy\n",
      "Applied mask, kept 0.928 of sources\n",
      "Applied mask, kept 0.997 of sources\n",
      "64 3.1 ../data/dustmap_Avmean_NSIDE64.npy\n",
      "Dustmap already exists, loading from ../data/dustmap_Avmean_NSIDE64.npy\n",
      "Applied mask, kept 0.940 of sources\n"
     ]
    }
   ],
   "source": [
    "idx_arrs_masks_data_Av, idx_arrs_masks_rand_Av = random_utils.get_idx_arrs_masked(df_rconfigs_Av, \n",
    "                                                                            ra_stardust, dec_stardust, \n",
    "                                                                            ra_data, dec_data)"
   ]
  },
  {
   "cell_type": "code",
   "execution_count": 16,
   "id": "2df4503a",
   "metadata": {},
   "outputs": [
    {
     "name": "stderr",
     "output_type": "stream",
     "text": [
      "[Warning] The CPU supports AVX512F but the compiler does not.  Can you try another compiler?\n",
      "[Warning] The CPU supports AVX2 but the compiler does not.  Can you try another compiler?\n",
      "[Warning] The CPU supports AVX but the compiler does not.  Can you try another compiler?\n",
      "[Warning] The CPU supports SSE4.2 but the compiler does not.  Can you try another compiler?\n",
      "[Warning] The CPU supports SSE4.1 but the compiler does not.  Can you try another compiler?\n",
      "[Warning] The CPU supports SSSE3 but the compiler does not.  Can you try another compiler?\n"
     ]
    },
    {
     "name": "stdout",
     "output_type": "stream",
     "text": [
      "Time: 1.3695 s\n",
      "Time: 17.5418 s\n",
      "Time: 72.2862 s\n",
      "\n",
      "Time: 1.1271 s\n",
      "Time: 17.4328 s\n",
      "Time: 72.0799 s\n",
      "\n",
      "Time: 0.8076 s\n",
      "Time: 12.0762 s\n",
      "Time: 49.5281 s\n",
      "\n",
      "Time: 0.9922 s\n",
      "Time: 15.2882 s\n",
      "Time: 62.8439 s\n",
      "\n",
      "Time: 1.0528 s\n",
      "Time: 16.3885 s\n",
      "Time: 67.5654 s\n",
      "\n"
     ]
    }
   ],
   "source": [
    "xis_Av = []\n",
    "for i in range(len(df_rconfigs_Av)):\n",
    "    idx_data, idx_rand = idx_arrs_masks_data_Av[i], idx_arrs_masks_rand_Av[i]\n",
    "    \n",
    "    # only choose distances from unmasked areas\n",
    "    dist_rand = rng.choice(dist[idx_data], replace=True, size=np.sum(idx_rand))\n",
    "    x_rand, y_rand, z_rand = utils.radec_to_cartesian(dist_rand, ra_stardust[idx_rand], dec_stardust[idx_rand])\n",
    "    \n",
    "    xis_Av.append( correlations.compute_xi(r_edges, x[idx_data], y[idx_data], z[idx_data], \n",
    "                                                          x_rand, y_rand, z_rand) )"
   ]
  },
  {
   "cell_type": "code",
   "execution_count": 21,
   "id": "aa6cd30d",
   "metadata": {},
   "outputs": [
    {
     "data": {
      "text/plain": [
       "<matplotlib.legend.Legend at 0x14da1c6cafb0>"
      ]
     },
     "execution_count": 21,
     "metadata": {},
     "output_type": "execute_result"
    },
    {
     "data": {
      "image/png": "[encoded data removed]",
      "text/plain": [
       "<Figure size 864x720 with 1 Axes>"
      ]
     },
     "metadata": {
      "needs_background": "light"
     },
     "output_type": "display_data"
    }
   ],
   "source": [
    "colors = ['magenta', 'orange', 'green', 'blue', 'purple']\n",
    "plt.figure(figsize=(12,10))\n",
    "# little hack bc want to reorder legend in plot\n",
    "#i_order = [0, 1, 4, 3, 2]\n",
    "#for i in i_order:\n",
    "for i in range(len(df_rconfigs_Av)):\n",
    "    n_data = np.sum(idx_arrs_masks_data_Av[i])\n",
    "    plt.step(r_avg, xis_Av[i], where='mid', color=colors[i], \n",
    "             label=df_rconfigs_Av['mask_title'][i]+f' (N_data={n_data})')\n",
    "\n",
    "plt.xlabel(r'$r$ ($h^{-1}$Mpc)')\n",
    "plt.ylabel(r'$\\xi(r)$')\n",
    "plt.axhline(0, color='grey')\n",
    "plt.legend()"
   ]
  },
  {
   "cell_type": "markdown",
   "id": "8f39cf88",
   "metadata": {},
   "source": [
    "## G=20.4"
   ]
  },
  {
   "cell_type": "code",
   "execution_count": 5,
   "id": "d4127375",
   "metadata": {},
   "outputs": [],
   "source": [
    "NSIDE = 64\n",
    "area_per_pixel = hp.pixelfunc.nside2pixarea(NSIDE, degrees=True)"
   ]
  },
  {
   "cell_type": "code",
   "execution_count": 6,
   "id": "be5cf1ea",
   "metadata": {},
   "outputs": [
    {
     "name": "stdout",
     "output_type": "stream",
     "text": [
      "Number of data sources: 1001557\n"
     ]
    }
   ],
   "source": [
    "G_max = 20.4\n",
    "fn_gaia_G204 = f'../data/gaia_G{G_max}.fits'\n",
    "tab_gaia_G204 = utils.load_table(fn_gaia_G204)\n",
    "N_data_G204 = len(tab_gaia_G204)\n",
    "ra_data_G204, dec_data_G204 = tab_gaia_G204['ra'], tab_gaia_G204['dec']\n",
    "print(f\"Number of data sources: {N_data_G204}\")"
   ]
  },
  {
   "cell_type": "code",
   "execution_count": 7,
   "id": "0235d509",
   "metadata": {},
   "outputs": [],
   "source": [
    "cosmo = astropy.cosmology.Planck15\n",
    "dist = (cosmo.comoving_distance(tab_gaia_G204['redshift_spz'])*cosmo.h).value # convert to Mpc/h"
   ]
  },
  {
   "cell_type": "code",
   "execution_count": 8,
   "id": "7ed024f0",
   "metadata": {},
   "outputs": [],
   "source": [
    "x_G204, y_G204, z_G204 = utils.radec_to_cartesian(dist, ra_data_G204, dec_data_G204)"
   ]
  },
  {
   "cell_type": "markdown",
   "id": "ea92200c",
   "metadata": {},
   "source": [
    "## Load in randoms"
   ]
  },
  {
   "cell_type": "code",
   "execution_count": 11,
   "id": "afd3f1a4",
   "metadata": {},
   "outputs": [],
   "source": [
    "fn_stardustm10 = f'../data/randoms/random_stardustm1064_G{G_max}_10x.fits'\n",
    "tab_stardustm10 = utils.load_table(fn_stardustm10)"
   ]
  },
  {
   "cell_type": "code",
   "execution_count": 12,
   "id": "e7ddcfbb",
   "metadata": {},
   "outputs": [],
   "source": [
    "ra_stardustm10, dec_stardustm10 = tab_stardustm10['ra'], tab_stardustm10['dec']"
   ]
  },
  {
   "cell_type": "markdown",
   "id": "54f265e2",
   "metadata": {},
   "source": [
    "## Varying masks"
   ]
  },
  {
   "cell_type": "code",
   "execution_count": 14,
   "id": "ba50b25d",
   "metadata": {},
   "outputs": [],
   "source": [
    "col_names = ['maskplane', 'maskmcs', 'maskdust', 'b_max', 'Av_max', 'NSIDE_dustmap']\n",
    "rand_configs_stardustm10 = [[False, False, False, None, None, 64],\n",
    "                         [False, True, False, None, None, 64],\n",
    "                         [False, True, True, None, 0.3, 64],\n",
    "                         #[True, True, False, 20, None, 64],\n",
    "                         #[True, True, False, 30, None, 64],\n",
    "                       ] \n",
    "df_rconfigs_stardustm10 = pd.DataFrame(data = rand_configs_stardustm10, \n",
    "                                    columns = col_names)"
   ]
  },
  {
   "cell_type": "code",
   "execution_count": 19,
   "id": "02482ed9",
   "metadata": {},
   "outputs": [
    {
     "name": "stdout",
     "output_type": "stream",
     "text": [
      "Applied mask, kept 0.998 of sources\n",
      "Applied mask, kept 0.997 of sources\n",
      "Applied mask, kept 0.998 of sources\n",
      "64 3.1 ../data/maps/map_dust_NSIDE64.npy\n",
      "Dustmap already exists, loading from ../data/maps/map_dust_NSIDE64.npy\n",
      "Applied mask, kept 0.837 of sources\n",
      "Applied mask, kept 0.997 of sources\n",
      "64 3.1 ../data/maps/map_dust_NSIDE64.npy\n",
      "Dustmap already exists, loading from ../data/maps/map_dust_NSIDE64.npy\n",
      "Applied mask, kept 0.842 of sources\n"
     ]
    }
   ],
   "source": [
    "idx_arrs_masks_data_G204, idx_arrs_masks_rand_G204 = random_utils.get_idx_arrs_masked(df_rconfigs_stardustm10, \n",
    "                                                                            ra_stardustm10, dec_stardustm10, \n",
    "                                                                            ra_data_G204, dec_data_G204)"
   ]
  },
  {
   "cell_type": "code",
   "execution_count": 18,
   "id": "6460824c",
   "metadata": {},
   "outputs": [],
   "source": [
    "nthreads = 4\n",
    "rmin, rmax = 24, 176\n",
    "bin_size = 8\n",
    "r_edges = np.arange(rmin, rmax+bin_size, bin_size)\n",
    "r_avg = 0.5 * (r_edges[1:] + r_edges[:-1])"
   ]
  },
  {
   "cell_type": "code",
   "execution_count": 21,
   "id": "3c4a14d0",
   "metadata": {},
   "outputs": [
    {
     "name": "stderr",
     "output_type": "stream",
     "text": [
      "[Warning] The CPU supports AVX512F but the compiler does not.  Can you try another compiler?\n",
      "[Warning] The CPU supports AVX2 but the compiler does not.  Can you try another compiler?\n",
      "[Warning] The CPU supports AVX but the compiler does not.  Can you try another compiler?\n",
      "[Warning] The CPU supports SSE4.2 but the compiler does not.  Can you try another compiler?\n",
      "[Warning] The CPU supports SSE4.1 but the compiler does not.  Can you try another compiler?\n",
      "[Warning] The CPU supports SSSE3 but the compiler does not.  Can you try another compiler?\n"
     ]
    },
    {
     "name": "stdout",
     "output_type": "stream",
     "text": [
      "Time: 2.2778 s\n",
      "Time: 34.9961 s\n",
      "Time: 155.8936 s\n",
      "\n",
      "Time: 2.1215 s\n",
      "Time: 34.9183 s\n",
      "Time: 164.6128 s\n",
      "\n",
      "Time: 2.0894 s\n",
      "Time: 33.4315 s\n",
      "Time: 140.0657 s\n",
      "\n"
     ]
    }
   ],
   "source": [
    "xis_G204 = []\n",
    "for i in range(len(df_rconfigs_stardustm10)):\n",
    "    idx_data, idx_rand = idx_arrs_masks_data_G204[i], idx_arrs_masks_rand_G204[i]\n",
    "    \n",
    "    # only choose distances from unmasked areas\n",
    "    dist_rand = rng.choice(dist[idx_data], replace=True, size=np.sum(idx_rand))\n",
    "    x_rand, y_rand, z_rand = utils.radec_to_cartesian(dist_rand, ra_stardustm10[idx_rand], dec_stardustm10[idx_rand])\n",
    "    \n",
    "    xis_G204.append( correlations.compute_xi(r_edges, x_G204[idx_data], y_G204[idx_data], z_G204[idx_data], \n",
    "                                                          x_rand, y_rand, z_rand) )"
   ]
  },
  {
   "cell_type": "code",
   "execution_count": 24,
   "id": "e9ae6dbc",
   "metadata": {},
   "outputs": [
    {
     "data": {
      "text/plain": [
       "<matplotlib.legend.Legend at 0x14c7ffe63e80>"
      ]
     },
     "execution_count": 24,
     "metadata": {},
     "output_type": "execute_result"
    },
    {
     "data": {
      "image/png": "[encoded data removed]",
      "text/plain": [
       "<Figure size 864x720 with 1 Axes>"
      ]
     },
     "metadata": {
      "needs_background": "light"
     },
     "output_type": "display_data"
    }
   ],
   "source": [
    "colors = ['magenta', 'orange', 'blue']\n",
    "plt.figure(figsize=(12,10))\n",
    "# little hack bc want to reorder legend in plot\n",
    "#i_order = [0, 1, 4, 3, 2]\n",
    "#for i in i_order:\n",
    "for i in range(len(df_rconfigs_stardustm10)):\n",
    "    n_data = np.sum(idx_arrs_masks_data_G204[i])\n",
    "    plt.step(r_avg, xis_G204[i], where='mid', color=colors[i], \n",
    "             label=df_rconfigs_stardustm10['mask_title'][i]+f' (N_data={n_data})')\n",
    "\n",
    "plt.xlabel(r'$r$ ($h^{-1}$Mpc)')\n",
    "plt.ylabel(r'$\\xi(r)$')\n",
    "plt.axhline(0, color='grey')\n",
    "plt.legend()"
   ]
  },
  {
   "cell_type": "markdown",
   "id": "83f03041",
   "metadata": {},
   "source": [
    "# G variation"
   ]
  },
  {
   "cell_type": "code",
   "execution_count": 6,
   "id": "cf62f400",
   "metadata": {},
   "outputs": [],
   "source": [
    "NSIDE = 64\n",
    "area_per_pixel = hp.pixelfunc.nside2pixarea(NSIDE, degrees=True)"
   ]
  },
  {
   "cell_type": "code",
   "execution_count": 7,
   "id": "9252ba28",
   "metadata": {},
   "outputs": [],
   "source": [
    "G_maxs = [20, 20.2, 20.4]"
   ]
  },
  {
   "cell_type": "code",
   "execution_count": 8,
   "id": "393f3bae",
   "metadata": {
    "scrolled": true
   },
   "outputs": [
    {
     "name": "stdout",
     "output_type": "stream",
     "text": [
      "Number of data sources: 648842\n",
      "Number of data sources: 812375\n",
      "Number of data sources: 1001557\n",
      "done!\n"
     ]
    }
   ],
   "source": [
    "pos_G = []\n",
    "radec_G = []\n",
    "dist_G = []\n",
    "for G_max in G_maxs:\n",
    "    fn_gaia_G = f'../data/gaia_G{G_max}.fits'\n",
    "    tab_gaia_G = utils.load_table(fn_gaia_G)\n",
    "    N_data_G = len(tab_gaia_G)\n",
    "    ra_data_G, dec_data_G = tab_gaia_G['ra'], tab_gaia_G['dec']\n",
    "    print(f\"Number of data sources: {N_data_G}\")\n",
    "    radec_G.append(np.array([ra_data_G, dec_data_G]))\n",
    "    \n",
    "    cosmo = astropy.cosmology.Planck15\n",
    "    dist = (cosmo.comoving_distance(tab_gaia_G['redshift_spz'])*cosmo.h).value # convert to Mpc/h\n",
    "    dist_G.append(dist)\n",
    "    x_G, y_G, z_G = utils.radec_to_cartesian(dist, ra_data_G, dec_data_G)\n",
    "    pos_G.append(np.array([x_G, y_G, z_G]))\n",
    "print(\"done!\")"
   ]
  },
  {
   "cell_type": "markdown",
   "id": "c5cecd06",
   "metadata": {},
   "source": [
    "## Load in randoms"
   ]
  },
  {
   "cell_type": "code",
   "execution_count": 9,
   "id": "2ca82265",
   "metadata": {},
   "outputs": [],
   "source": [
    "col_names = ['maskplane', 'maskmcs', 'maskdust', 'b_max', 'Av_max', 'NSIDE_dustmap']"
   ]
  },
  {
   "cell_type": "code",
   "execution_count": null,
   "id": "c6b173a9",
   "metadata": {},
   "outputs": [],
   "source": [
    "xis_G = []\n",
    "idx_data_G = []\n",
    "idx_rand_G = []\n",
    "for gg, G_max in enumerate(G_maxs):\n",
    "    fn_stardustm10_G = f'../data/randoms/random_stardustm1064_G{G_max}_10x.fits'\n",
    "    tab_stardustm10_G = utils.load_table(fn_stardustm10_G)\n",
    "    ra_stardustm10_G, dec_stardustm10_G = tab_stardustm10_G['ra'], tab_stardustm10_G['dec']\n",
    "    \n",
    "    rand_configs_stardustm10_G = [[False, False, False, None, None, 64],\n",
    "                         #[False, True, False, None, None, 64],\n",
    "                         #[False, True, True, None, 0.3, 64],\n",
    "                         #[True, True, False, 20, None, 64],\n",
    "                         #[True, True, False, 30, None, 64],\n",
    "                       ] \n",
    "    df_rconfigs_stardustm10_G = pd.DataFrame(data = rand_configs_stardustm10_G, \n",
    "                                        columns = col_names)\n",
    "\n",
    "    ra_data_G, dec_data_G = radec_G[gg]\n",
    "    idx_arrs_masks_data_G, idx_arrs_masks_rand_G = random_utils.get_idx_arrs_masked(df_rconfigs_stardustm10_G, \n",
    "                                                                                ra_stardustm10_G, dec_stardustm10_G, \n",
    "                                                                                ra_data_G, dec_data_G)\n",
    "    \n",
    "    # assume only 1 row for now\n",
    "    idx_data = idx_arrs_masks_data_G[0]\n",
    "    idx_rand = idx_arrs_masks_rand_G[0]\n",
    "    idx_data_G.append(idx_data)\n",
    "    idx_rand_G.append(idx_rand)\n",
    "    \n",
    "    dist = dist_G[gg]\n",
    "    dist_rand = rng.choice(dist[idx_data], replace=True, size=np.sum(idx_rand))\n",
    "    x_rand, y_rand, z_rand = utils.radec_to_cartesian(dist_rand, \n",
    "                                                      ra_stardustm10_G[idx_rand], dec_stardustm10_G[idx_rand])\n",
    "    \n",
    "    x_G, y_G, z_G = pos_G[gg]\n",
    "    xis_G.append( correlations.compute_xi(r_edges, x_G[idx_data], y_G[idx_data], z_G[idx_data], \n",
    "                                                          x_rand, y_rand, z_rand) )"
   ]
  },
  {
   "cell_type": "code",
   "execution_count": 49,
   "id": "200fcd6a",
   "metadata": {},
   "outputs": [
    {
     "data": {
      "text/plain": [
       "<matplotlib.legend.Legend at 0x14c834abee30>"
      ]
     },
     "execution_count": 49,
     "metadata": {},
     "output_type": "execute_result"
    },
    {
     "data": {
      "image/png": "[encoded data removed]",
      "text/plain": [
       "<Figure size 864x720 with 1 Axes>"
      ]
     },
     "metadata": {
      "needs_background": "light"
     },
     "output_type": "display_data"
    }
   ],
   "source": [
    "colors = ['magenta', 'red', 'mediumpurple']\n",
    "plt.figure(figsize=(12,10))\n",
    "for i in range(len(xis_G)):\n",
    "    title = rf'G < {G_maxs[i]}'\n",
    "    n_data = np.sum(idx_data_G[i])\n",
    "    plt.step(r_avg, xis_G[i], where='mid', color=colors[i], \n",
    "             label=title+f' (N_data={n_data})')\n",
    "\n",
    "plt.xlabel(r'$r$ ($h^{-1}$Mpc)')\n",
    "plt.ylabel(r'$\\xi(r)$')\n",
    "plt.axhline(0, color='grey')\n",
    "plt.legend()"
   ]
  },
  {
   "cell_type": "markdown",
   "id": "691516fb",
   "metadata": {},
   "source": [
    "## With  (MCs + aggressive dust)"
   ]
  },
  {
   "cell_type": "code",
   "execution_count": 10,
   "id": "9ab25b25",
   "metadata": {},
   "outputs": [
    {
     "name": "stdout",
     "output_type": "stream",
     "text": [
      "Applied mask, kept 0.998 of sources\n",
      "64 3.1 ../data/maps/map_dust_NSIDE64.npy\n",
      "Dustmap already exists, loading from ../data/maps/map_dust_NSIDE64.npy\n",
      "Applied mask, kept 0.699 of sources\n",
      "Applied mask, kept 0.997 of sources\n",
      "64 3.1 ../data/maps/map_dust_NSIDE64.npy\n",
      "Dustmap already exists, loading from ../data/maps/map_dust_NSIDE64.npy\n",
      "Applied mask, kept 0.708 of sources\n",
      "Applied mask, kept 0.998 of sources\n",
      "64 3.1 ../data/maps/map_dust_NSIDE64.npy\n",
      "Dustmap already exists, loading from ../data/maps/map_dust_NSIDE64.npy\n",
      "Applied mask, kept 0.700 of sources\n",
      "Applied mask, kept 0.997 of sources\n",
      "64 3.1 ../data/maps/map_dust_NSIDE64.npy\n",
      "Dustmap already exists, loading from ../data/maps/map_dust_NSIDE64.npy\n",
      "Applied mask, kept 0.708 of sources\n",
      "Applied mask, kept 0.998 of sources\n",
      "64 3.1 ../data/maps/map_dust_NSIDE64.npy\n",
      "Dustmap already exists, loading from ../data/maps/map_dust_NSIDE64.npy\n",
      "Applied mask, kept 0.703 of sources\n",
      "Applied mask, kept 0.997 of sources\n",
      "64 3.1 ../data/maps/map_dust_NSIDE64.npy\n",
      "Dustmap already exists, loading from ../data/maps/map_dust_NSIDE64.npy\n",
      "Applied mask, kept 0.710 of sources\n"
     ]
    }
   ],
   "source": [
    "idx_data_G = []\n",
    "idx_rand_G = []\n",
    "radec_rand_G = []\n",
    "for gg, G_max in enumerate(G_maxs):\n",
    "    fn_stardustm10_G = f'../data/randoms/random_stardustm1064_G{G_max}_10x.fits'\n",
    "    tab_stardustm10_G = utils.load_table(fn_stardustm10_G)\n",
    "    ra_stardustm10_G, dec_stardustm10_G = tab_stardustm10_G['ra'], tab_stardustm10_G['dec']\n",
    "    radec_rand_G.append(np.array([ra_stardustm10_G, dec_stardustm10_G]))\n",
    "    \n",
    "    rand_configs_stardustm10_G = [[False, True, True, None, 0.2, 64],\n",
    "                       ] \n",
    "    df_rconfigs_stardustm10_G = pd.DataFrame(data = rand_configs_stardustm10_G, \n",
    "                                        columns = col_names)\n",
    "\n",
    "    ra_data_G, dec_data_G = radec_G[gg]\n",
    "    idx_arrs_masks_data_G, idx_arrs_masks_rand_G = random_utils.get_idx_arrs_masked(df_rconfigs_stardustm10_G, \n",
    "                                                                                ra_stardustm10_G, dec_stardustm10_G, \n",
    "                                                                                ra_data_G, dec_data_G)\n",
    "    # assume only 1 row for now\n",
    "    idx_data_G.append(idx_arrs_masks_data_G[0])\n",
    "    idx_rand_G.append(idx_arrs_masks_rand_G[0])"
   ]
  },
  {
   "cell_type": "code",
   "execution_count": 55,
   "id": "7a36c4a3",
   "metadata": {},
   "outputs": [
    {
     "name": "stdout",
     "output_type": "stream",
     "text": [
      "Time: 0.7869 s\n",
      "Time: 11.7221 s\n",
      "Time: 50.5386 s\n",
      "\n",
      "Time: 1.0932 s\n",
      "Time: 17.0260 s\n",
      "Time: 74.3769 s\n",
      "\n",
      "Time: 1.5322 s\n",
      "Time: 24.7395 s\n",
      "Time: 110.2173 s\n",
      "\n"
     ]
    }
   ],
   "source": [
    "xis_G = []\n",
    "for gg, G_max in enumerate(G_maxs):\n",
    "    idx_data = idx_data_G[gg]\n",
    "    idx_rand = idx_rand_G[gg]\n",
    "    dist = dist_G[gg]\n",
    "    dist_rand = rng.choice(dist[idx_data], replace=True, size=np.sum(idx_rand))\n",
    "    \n",
    "    ra_rand_G, dec_rand_G = radec_rand_G[gg]\n",
    "    x_rand, y_rand, z_rand = utils.radec_to_cartesian(dist_rand, \n",
    "                                                      ra_rand_G[idx_rand], dec_rand_G[idx_rand])\n",
    "    \n",
    "    x_G, y_G, z_G = pos_G[gg]\n",
    "    xis_G.append( correlations.compute_xi(r_edges, x_G[idx_data], y_G[idx_data], z_G[idx_data], \n",
    "                                                          x_rand, y_rand, z_rand) )"
   ]
  },
  {
   "cell_type": "code",
   "execution_count": 58,
   "id": "4c33fe36",
   "metadata": {},
   "outputs": [
    {
     "data": {
      "text/plain": [
       "<matplotlib.legend.Legend at 0x14c836a6fa00>"
      ]
     },
     "execution_count": 58,
     "metadata": {},
     "output_type": "execute_result"
    },
    {
     "data": {
      "image/png": "[encoded data removed]",
      "text/plain": [
       "<Figure size 864x720 with 1 Axes>"
      ]
     },
     "metadata": {
      "needs_background": "light"
     },
     "output_type": "display_data"
    }
   ],
   "source": [
    "colors = ['magenta', 'red', 'mediumpurple']\n",
    "plt.figure(figsize=(12,10))\n",
    "plt.title('Masking by MCs, dust to A_v=0.2')\n",
    "for i in range(len(xis_G)):\n",
    "    title = rf'$G < {G_maxs[i]}$'\n",
    "    n_data = np.sum(idx_data_G[i])\n",
    "    plt.step(r_avg, xis_G[i], where='mid', color=colors[i], \n",
    "             label=title+f' (N_data={n_data})')\n",
    "\n",
    "plt.xlabel(r'$r$ ($h^{-1}$Mpc)')\n",
    "plt.ylabel(r'$\\xi(r)$')\n",
    "plt.axhline(0, color='grey')\n",
    "plt.legend()"
   ]
  },
  {
   "cell_type": "markdown",
   "id": "d37b5b5b",
   "metadata": {},
   "source": [
    "# Messing with bins"
   ]
  },
  {
   "cell_type": "markdown",
   "id": "306962f1",
   "metadata": {},
   "source": [
    "### Changing bin size"
   ]
  },
  {
   "cell_type": "code",
   "execution_count": 59,
   "id": "17731f49",
   "metadata": {},
   "outputs": [],
   "source": [
    "nthreads = 4\n",
    "rmin, rmax = 24, 176"
   ]
  },
  {
   "cell_type": "code",
   "execution_count": 60,
   "id": "88336ad6",
   "metadata": {},
   "outputs": [
    {
     "name": "stdout",
     "output_type": "stream",
     "text": [
      "Time: 0.9228 s\n",
      "Time: 14.0753 s\n",
      "Time: 62.3939 s\n",
      "\n",
      "Time: 0.8520 s\n",
      "Time: 12.8313 s\n",
      "Time: 56.3278 s\n",
      "\n",
      "Time: 0.7934 s\n",
      "Time: 11.7413 s\n",
      "Time: 50.5844 s\n",
      "\n"
     ]
    }
   ],
   "source": [
    "bin_sizes = [2,4,8]\n",
    "gg = 0\n",
    "\n",
    "xis_binsize = []\n",
    "for bb, bin_size in enumerate(bin_sizes):\n",
    "    \n",
    "    r_edges = np.arange(rmin, rmax+bin_size, bin_size)\n",
    "    r_avg = 0.5 * (r_edges[1:] + r_edges[:-1])\n",
    "\n",
    "    idx_data = idx_data_G[gg]\n",
    "    idx_rand = idx_rand_G[gg]\n",
    "    dist = dist_G[gg]\n",
    "    dist_rand = rng.choice(dist[idx_data], replace=True, size=np.sum(idx_rand))\n",
    "    \n",
    "    ra_rand_G, dec_rand_G = radec_rand_G[gg]\n",
    "    x_rand, y_rand, z_rand = utils.radec_to_cartesian(dist_rand, \n",
    "                                                      ra_rand_G[idx_rand], dec_rand_G[idx_rand])\n",
    "    \n",
    "    x_G, y_G, z_G = pos_G[gg]\n",
    "    xis_binsize.append( correlations.compute_xi(r_edges, x_G[idx_data], y_G[idx_data], z_G[idx_data], \n",
    "                                                          x_rand, y_rand, z_rand) )"
   ]
  },
  {
   "cell_type": "code",
   "execution_count": 64,
   "id": "d5dd8b84",
   "metadata": {},
   "outputs": [
    {
     "data": {
      "text/plain": [
       "<matplotlib.legend.Legend at 0x14c835a8e890>"
      ]
     },
     "execution_count": 64,
     "metadata": {},
     "output_type": "execute_result"
    },
    {
     "data": {
      "image/png": "[encoded data removed]",
      "text/plain": [
       "<Figure size 864x720 with 1 Axes>"
      ]
     },
     "metadata": {
      "needs_background": "light"
     },
     "output_type": "display_data"
    }
   ],
   "source": [
    "colors = ['cyan', 'limegreen', 'magenta']\n",
    "plt.figure(figsize=(12,10))\n",
    "for bb, bin_size in enumerate(bin_sizes):\n",
    "    \n",
    "    r_edges = np.arange(rmin, rmax+bin_size, bin_size)\n",
    "    r_avg = 0.5 * (r_edges[1:] + r_edges[:-1])    \n",
    "    title = f'bin width = {bin_size}'\n",
    "    n_data = np.sum(idx_data_G[gg])\n",
    "    plt.step(r_avg, xis_binsize[bb], where='mid', color=colors[bb], \n",
    "             label=title+f' (N_data={n_data})')\n",
    "\n",
    "plt.xlabel(r'$r$ ($h^{-1}$Mpc)')\n",
    "plt.ylabel(r'$\\xi(r)$')\n",
    "plt.axhline(0, color='grey')\n",
    "plt.legend()"
   ]
  },
  {
   "cell_type": "markdown",
   "id": "ebf5f95b",
   "metadata": {},
   "source": [
    "### Multiple phasings"
   ]
  },
  {
   "cell_type": "code",
   "execution_count": 11,
   "id": "5adae810",
   "metadata": {},
   "outputs": [],
   "source": [
    "nthreads = 4\n",
    "rmin, rmax = 24, 176\n",
    "phase_size = 2\n",
    "bin_size = 8"
   ]
  },
  {
   "cell_type": "code",
   "execution_count": 12,
   "id": "0ee14cc0",
   "metadata": {},
   "outputs": [
    {
     "name": "stdout",
     "output_type": "stream",
     "text": [
      "[ 24  32  40  48  56  64  72  80  88  96 104 112 120 128 136 144 152 160\n",
      " 168 176]\n"
     ]
    },
    {
     "name": "stderr",
     "output_type": "stream",
     "text": [
      "[Warning] The CPU supports AVX512F but the compiler does not.  Can you try another compiler?\n",
      "[Warning] The CPU supports AVX2 but the compiler does not.  Can you try another compiler?\n",
      "[Warning] The CPU supports AVX but the compiler does not.  Can you try another compiler?\n",
      "[Warning] The CPU supports SSE4.2 but the compiler does not.  Can you try another compiler?\n",
      "[Warning] The CPU supports SSE4.1 but the compiler does not.  Can you try another compiler?\n",
      "[Warning] The CPU supports SSSE3 but the compiler does not.  Can you try another compiler?\n"
     ]
    },
    {
     "name": "stdout",
     "output_type": "stream",
     "text": [
      "Time: 0.7889 s\n",
      "Time: 11.7341 s\n",
      "Time: 50.0734 s\n",
      "\n",
      "[ 26  34  42  50  58  66  74  82  90  98 106 114 122 130 138 146 154 162\n",
      " 170 178]\n",
      "Time: 0.8078 s\n",
      "Time: 11.6844 s\n",
      "Time: 51.6850 s\n",
      "\n",
      "[ 28  36  44  52  60  68  76  84  92 100 108 116 124 132 140 148 156 164\n",
      " 172 180]\n",
      "Time: 0.8234 s\n",
      "Time: 11.9647 s\n",
      "Time: 53.2111 s\n",
      "\n",
      "[ 30  38  46  54  62  70  78  86  94 102 110 118 126 134 142 150 158 166\n",
      " 174 182]\n",
      "Time: 0.8377 s\n",
      "Time: 12.3640 s\n",
      "Time: 55.2546 s\n",
      "\n"
     ]
    }
   ],
   "source": [
    "gg = 0\n",
    "\n",
    "xis_phase = []\n",
    "for pp in range(int(bin_size/phase_size)):\n",
    "    rmin_p = rmin + phase_size*pp\n",
    "    rmax_p = rmax + phase_size*pp\n",
    "    \n",
    "    r_edges = np.arange(rmin_p, rmax_p+bin_size, bin_size)\n",
    "    print(r_edges)\n",
    "    r_avg = 0.5 * (r_edges[1:] + r_edges[:-1])\n",
    "\n",
    "    idx_data = idx_data_G[gg]\n",
    "    idx_rand = idx_rand_G[gg]\n",
    "    dist = dist_G[gg]\n",
    "    dist_rand = rng.choice(dist[idx_data], replace=True, size=np.sum(idx_rand))\n",
    "    \n",
    "    ra_rand_G, dec_rand_G = radec_rand_G[gg]\n",
    "    x_rand, y_rand, z_rand = utils.radec_to_cartesian(dist_rand, \n",
    "                                                      ra_rand_G[idx_rand], dec_rand_G[idx_rand])\n",
    "    \n",
    "    x_G, y_G, z_G = pos_G[gg]\n",
    "    xis_phase.append( correlations.compute_xi(r_edges, x_G[idx_data], y_G[idx_data], z_G[idx_data], \n",
    "                                                          x_rand, y_rand, z_rand) )"
   ]
  },
  {
   "cell_type": "code",
   "execution_count": 20,
   "id": "337ea7f3",
   "metadata": {},
   "outputs": [
    {
     "name": "stdout",
     "output_type": "stream",
     "text": [
      "[ 24  32  40  48  56  64  72  80  88  96 104 112 120 128 136 144 152 160\n",
      " 168 176]\n",
      "[ 26  34  42  50  58  66  74  82  90  98 106 114 122 130 138 146 154 162\n",
      " 170 178]\n",
      "[ 28  36  44  52  60  68  76  84  92 100 108 116 124 132 140 148 156 164\n",
      " 172 180]\n",
      "[ 30  38  46  54  62  70  78  86  94 102 110 118 126 134 142 150 158 166\n",
      " 174 182]\n"
     ]
    },
    {
     "data": {
      "text/plain": [
       "<matplotlib.legend.Legend at 0x14f07021d720>"
      ]
     },
     "execution_count": 20,
     "metadata": {},
     "output_type": "execute_result"
    },
    {
     "data": {
      "image/png": "[encoded data removed]",
      "text/plain": [
       "<Figure size 864x720 with 1 Axes>"
      ]
     },
     "metadata": {
      "needs_background": "light"
     },
     "output_type": "display_data"
    }
   ],
   "source": [
    "colors = ['green', 'blue', 'purple', 'mediumorchid']\n",
    "plt.figure(figsize=(12,10))\n",
    "plt.title('Bin width = 2, different phasings', fontsize=22)\n",
    "for pp in range(int(bin_size/phase_size)):\n",
    "    rmin_p = rmin + phase_size*pp\n",
    "    rmax_p = rmax + phase_size*pp\n",
    "    \n",
    "    r_edges = np.arange(rmin_p, rmax_p+bin_size, bin_size)\n",
    "    print(r_edges)\n",
    "    r_avg = 0.5 * (r_edges[1:] + r_edges[:-1])\n",
    "    \n",
    "    title = f'phase {pp}'\n",
    "    n_data = np.sum(idx_data_G[gg])\n",
    "    plt.plot(r_avg, xis_phase[pp], marker='o', markersize=4, ls='None', color=colors[pp], \n",
    "             label=title+f' (N_data={n_data})')\n",
    "\n",
    "plt.xlabel(r'$r$ ($h^{-1}$Mpc)')\n",
    "plt.ylabel(r'$\\xi(r)$')\n",
    "plt.axhline(0, color='grey')\n",
    "plt.legend()"
   ]
  },
  {
   "cell_type": "code",
   "execution_count": null,
   "id": "ed0d29a8",
   "metadata": {},
   "outputs": [],
   "source": []
  }
 ],
 "metadata": {
  "kernelspec": {
   "display_name": "Python [conda env:gaiaenv]",
   "language": "python",
   "name": "conda-env-gaiaenv-py"
  },
  "language_info": {
   "codemirror_mode": {
    "name": "ipython",
    "version": 3
   },
   "file_extension": ".py",
   "mimetype": "text/x-python",
   "name": "python",
   "nbconvert_exporter": "python",
   "pygments_lexer": "ipython3",
   "version": "3.10.4"
  }
 },
 "nbformat": 4,
 "nbformat_minor": 5
}
