{
 "cells": [
  {
   "cell_type": "code",
   "execution_count": 1,
   "id": "c85eb49c",
   "metadata": {},
   "outputs": [],
   "source": [
    "from astropy.table import Table, join\n",
    "import numpy as np\n",
    "import matplotlib.pyplot as plt\n",
    "import matplotlib\n",
    "import seaborn as sns\n",
    "from astropy.coordinates import SkyCoord, match_coordinates_sky\n",
    "import astropy.units as u\n",
    "from matplotlib import cm\n",
    "import time\n",
    "from numpy.random import default_rng\n",
    "\n",
    "import healpy as hp\n",
    "import pymaster as nmt\n",
    "import pandas as pd\n",
    "\n",
    "import sys\n",
    "sys.path.insert(0,'../code')\n",
    "%load_ext autoreload\n",
    "%autoreload 2\n",
    "import utils\n",
    "import generate_random\n",
    "import correlations\n",
    "import masks"
   ]
  },
  {
   "cell_type": "code",
   "execution_count": 2,
   "id": "732b7e2b",
   "metadata": {},
   "outputs": [],
   "source": [
    "matplotlib.rcParams['ytick.labelsize'] = 18\n",
    "matplotlib.rcParams['xtick.labelsize'] = 18\n",
    "matplotlib.rcParams['axes.labelsize'] = 22\n",
    "matplotlib.rcParams['legend.fontsize'] = 18\n",
    "\n",
    "matplotlib.rc('text', usetex=True)"
   ]
  },
  {
   "cell_type": "code",
   "execution_count": 3,
   "id": "2ad20700",
   "metadata": {},
   "outputs": [],
   "source": [
    "rng = default_rng(seed=42)"
   ]
  },
  {
   "cell_type": "markdown",
   "id": "4843cbe0",
   "metadata": {},
   "source": [
    "# Load maps"
   ]
  },
  {
   "cell_type": "code",
   "execution_count": 4,
   "id": "7a15633a",
   "metadata": {},
   "outputs": [
    {
     "name": "stdout",
     "output_type": "stream",
     "text": [
      "64 49152\n",
      "Area per pixel: 0.839 deg\n"
     ]
    }
   ],
   "source": [
    "NSIDE = 64\n",
    "NPIX = hp.nside2npix(NSIDE)\n",
    "print(NSIDE, NPIX)\n",
    "area_per_pixel = hp.nside2pixarea(NSIDE, degrees=True)\n",
    "print(f\"Area per pixel: {area_per_pixel:.3f} deg\")"
   ]
  },
  {
   "cell_type": "code",
   "execution_count": 5,
   "id": "ee6903be",
   "metadata": {},
   "outputs": [
    {
     "name": "stdout",
     "output_type": "stream",
     "text": [
      "Dustmap already exists, loading from ../data/maps/map_dust_NSIDE64.npy\n"
     ]
    }
   ],
   "source": [
    "fn_dustmap = f'../data/maps/map_dust_NSIDE{NSIDE}.npy'\n",
    "map_dust = utils.get_dust_map(NSIDE=NSIDE, R=3.1, fn_dustmap=fn_dustmap)"
   ]
  },
  {
   "cell_type": "code",
   "execution_count": 6,
   "id": "598215b4",
   "metadata": {},
   "outputs": [
    {
     "name": "stdout",
     "output_type": "stream",
     "text": [
      "Star map already exists, loading from ../data/maps/map_stars_NSIDE64.npy\n"
     ]
    }
   ],
   "source": [
    "fn_starmap = f'../data/maps/map_stars_NSIDE{NSIDE}.npy'\n",
    "map_stars = utils.get_star_map(NSIDE=NSIDE, fn_starmap=fn_starmap)\n",
    "map_stardens = map_stars/area_per_pixel"
   ]
  },
  {
   "cell_type": "code",
   "execution_count": 7,
   "id": "8f3055b1",
   "metadata": {},
   "outputs": [
    {
     "name": "stdout",
     "output_type": "stream",
     "text": [
      "Star map already exists, loading from ../data/maps/map_m10_NSIDE64.npy\n"
     ]
    }
   ],
   "source": [
    "fn_m10map = f'../data/maps/map_m10_NSIDE{NSIDE}.npy'\n",
    "map_m10 = utils.get_m10_map(NSIDE=NSIDE, fn_m10map=fn_m10map)"
   ]
  },
  {
   "cell_type": "markdown",
   "id": "4e41a360",
   "metadata": {},
   "source": [
    "# Plot maps"
   ]
  },
  {
   "cell_type": "code",
   "execution_count": null,
   "id": "9844490a",
   "metadata": {},
   "outputs": [],
   "source": [
    "hp.mollview(map_dust, title=rf\"Dust\",\n",
    "            unit=r\"mean A_v in healpixel\", cmap='viridis', coord=['C', 'G'], min=0, max=1)\n",
    "hp.graticule()"
   ]
  },
  {
   "cell_type": "code",
   "execution_count": null,
   "id": "c90a33c7",
   "metadata": {},
   "outputs": [],
   "source": [
    "hp.mollview(map_stars, title=rf\"Stars\",\n",
    "            unit=r\"number of stars in healpixel\", cmap='viridis', coord=['C', 'G'], min=0, max=200)\n",
    "hp.graticule()"
   ]
  },
  {
   "cell_type": "code",
   "execution_count": null,
   "id": "b474642f",
   "metadata": {},
   "outputs": [],
   "source": [
    "hp.mollview(map_m10, title=rf\"m10\",\n",
    "            unit=r\"m10 value in healpixel\", cmap='viridis', coord=['C', 'G'])\n",
    "hp.graticule()"
   ]
  },
  {
   "cell_type": "markdown",
   "id": "49ac9996",
   "metadata": {},
   "source": [
    "# Load data"
   ]
  },
  {
   "cell_type": "code",
   "execution_count": 8,
   "id": "6277393f",
   "metadata": {},
   "outputs": [
    {
     "name": "stdout",
     "output_type": "stream",
     "text": [
      "Number of data sources: 812375\n"
     ]
    }
   ],
   "source": [
    "G_max = 20.2\n",
    "n_max_map_dict = {20: 25, 20.2: 30, 20.4: 35}\n",
    "n_max_map = n_max_map_dict[G_max]\n",
    "fn_gaia = f'../data/gaia_G{G_max}.fits'\n",
    "tab_gaia = utils.load_table(fn_gaia)\n",
    "N_data = len(tab_gaia)\n",
    "print(f\"Number of data sources: {N_data}\")"
   ]
  },
  {
   "cell_type": "code",
   "execution_count": 9,
   "id": "de9172c2",
   "metadata": {},
   "outputs": [],
   "source": [
    "map_nqso_data, pixel_indices_data = utils.get_map(NSIDE, tab_gaia['ra'], tab_gaia['dec'], null_val=0)"
   ]
  },
  {
   "cell_type": "code",
   "execution_count": null,
   "id": "c0cebc53",
   "metadata": {},
   "outputs": [],
   "source": [
    "hp.mollview(map_nqso_data, title=rf\"Number density of Gaia quasars in clean catalog\",\n",
    "            unit=r\"number per healpixel\", cmap='viridis', coord=['C', 'G'], min=0, max=n_max_map)\n",
    "hp.graticule()"
   ]
  },
  {
   "cell_type": "markdown",
   "id": "48a43bdd",
   "metadata": {},
   "source": [
    "# Redshift dist"
   ]
  },
  {
   "cell_type": "code",
   "execution_count": null,
   "id": "ff558678",
   "metadata": {},
   "outputs": [],
   "source": [
    "print(np.median(tab_gaia['redshift_spz']))\n",
    "idx_highz = tab_gaia['redshift_spz'] > np.median(tab_gaia['redshift_spz'])\n",
    "\n",
    "map_nqso_data_highz, _ = utils.get_map(NSIDE, tab_gaia['ra'][idx_highz], tab_gaia['dec'][idx_highz], null_val=0)"
   ]
  },
  {
   "cell_type": "code",
   "execution_count": null,
   "id": "4f400b3c",
   "metadata": {},
   "outputs": [],
   "source": [
    "hp.mollview(map_nqso_data_highz, title=rf\"High-z only\",\n",
    "            unit=r\"number per healpixel\", cmap='viridis', coord=['C', 'G'], min=0, max=10)\n",
    "hp.graticule()"
   ]
  },
  {
   "cell_type": "code",
   "execution_count": null,
   "id": "d0513933",
   "metadata": {},
   "outputs": [],
   "source": [
    "hp.mollview(map_nqso_data_highz/map_nqso_data, title=rf\"Ratio of high-z to all\",\n",
    "            unit=r\"number per healpixel\", cmap='viridis', coord=['C', 'G'], min=0.4, max=0.6)\n",
    "hp.graticule()"
   ]
  },
  {
   "cell_type": "markdown",
   "id": "508b4153",
   "metadata": {},
   "source": [
    "## MCs"
   ]
  },
  {
   "cell_type": "code",
   "execution_count": 10,
   "id": "73af7f56",
   "metadata": {},
   "outputs": [],
   "source": [
    "mask_mcs = masks.magellanic_clouds_mask(NSIDE)"
   ]
  },
  {
   "cell_type": "code",
   "execution_count": 11,
   "id": "abf46022",
   "metadata": {},
   "outputs": [
    {
     "data": {
      "image/png": "[encoded data removed]",
      "text/plain": [
       "<Figure size 612x388.8 with 2 Axes>"
      ]
     },
     "metadata": {
      "needs_background": "light"
     },
     "output_type": "display_data"
    }
   ],
   "source": [
    "hp.mollview(mask_mcs, title=rf\"Magellanic Cloud mask\",\n",
    "            unit=r\"number per healpixel\", cmap='viridis', coord=['C', 'G'])\n",
    "hp.graticule()"
   ]
  },
  {
   "cell_type": "code",
   "execution_count": 12,
   "id": "0b5d494f",
   "metadata": {},
   "outputs": [],
   "source": [
    "idx_nomcs = ~mask_mcs"
   ]
  },
  {
   "cell_type": "markdown",
   "id": "7006b207",
   "metadata": {},
   "source": [
    "# Set up features"
   ]
  },
  {
   "cell_type": "code",
   "execution_count": 13,
   "id": "6108db17",
   "metadata": {},
   "outputs": [],
   "source": [
    "def f_dust(map_d):\n",
    "    #return np.log(map_d)\n",
    "    return map_d"
   ]
  },
  {
   "cell_type": "code",
   "execution_count": 14,
   "id": "ffcfff00",
   "metadata": {},
   "outputs": [],
   "source": [
    "def f_stars(map_s):\n",
    "    return np.log(map_s)\n",
    "    #return map_s"
   ]
  },
  {
   "cell_type": "code",
   "execution_count": 15,
   "id": "e741cdba",
   "metadata": {},
   "outputs": [],
   "source": [
    "def f_m10(map_m):\n",
    "    #return map_m - 20\n",
    "    return map_m"
   ]
  },
  {
   "cell_type": "code",
   "execution_count": 16,
   "id": "286eb9eb",
   "metadata": {},
   "outputs": [
    {
     "name": "stdout",
     "output_type": "stream",
     "text": [
      "(49152, 4)\n"
     ]
    }
   ],
   "source": [
    "feature_names = ['constant', r'$f_\\mathrm{e}$(extinction)', \n",
    "                 r'$f_\\mathrm{s}$(stellar number)', r'$f_\\mathrm{m}$(m10)']\n",
    "constant = np.ones(NPIX)\n",
    "X_full = np.vstack((constant, f_dust(map_dust), f_stars(map_stars), f_m10(map_m10))).T\n",
    "print(X_full.shape)"
   ]
  },
  {
   "cell_type": "code",
   "execution_count": 17,
   "id": "5c3fa4ac",
   "metadata": {},
   "outputs": [],
   "source": [
    "#y_scale_name = 'log'\n",
    "y_scale_name = None"
   ]
  },
  {
   "cell_type": "code",
   "execution_count": 18,
   "id": "b2e2ccda",
   "metadata": {},
   "outputs": [
    {
     "name": "stdout",
     "output_type": "stream",
     "text": [
      "(48984,) (48984, 4)\n"
     ]
    }
   ],
   "source": [
    "y_full = map_nqso_data\n",
    "\n",
    "if y_scale_name=='log':\n",
    "    idx_fit = y_full > 0 #hack\n",
    "else:\n",
    "    idx_fit = np.full(len(y_full), True)\n",
    "    \n",
    "\n",
    "# DELETE THIS NEXT LINE just a check\n",
    "#idx_fit = y_full > 0 #hack\n",
    "\n",
    "idx_fit = idx_fit & idx_nomcs\n",
    "y_unscaled = y_full[idx_fit]\n",
    "X_unscaled = X_full[idx_fit]\n",
    "\n",
    "# print(np.sum((y_unscaled>0)))\n",
    "# print(np.min(y_unscaled))\n",
    "# idx_zero = y_unscaled < 1e-3\n",
    "# print(np.sum(idx_zero), len(y_unscaled))\n",
    "# y_unscaled[idx_zero] = 1\n",
    "# print(np.min(y_unscaled))\n",
    "\n",
    "print(y_unscaled.shape, X_unscaled.shape)"
   ]
  },
  {
   "cell_type": "code",
   "execution_count": 19,
   "id": "0117ccd3",
   "metadata": {},
   "outputs": [],
   "source": [
    "def scale_X(X, scale_name='zeromean'):\n",
    "    if scale_name=='minmax':\n",
    "        mins = np.min(X[:,1:], axis=0)\n",
    "        maxes = np.max(X[:,1:], axis=0)\n",
    "        X[:,1:] = (X[:,1:] - mins)/(maxes-mins)\n",
    "    if scale_name=='zeromean':\n",
    "        X[:,1:] -= np.mean(X[:,1:], axis=0)\n",
    "    return X"
   ]
  },
  {
   "cell_type": "code",
   "execution_count": 20,
   "id": "767b8051",
   "metadata": {},
   "outputs": [],
   "source": [
    "def scale_y(y, scale_name='log'):\n",
    "    if scale_name=='log':\n",
    "        return np.log(y)\n",
    "    return y\n",
    "\n",
    "def unscale_y(y_scaled, scale_name='log'):\n",
    "    if scale_name=='log':\n",
    "        return np.exp(y_scaled)\n",
    "    return y_scaled"
   ]
  },
  {
   "cell_type": "code",
   "execution_count": 21,
   "id": "79553f4f",
   "metadata": {},
   "outputs": [
    {
     "name": "stdout",
     "output_type": "stream",
     "text": [
      "[ 1.          0.96193965  4.01449817 21.01894161] [0.         3.35819222 1.47187907 0.12082549]\n",
      "[ 1.00000000e+00 -5.74246767e-14  1.93476679e-13 -8.59775713e-14] [0.         3.35819222 1.47187907 0.12082549]\n"
     ]
    }
   ],
   "source": [
    "print(np.mean(X_unscaled, axis=0), np.std(X_unscaled, axis=0))\n",
    "X = scale_X(X_unscaled)\n",
    "print(np.mean(X, axis=0), np.std(X, axis=0))"
   ]
  },
  {
   "cell_type": "code",
   "execution_count": 22,
   "id": "81b318eb",
   "metadata": {},
   "outputs": [],
   "source": [
    "label_name = 'number of QSOs'\n",
    "if y_scale_name is not None:\n",
    "    label_name = f'{y_scale_name}({label_name})'\n",
    "    \n",
    "y = scale_y(y_unscaled, scale_name=y_scale_name)"
   ]
  },
  {
   "cell_type": "code",
   "execution_count": null,
   "id": "2cabf86d",
   "metadata": {},
   "outputs": [],
   "source": [
    "for j in range(1, X.shape[1]):\n",
    "    plt.figure()\n",
    "    plt.scatter(X[:,j], y, s=1, alpha=0.05, color='k')\n",
    "    plt.xlabel(feature_names[j])\n",
    "    plt.ylabel(label_name)"
   ]
  },
  {
   "cell_type": "code",
   "execution_count": null,
   "id": "a98aa483",
   "metadata": {
    "scrolled": false
   },
   "outputs": [],
   "source": [
    "for i in range(1, X.shape[1]):\n",
    "    for j in range(i, X.shape[1]):\n",
    "        plt.figure()\n",
    "        plt.scatter(X[:,i]*X[:,j], y, s=1, alpha=0.05, color='k')\n",
    "        plt.xlabel(feature_names[i]+r'$\\times$'+feature_names[j])\n",
    "        plt.ylabel(label_name)"
   ]
  },
  {
   "cell_type": "markdown",
   "id": "0ab6da73",
   "metadata": {},
   "source": [
    "linear least squares: theta = (X.T * C^inv * X)^inv (X.T C^inv y)"
   ]
  },
  {
   "cell_type": "code",
   "execution_count": null,
   "id": "3cd2b055",
   "metadata": {},
   "outputs": [],
   "source": [
    "# XTCinvX = X.T @ Cinv @ X\n",
    "# XTCinvy = X.T @ Cinv @ y"
   ]
  },
  {
   "cell_type": "code",
   "execution_count": null,
   "id": "f2e4e74b",
   "metadata": {},
   "outputs": [],
   "source": [
    "# For now, assume C is the idendity and omit\n",
    "XTCinvX = X.T @ X\n",
    "XTCinvy = X.T @ y"
   ]
  },
  {
   "cell_type": "code",
   "execution_count": null,
   "id": "c80bbdc9",
   "metadata": {},
   "outputs": [],
   "source": [
    "res = np.linalg.lstsq(XTCinvX, XTCinvy, rcond=None)\n",
    "theta = res[0]\n",
    "print(theta)"
   ]
  },
  {
   "cell_type": "code",
   "execution_count": null,
   "id": "30a62e09",
   "metadata": {},
   "outputs": [],
   "source": [
    "def calc_y_pred(X, theta):\n",
    "    return X @ theta"
   ]
  },
  {
   "cell_type": "code",
   "execution_count": null,
   "id": "a3b8f64f",
   "metadata": {},
   "outputs": [],
   "source": [
    "y_pred = calc_y_pred(X, theta)\n",
    "y_pred_unscaled = unscale_y(y_pred, scale_name=y_scale_name)"
   ]
  },
  {
   "cell_type": "code",
   "execution_count": null,
   "id": "1cc7aa2a",
   "metadata": {},
   "outputs": [],
   "source": [
    "y_pred_full = np.zeros(y_full.shape)\n",
    "y_pred_full[idx_fit] = y_pred\n",
    "\n",
    "y_pred_full_unscaled = np.zeros(y_full.shape)\n",
    "y_pred_full_unscaled[idx_fit] = y_pred_unscaled"
   ]
  },
  {
   "cell_type": "markdown",
   "id": "08cf03d1",
   "metadata": {},
   "source": [
    "### Check out predictions:"
   ]
  },
  {
   "cell_type": "code",
   "execution_count": null,
   "id": "65ae4741",
   "metadata": {},
   "outputs": [],
   "source": [
    "plt.figure(figsize=(7,7))\n",
    "n_max = max(np.max(y), np.max(y_pred))\n",
    "xx = np.linspace(0, n_max)\n",
    "plt.plot(xx, xx, color='grey')\n",
    "plt.scatter(y, y_pred, s=1, alpha=0.05, color='k')\n",
    "plt.xlim(0,n_max)\n",
    "plt.ylim(-10,n_max)\n",
    "plt.xlabel('true '+label_name)\n",
    "plt.ylabel('predicted '+label_name)\n",
    "ax = plt.gca()\n",
    "ax.set_aspect('equal')"
   ]
  },
  {
   "cell_type": "code",
   "execution_count": null,
   "id": "9ffd6016",
   "metadata": {},
   "outputs": [],
   "source": [
    "for j in range(1, X.shape[1]):\n",
    "    plt.figure()\n",
    "    plt.xlabel(feature_names[j])\n",
    "    plt.ylabel(label_name)\n",
    "    \n",
    "    plt.scatter(X[:,j], y, s=1, alpha=0.05, color='k', label='true')\n",
    "    plt.scatter(X[:,j], y_pred, color='orange', s=1, alpha=0.2, label='predicted')\n",
    "    plt.legend()"
   ]
  },
  {
   "cell_type": "code",
   "execution_count": null,
   "id": "ec28a65a",
   "metadata": {},
   "outputs": [],
   "source": [
    "for j in range(1, X.shape[1]):\n",
    "    plt.figure()\n",
    "    plt.xlabel(feature_names[j])\n",
    "    plt.ylabel(f'residual (predicted -\\ntrue {label_name})')\n",
    "    plt.axhline(0, color='grey')\n",
    "    plt.scatter(X[:,j], y_pred-y, s=1, alpha=0.05, color='k', label='true')"
   ]
  },
  {
   "cell_type": "code",
   "execution_count": null,
   "id": "17aa7faf",
   "metadata": {},
   "outputs": [],
   "source": [
    "for j in range(1, X.shape[1]):\n",
    "    plt.figure()\n",
    "    plt.xlabel(feature_names[j])\n",
    "    plt.ylabel(f'not-really-residual (predicted -\\ntrue {label_name})')\n",
    "    \n",
    "    theta_dropout = theta.copy()\n",
    "    theta_dropout[j] = 0 #brittle\n",
    "    y_pred_dropout = calc_y_pred(X, theta_dropout)\n",
    "    \n",
    "    plt.scatter(X[:,j], y_pred_dropout-y, s=1, alpha=0.05, color='k', label='true')\n",
    "    \n",
    "    x_line = np.array(plt.xlim())\n",
    "    y_line = -theta[j]*x_line\n",
    "    plt.plot(x_line, y_line, 'r-', alpha=0.5)"
   ]
  },
  {
   "cell_type": "code",
   "execution_count": null,
   "id": "22f02271",
   "metadata": {
    "scrolled": false
   },
   "outputs": [],
   "source": [
    "for i in range(1, X.shape[1]):\n",
    "    for j in range(i, X.shape[1]):\n",
    "        plt.figure()\n",
    "        \n",
    "        plt.scatter(X[:,i]*X[:,j], y_pred-y, s=1, alpha=0.05, color='k', label='true')\n",
    "        plt.axhline(0, color='grey')\n",
    "        plt.xlabel(feature_names[i]+r'$\\times$'+feature_names[j])\n",
    "        plt.ylabel(f'residual (predicted -\\ntrue {label_name})')"
   ]
  },
  {
   "cell_type": "code",
   "execution_count": null,
   "id": "b6652148",
   "metadata": {},
   "outputs": [],
   "source": [
    "hp.mollview(y_pred_full_unscaled-map_nqso_data, title=rf\"Residuals (predicted - true {label_name})\",\n",
    "            unit=r\"number per healpixel\", cmap='bwr', coord=['C', 'G'], min=-10, max=10)\n",
    "hp.graticule()"
   ]
  },
  {
   "cell_type": "code",
   "execution_count": null,
   "id": "f93e8fb7",
   "metadata": {},
   "outputs": [],
   "source": [
    "print(np.mean(y_pred_full_unscaled))\n",
    "print(np.mean((y_pred_full_unscaled-map_nqso_data)**2))"
   ]
  },
  {
   "cell_type": "code",
   "execution_count": null,
   "id": "495b6f5b",
   "metadata": {},
   "outputs": [],
   "source": [
    "hp.mollview(y_pred_full_unscaled, title=rf\"Number of predicted Gaia QSOs\",\n",
    "            unit=r\"number per healpixel\", cmap='viridis', coord=['C', 'G'], min=0, max=n_max_map)\n",
    "hp.graticule()"
   ]
  },
  {
   "cell_type": "code",
   "execution_count": null,
   "id": "75095960",
   "metadata": {},
   "outputs": [],
   "source": [
    "hp.mollview(map_nqso_data, title=rf\"Number of Gaia quasars in clean catalog\",\n",
    "            unit=r\"number per healpixel\", cmap='viridis', coord=['C', 'G'], min=0, max=n_max_map)\n",
    "hp.graticule()"
   ]
  },
  {
   "cell_type": "markdown",
   "id": "fcfee596",
   "metadata": {},
   "source": [
    "# Make probability map for downsampling"
   ]
  },
  {
   "cell_type": "code",
   "execution_count": null,
   "id": "4d1b1e59",
   "metadata": {},
   "outputs": [],
   "source": [
    "nqso_clean = unscale_y(theta[0], scale_name=y_scale_name)\n",
    "print(nqso_clean)"
   ]
  },
  {
   "cell_type": "code",
   "execution_count": null,
   "id": "1df5e97e",
   "metadata": {},
   "outputs": [],
   "source": [
    "np.min(y_pred_full_unscaled), np.max(y_pred_full_unscaled)"
   ]
  },
  {
   "cell_type": "code",
   "execution_count": null,
   "id": "f4230b2e",
   "metadata": {},
   "outputs": [],
   "source": [
    "map_prob = y_pred_full_unscaled / nqso_clean"
   ]
  },
  {
   "cell_type": "code",
   "execution_count": null,
   "id": "6386c7a8",
   "metadata": {},
   "outputs": [],
   "source": [
    "hp.mollview(map_prob, title=rf\"Probability for subsampling\",\n",
    "            unit=r\"probability\", cmap='viridis', coord=['C', 'G'], min=0, max=1)\n",
    "hp.graticule()"
   ]
  },
  {
   "cell_type": "code",
   "execution_count": null,
   "id": "9da6ca83",
   "metadata": {},
   "outputs": [],
   "source": [
    "#fn_map_stardust_prob = f'../data/map/map_probability_dust_stars_m10_NSIDE{NSIDE}.fits'\n",
    "#hp.write_map(fn_map_stardust_prob, map_stardust_prob)"
   ]
  },
  {
   "cell_type": "markdown",
   "id": "f675ded9",
   "metadata": {},
   "source": [
    "# f it let's try a GP"
   ]
  },
  {
   "cell_type": "code",
   "execution_count": 23,
   "id": "3b5de49d",
   "metadata": {},
   "outputs": [],
   "source": [
    "import george"
   ]
  },
  {
   "cell_type": "code",
   "execution_count": 24,
   "id": "feb6647f",
   "metadata": {},
   "outputs": [],
   "source": [
    "# assuming poisson error on number counts\n",
    "if y_scale_name=='log':\n",
    "    yerr = 1/np.sqrt(y_unscaled) \n",
    "else:\n",
    "    yerr = np.clip(np.sqrt(y_unscaled), 1, None)"
   ]
  },
  {
   "cell_type": "code",
   "execution_count": 25,
   "id": "11320f92",
   "metadata": {},
   "outputs": [
    {
     "data": {
      "text/plain": [
       "((48984,), (48984, 4))"
      ]
     },
     "execution_count": 25,
     "metadata": {},
     "output_type": "execute_result"
    }
   ],
   "source": [
    "yerr.shape, X.shape"
   ]
  },
  {
   "cell_type": "code",
   "execution_count": null,
   "id": "3eeb7070",
   "metadata": {},
   "outputs": [],
   "source": [
    "ndim = X.shape[1]\n",
    "kernel = george.kernels.ExpSquaredKernel(1.0, ndim=ndim)\n",
    "gp = george.GP(kernel)\n",
    "gp.compute(X, yerr)"
   ]
  },
  {
   "cell_type": "code",
   "execution_count": null,
   "id": "45c67374",
   "metadata": {},
   "outputs": [],
   "source": [
    "y_pred_gp, pred_var = gp.predict(y, X, return_var=True)"
   ]
  },
  {
   "cell_type": "code",
   "execution_count": null,
   "id": "ee412bbb",
   "metadata": {},
   "outputs": [],
   "source": [
    "y_pred_gp_unscaled = unscale_y(y_pred_gp, scale_name=y_scale_name)"
   ]
  },
  {
   "cell_type": "code",
   "execution_count": null,
   "id": "c7dad8e9",
   "metadata": {},
   "outputs": [],
   "source": [
    "y_pred_gp_full = np.zeros(y_full.shape)\n",
    "y_pred_gp_full[idx_fit] = y_pred_gp\n",
    "\n",
    "y_pred_gp_full_unscaled = np.zeros(y_full.shape)\n",
    "y_pred_gp_full_unscaled[idx_fit] = y_pred_gp_unscaled"
   ]
  },
  {
   "cell_type": "code",
   "execution_count": null,
   "id": "b6f2b164",
   "metadata": {},
   "outputs": [],
   "source": [
    "plt.figure(figsize=(7,7))\n",
    "n_max = max(np.max(y), np.max(y_pred))\n",
    "xx = np.linspace(0, n_max)\n",
    "plt.plot(xx, xx, color='grey')\n",
    "plt.scatter(y, y_pred_gp, s=1, alpha=0.05, color='k')\n",
    "plt.xlim(0,n_max)\n",
    "plt.ylim(-10,n_max)\n",
    "plt.xlabel('true '+label_name)\n",
    "plt.ylabel('predicted '+label_name)\n",
    "ax = plt.gca()\n",
    "ax.set_aspect('equal')"
   ]
  },
  {
   "cell_type": "code",
   "execution_count": null,
   "id": "dee3c6a9",
   "metadata": {},
   "outputs": [],
   "source": [
    "for j in range(1, X.shape[1]):\n",
    "    plt.figure()\n",
    "    plt.xlabel(feature_names[j])\n",
    "    plt.ylabel(f'residual (predicted -\\ntrue {label_name})')\n",
    "    plt.axhline(0, color='grey')\n",
    "    plt.scatter(X[:,j], y_pred_gp-y, s=1, alpha=0.05, color='k', label='true')\n",
    "    if 'extinction' in feature_names[j]:\n",
    "        plt.xlim(-1,3)"
   ]
  },
  {
   "cell_type": "code",
   "execution_count": null,
   "id": "2c1dfd4c",
   "metadata": {},
   "outputs": [],
   "source": [
    "hp.mollview(y_pred_gp_full_unscaled-map_nqso_data, title=rf\"Residuals (predicted - true {label_name})\",\n",
    "            unit=r\"number per healpixel\", cmap='bwr', coord=['C', 'G'], min=-10, max=10)\n",
    "hp.graticule()"
   ]
  },
  {
   "cell_type": "code",
   "execution_count": null,
   "id": "18472105",
   "metadata": {},
   "outputs": [],
   "source": [
    "print(np.mean(y_pred_gp_full_unscaled))\n",
    "print(np.mean((y_pred_gp_full_unscaled-map_nqso_data)**2))"
   ]
  },
  {
   "cell_type": "code",
   "execution_count": null,
   "id": "a3064b87",
   "metadata": {},
   "outputs": [],
   "source": [
    "hp.mollview(map_nqso_data, title=rf\"Number of Gaia quasars in clean catalog\",\n",
    "            unit=r\"number per healpixel\", cmap='viridis', coord=['C', 'G'], min=0, max=n_max_map)\n",
    "hp.graticule()"
   ]
  },
  {
   "cell_type": "code",
   "execution_count": null,
   "id": "21855ab6",
   "metadata": {},
   "outputs": [],
   "source": [
    "hp.mollview(y_pred_gp_full_unscaled, title=rf\"Number of predicted Gaia QSOs\",\n",
    "            unit=r\"number per healpixel\", cmap='viridis', coord=['C', 'G'], min=0, max=n_max_map)\n",
    "hp.graticule()"
   ]
  },
  {
   "cell_type": "markdown",
   "id": "2d70f907",
   "metadata": {},
   "source": [
    "### Save as probability map"
   ]
  },
  {
   "cell_type": "code",
   "execution_count": null,
   "id": "d7f25c3f",
   "metadata": {},
   "outputs": [],
   "source": [
    "idx_clean = (map_dust < 0.03) & (map_stars < 15) & (map_m10 > 21)\n",
    "print(\"Number of clean pixels:\", np.sum(idx_clean), f\"(Total: {NPIX})\")\n",
    "nqso_clean = np.mean(map_nqso_data[idx_clean])\n",
    "print(nqso_clean)"
   ]
  },
  {
   "cell_type": "code",
   "execution_count": null,
   "id": "07901cc6",
   "metadata": {},
   "outputs": [],
   "source": [
    "map_prob = y_pred_gp_full_unscaled / nqso_clean\n",
    "map_prob[map_prob>1.0] = 1.0\n",
    "print(np.min(map_prob), np.max(map_prob))"
   ]
  },
  {
   "cell_type": "code",
   "execution_count": null,
   "id": "3a997a72",
   "metadata": {},
   "outputs": [],
   "source": [
    "hp.mollview(map_prob, title=rf\"Probability for subsampling\",\n",
    "            unit=r\"probability\", cmap='viridis', coord=['C', 'G'])#, min=0, max=1)\n",
    "hp.graticule()"
   ]
  },
  {
   "cell_type": "code",
   "execution_count": null,
   "id": "12bf7518",
   "metadata": {},
   "outputs": [],
   "source": [
    "# fn_map_prob = f'../data/maps/map_probability_dust_stars_m10_NSIDE{NSIDE}_G{G_max}.fits'\n",
    "# hp.write_map(fn_map_prob, map_prob)"
   ]
  },
  {
   "cell_type": "markdown",
   "id": "58b3b6ef",
   "metadata": {},
   "source": [
    "# GP with mean scaling"
   ]
  },
  {
   "cell_type": "code",
   "execution_count": null,
   "id": "be0ca453",
   "metadata": {},
   "outputs": [],
   "source": [
    "idx_clean = (map_dust < 0.03) & (map_stars < 15) & (map_m10 > 21)\n",
    "print(\"Number of clean pixels:\", np.sum(idx_clean), f\"(Total: {NPIX})\")\n",
    "nqso_mean_clean_regions = np.mean(map_nqso_data[idx_clean])\n",
    "print(nqso_mean_clean_regions)"
   ]
  },
  {
   "cell_type": "code",
   "execution_count": null,
   "id": "3488e8e6",
   "metadata": {},
   "outputs": [],
   "source": [
    "len(idx_clean), len(idx_fit), len(y_unscaled), X.shape"
   ]
  },
  {
   "cell_type": "code",
   "execution_count": null,
   "id": "6459e7a7",
   "metadata": {},
   "outputs": [],
   "source": [
    "yerr = 1/np.sqrt(y_unscaled) # assuming poisson error on number counts\n",
    "yerr[idx_clean[idx_fit]] = 1/np.sqrt(N_data)"
   ]
  },
  {
   "cell_type": "code",
   "execution_count": null,
   "id": "acd91c52",
   "metadata": {},
   "outputs": [],
   "source": [
    "yerr.shape, X.shape"
   ]
  },
  {
   "cell_type": "code",
   "execution_count": null,
   "id": "e3b078bc",
   "metadata": {},
   "outputs": [],
   "source": [
    "mean = np.log(nqso_mean_clean_regions)"
   ]
  },
  {
   "cell_type": "code",
   "execution_count": null,
   "id": "a943afce",
   "metadata": {},
   "outputs": [],
   "source": [
    "ndim = X.shape[1]\n",
    "kernel = george.kernels.ExpSquaredKernel(1.0, ndim=ndim)\n",
    "gp = george.GP(kernel, mean=mean)\n",
    "gp.compute(X, yerr)"
   ]
  },
  {
   "cell_type": "code",
   "execution_count": null,
   "id": "013b3dfa",
   "metadata": {},
   "outputs": [],
   "source": [
    "y_pred_gp, pred_var = gp.predict(y, X, return_var=True)"
   ]
  },
  {
   "cell_type": "code",
   "execution_count": null,
   "id": "f373c0cb",
   "metadata": {},
   "outputs": [],
   "source": [
    "y_pred_gp_unscaled = unscale_y(y_pred_gp, scale_name=y_scale_name)"
   ]
  },
  {
   "cell_type": "code",
   "execution_count": null,
   "id": "e8fd452b",
   "metadata": {},
   "outputs": [],
   "source": [
    "y_pred_gp_full = np.zeros(y_full.shape)\n",
    "y_pred_gp_full[idx_fit] = y_pred_gp\n",
    "\n",
    "y_pred_gp_full_unscaled = np.zeros(y_full.shape)\n",
    "y_pred_gp_full_unscaled[idx_fit] = y_pred_gp_unscaled"
   ]
  },
  {
   "cell_type": "code",
   "execution_count": null,
   "id": "5c882889",
   "metadata": {},
   "outputs": [],
   "source": [
    "plt.figure(figsize=(7,7))\n",
    "n_max = max(np.max(y), np.max(y_pred))\n",
    "xx = np.linspace(0, n_max)\n",
    "plt.plot(xx, xx, color='grey')\n",
    "plt.scatter(y, y_pred_gp, s=1, alpha=0.05, color='k')\n",
    "plt.xlim(0,n_max)\n",
    "plt.ylim(-10,n_max)\n",
    "plt.xlabel('true '+label_name)\n",
    "plt.ylabel('predicted '+label_name)\n",
    "ax = plt.gca()\n",
    "ax.set_aspect('equal')"
   ]
  },
  {
   "cell_type": "code",
   "execution_count": null,
   "id": "4d7139cb",
   "metadata": {},
   "outputs": [],
   "source": [
    "for j in range(1, X.shape[1]):\n",
    "    plt.figure()\n",
    "    plt.xlabel(feature_names[j])\n",
    "    plt.ylabel(f'residual (predicted -\\ntrue {label_name})')\n",
    "    plt.axhline(0, color='grey')\n",
    "    plt.scatter(X[:,j], y_pred_gp-y, s=1, alpha=0.05, color='k', label='true')\n",
    "    if 'extinction' in feature_names[j]:\n",
    "        plt.xlim(-1,3)"
   ]
  },
  {
   "cell_type": "code",
   "execution_count": null,
   "id": "a81583d7",
   "metadata": {},
   "outputs": [],
   "source": [
    "hp.mollview(y_pred_gp_full_unscaled-map_nqso_data, title=rf\"Residuals (predicted - true {label_name})\",\n",
    "            unit=r\"number per healpixel\", cmap='bwr', coord=['C', 'G'], min=-10, max=10)\n",
    "hp.graticule()"
   ]
  },
  {
   "cell_type": "code",
   "execution_count": null,
   "id": "db96633d",
   "metadata": {},
   "outputs": [],
   "source": [
    "hp.mollview(map_nqso_data, title=rf\"Number of Gaia quasars in clean catalog\",\n",
    "            unit=r\"number per healpixel\", cmap='viridis', coord=['C', 'G'], min=0, max=n_max_map)\n",
    "hp.graticule()"
   ]
  },
  {
   "cell_type": "code",
   "execution_count": null,
   "id": "40aa03d6",
   "metadata": {},
   "outputs": [],
   "source": [
    "hp.mollview(y_pred_gp_full_unscaled, title=rf\"Number of predicted Gaia QSOs\",\n",
    "            unit=r\"number per healpixel\", cmap='viridis', coord=['C', 'G'], min=0, max=n_max_map)\n",
    "hp.graticule()"
   ]
  },
  {
   "cell_type": "code",
   "execution_count": null,
   "id": "d89eacfd",
   "metadata": {},
   "outputs": [],
   "source": []
  }
 ],
 "metadata": {
  "kernelspec": {
   "display_name": "Python [conda env:gaiaenv]",
   "language": "python",
   "name": "conda-env-gaiaenv-py"
  },
  "language_info": {
   "codemirror_mode": {
    "name": "ipython",
    "version": 3
   },
   "file_extension": ".py",
   "mimetype": "text/x-python",
   "name": "python",
   "nbconvert_exporter": "python",
   "pygments_lexer": "ipython3",
   "version": "3.10.4"
  }
 },
 "nbformat": 4,
 "nbformat_minor": 5
}
