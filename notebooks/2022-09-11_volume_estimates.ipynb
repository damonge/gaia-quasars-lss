{
 "cells": [
  {
   "cell_type": "code",
   "execution_count": 1,
   "id": "2efb058c",
   "metadata": {},
   "outputs": [],
   "source": [
    "import healpy as hp\n",
    "import numpy as np\n",
    "from matplotlib import pyplot as plt\n",
    "\n",
    "from astropy.cosmology import Planck15\n",
    "import astropy.units as u\n",
    "\n",
    "import sys\n",
    "sys.path.insert(0,'../code')\n",
    "import utils\n",
    "import maps"
   ]
  },
  {
   "cell_type": "code",
   "execution_count": 2,
   "id": "d96e5746",
   "metadata": {},
   "outputs": [],
   "source": [
    "area_allsky = 41252.96125*(u.deg**2) #deg^2\n",
    "def volume_Gpcperh(cosmo, z_min, z_max, area):\n",
    "    v_inner = cosmo.comoving_volume(z_min)\n",
    "    v_outer = cosmo.comoving_volume(z_max)\n",
    "    v_shell = v_outer - v_inner\n",
    "    v_shell_Gpc = v_shell.to(u.Gpc**3)\n",
    "    v_shell_Gpcperh = v_shell_Gpc * cosmo.h**3\n",
    "\n",
    "    frac_sky = area / area_allsky\n",
    "    v_Gpc = frac_sky * v_shell_Gpc\n",
    "    v_Gpcperh = v_Gpc * cosmo.h**3\n",
    "\n",
    "    print(f\"Volume in shell between {z_min} < z < {z_max}: {v_shell_Gpc:.3f} = {v_shell_Gpcperh.value:.3f} (Gpc/h)^3\")\n",
    "    print(f\"Sky area is {area:.3f} which is {frac_sky:.3f} of the sky\")\n",
    "    print(f\"Volume is then {v_Gpc:.3f} = {v_Gpcperh.value:.3f} (Gpc/h)^3\")\n",
    "    return v_Gpcperh.value"
   ]
  },
  {
   "cell_type": "code",
   "execution_count": 3,
   "id": "95d81edc",
   "metadata": {},
   "outputs": [
    {
     "name": "stdout",
     "output_type": "stream",
     "text": [
      "Volume in shell between 0.8 < z < 2.2: 634.085 Gpc3 = 197.098 (Gpc/h)^3\n",
      "Sky area is 4808.000 deg2 which is 0.117 of the sky\n",
      "Volume is then 73.902 Gpc3 = 22.972 (Gpc/h)^3\n"
     ]
    }
   ],
   "source": [
    "# eBOSS DR16\n",
    "# https://academic.oup.com/mnras/article/514/3/3396/6566355?login=true\n",
    "vol_eboss = volume_Gpcperh(Planck15, 0.8, 2.2, 4808*(u.deg**2))"
   ]
  },
  {
   "cell_type": "code",
   "execution_count": 4,
   "id": "857167cf",
   "metadata": {},
   "outputs": [
    {
     "name": "stdout",
     "output_type": "stream",
     "text": [
      "Dustmap already exists, loading from ../data/maps/map_dust_NSIDE64.npy\n"
     ]
    }
   ],
   "source": [
    "# Gaia, Av < 0.2\n",
    "NSIDE = 64\n",
    "Av_max = 0.2\n",
    "fn_dustmap = f'../data/maps/map_dust_NSIDE{NSIDE}.npy'\n",
    "map_dust = maps.get_dust_map(NSIDE=NSIDE, R=3.1, fn_map=fn_dustmap)\n",
    "area_per_pixel = hp.nside2pixarea(NSIDE, degrees=True) * (u.deg**2)\n",
    "n_below_Avmax = np.sum(map_dust < Av_max)\n",
    "area_gaia_Av02 = area_per_pixel*n_below_Avmax"
   ]
  },
  {
   "cell_type": "code",
   "execution_count": 5,
   "id": "75813903",
   "metadata": {},
   "outputs": [
    {
     "name": "stdout",
     "output_type": "stream",
     "text": [
      "Volume in shell between 0.1 < z < 4: 1655.705 Gpc3 = 514.658 (Gpc/h)^3\n",
      "Sky area is 19541.274 deg2 which is 0.474 of the sky\n",
      "Volume is then 784.297 Gpc3 = 243.790 (Gpc/h)^3\n"
     ]
    },
    {
     "data": {
      "text/plain": [
       "243.79020144071328"
      ]
     },
     "execution_count": 5,
     "metadata": {},
     "output_type": "execute_result"
    }
   ],
   "source": [
    "volume_Gpcperh(Planck15, 0.1, 4, area_gaia_Av02)"
   ]
  },
  {
   "cell_type": "code",
   "execution_count": 6,
   "id": "8552e375",
   "metadata": {},
   "outputs": [],
   "source": [
    "# Gaia, Av < 0.5\n",
    "Av_max = 0.5\n",
    "\n",
    "n_below_Avmax = np.sum(map_dust < Av_max)\n",
    "area_gaia_Av05 = area_per_pixel*n_below_Avmax"
   ]
  },
  {
   "cell_type": "code",
   "execution_count": 7,
   "id": "3433b3f5",
   "metadata": {},
   "outputs": [
    {
     "name": "stdout",
     "output_type": "stream",
     "text": [
      "Volume in shell between 0.1 < z < 4: 1655.705 Gpc3 = 514.658 (Gpc/h)^3\n",
      "Sky area is 29154.543 deg2 which is 0.707 of the sky\n",
      "Volume is then 1170.130 Gpc3 = 363.722 (Gpc/h)^3\n"
     ]
    },
    {
     "data": {
      "text/plain": [
       "363.72203871692034"
      ]
     },
     "execution_count": 7,
     "metadata": {},
     "output_type": "execute_result"
    }
   ],
   "source": [
    "volume_Gpcperh(Planck15, 0.1, 4, area_gaia_Av05)"
   ]
  },
  {
   "cell_type": "code",
   "execution_count": 8,
   "id": "adf33468",
   "metadata": {},
   "outputs": [
    {
     "name": "stdout",
     "output_type": "stream",
     "text": [
      "Volume in shell between 0.0 < z < 0.0: 0.000 Gpc3 = 0.000 (Gpc/h)^3\n",
      "Sky area is 41252.961 deg2 which is 1.000 of the sky\n",
      "Volume is then 0.000 Gpc3 = 0.000 (Gpc/h)^3\n",
      "Volume in shell between 0.0 < z < 0.1: 0.338 Gpc3 = 0.105 (Gpc/h)^3\n",
      "Sky area is 41252.961 deg2 which is 1.000 of the sky\n",
      "Volume is then 0.338 Gpc3 = 0.105 (Gpc/h)^3\n",
      "Volume in shell between 0.0 < z < 0.2: 2.508 Gpc3 = 0.780 (Gpc/h)^3\n",
      "Sky area is 41252.961 deg2 which is 1.000 of the sky\n",
      "Volume is then 2.508 Gpc3 = 0.780 (Gpc/h)^3\n",
      "Volume in shell between 0.0 < z < 0.30000000000000004: 7.830 Gpc3 = 2.434 (Gpc/h)^3\n",
      "Sky area is 41252.961 deg2 which is 1.000 of the sky\n",
      "Volume is then 7.830 Gpc3 = 2.434 (Gpc/h)^3\n",
      "Volume in shell between 0.0 < z < 0.4: 17.132 Gpc3 = 5.325 (Gpc/h)^3\n",
      "Sky area is 41252.961 deg2 which is 1.000 of the sky\n",
      "Volume is then 17.132 Gpc3 = 5.325 (Gpc/h)^3\n",
      "Volume in shell between 0.0 < z < 0.5: 30.848 Gpc3 = 9.589 (Gpc/h)^3\n",
      "Sky area is 41252.961 deg2 which is 1.000 of the sky\n",
      "Volume is then 30.848 Gpc3 = 9.589 (Gpc/h)^3\n",
      "Volume in shell between 0.0 < z < 0.6000000000000001: 49.107 Gpc3 = 15.264 (Gpc/h)^3\n",
      "Sky area is 41252.961 deg2 which is 1.000 of the sky\n",
      "Volume is then 49.107 Gpc3 = 15.264 (Gpc/h)^3\n",
      "Volume in shell between 0.0 < z < 0.7000000000000001: 71.825 Gpc3 = 22.326 (Gpc/h)^3\n",
      "Sky area is 41252.961 deg2 which is 1.000 of the sky\n",
      "Volume is then 71.825 Gpc3 = 22.326 (Gpc/h)^3\n",
      "Volume in shell between 0.0 < z < 0.8: 98.772 Gpc3 = 30.702 (Gpc/h)^3\n",
      "Sky area is 41252.961 deg2 which is 1.000 of the sky\n",
      "Volume is then 98.772 Gpc3 = 30.702 (Gpc/h)^3\n",
      "Volume in shell between 0.0 < z < 0.9: 129.632 Gpc3 = 40.295 (Gpc/h)^3\n",
      "Sky area is 41252.961 deg2 which is 1.000 of the sky\n",
      "Volume is then 129.632 Gpc3 = 40.295 (Gpc/h)^3\n",
      "Volume in shell between 0.0 < z < 1.0: 164.042 Gpc3 = 50.991 (Gpc/h)^3\n",
      "Sky area is 41252.961 deg2 which is 1.000 of the sky\n",
      "Volume is then 164.042 Gpc3 = 50.991 (Gpc/h)^3\n",
      "Volume in shell between 0.0 < z < 1.1: 201.622 Gpc3 = 62.672 (Gpc/h)^3\n",
      "Sky area is 41252.961 deg2 which is 1.000 of the sky\n",
      "Volume is then 201.622 Gpc3 = 62.672 (Gpc/h)^3\n",
      "Volume in shell between 0.0 < z < 1.2000000000000002: 241.997 Gpc3 = 75.222 (Gpc/h)^3\n",
      "Sky area is 41252.961 deg2 which is 1.000 of the sky\n",
      "Volume is then 241.997 Gpc3 = 75.222 (Gpc/h)^3\n",
      "Volume in shell between 0.0 < z < 1.3: 284.804 Gpc3 = 88.528 (Gpc/h)^3\n",
      "Sky area is 41252.961 deg2 which is 1.000 of the sky\n",
      "Volume is then 284.804 Gpc3 = 88.528 (Gpc/h)^3\n",
      "Volume in shell between 0.0 < z < 1.4000000000000001: 329.707 Gpc3 = 102.486 (Gpc/h)^3\n",
      "Sky area is 41252.961 deg2 which is 1.000 of the sky\n",
      "Volume is then 329.707 Gpc3 = 102.486 (Gpc/h)^3\n",
      "Volume in shell between 0.0 < z < 1.5: 376.396 Gpc3 = 116.999 (Gpc/h)^3\n",
      "Sky area is 41252.961 deg2 which is 1.000 of the sky\n",
      "Volume is then 376.396 Gpc3 = 116.999 (Gpc/h)^3\n",
      "Volume in shell between 0.0 < z < 1.6: 424.588 Gpc3 = 131.978 (Gpc/h)^3\n",
      "Sky area is 41252.961 deg2 which is 1.000 of the sky\n",
      "Volume is then 424.588 Gpc3 = 131.978 (Gpc/h)^3\n",
      "Volume in shell between 0.0 < z < 1.7000000000000002: 474.028 Gpc3 = 147.346 (Gpc/h)^3\n",
      "Sky area is 41252.961 deg2 which is 1.000 of the sky\n",
      "Volume is then 474.028 Gpc3 = 147.346 (Gpc/h)^3\n",
      "Volume in shell between 0.0 < z < 1.8: 524.490 Gpc3 = 163.032 (Gpc/h)^3\n",
      "Sky area is 41252.961 deg2 which is 1.000 of the sky\n",
      "Volume is then 524.490 Gpc3 = 163.032 (Gpc/h)^3\n",
      "Volume in shell between 0.0 < z < 1.9000000000000001: 575.773 Gpc3 = 178.973 (Gpc/h)^3\n",
      "Sky area is 41252.961 deg2 which is 1.000 of the sky\n",
      "Volume is then 575.773 Gpc3 = 178.973 (Gpc/h)^3\n",
      "Volume in shell between 0.0 < z < 2.0: 627.696 Gpc3 = 195.113 (Gpc/h)^3\n",
      "Sky area is 41252.961 deg2 which is 1.000 of the sky\n",
      "Volume is then 627.696 Gpc3 = 195.113 (Gpc/h)^3\n",
      "Volume in shell between 0.0 < z < 2.1: 680.104 Gpc3 = 211.403 (Gpc/h)^3\n",
      "Sky area is 41252.961 deg2 which is 1.000 of the sky\n",
      "Volume is then 680.104 Gpc3 = 211.403 (Gpc/h)^3\n",
      "Volume in shell between 0.0 < z < 2.2: 732.857 Gpc3 = 227.801 (Gpc/h)^3\n",
      "Sky area is 41252.961 deg2 which is 1.000 of the sky\n",
      "Volume is then 732.857 Gpc3 = 227.801 (Gpc/h)^3\n",
      "Volume in shell between 0.0 < z < 2.3000000000000003: 785.834 Gpc3 = 244.268 (Gpc/h)^3\n",
      "Sky area is 41252.961 deg2 which is 1.000 of the sky\n",
      "Volume is then 785.834 Gpc3 = 244.268 (Gpc/h)^3\n",
      "Volume in shell between 0.0 < z < 2.4000000000000004: 838.929 Gpc3 = 260.772 (Gpc/h)^3\n",
      "Sky area is 41252.961 deg2 which is 1.000 of the sky\n",
      "Volume is then 838.929 Gpc3 = 260.772 (Gpc/h)^3\n",
      "Volume in shell between 0.0 < z < 2.5: 892.050 Gpc3 = 277.284 (Gpc/h)^3\n",
      "Sky area is 41252.961 deg2 which is 1.000 of the sky\n",
      "Volume is then 892.050 Gpc3 = 277.284 (Gpc/h)^3\n",
      "Volume in shell between 0.0 < z < 2.6: 945.115 Gpc3 = 293.779 (Gpc/h)^3\n",
      "Sky area is 41252.961 deg2 which is 1.000 of the sky\n",
      "Volume is then 945.115 Gpc3 = 293.779 (Gpc/h)^3\n",
      "Volume in shell between 0.0 < z < 2.7: 998.055 Gpc3 = 310.234 (Gpc/h)^3\n",
      "Sky area is 41252.961 deg2 which is 1.000 of the sky\n",
      "Volume is then 998.055 Gpc3 = 310.234 (Gpc/h)^3\n",
      "Volume in shell between 0.0 < z < 2.8000000000000003: 1050.809 Gpc3 = 326.632 (Gpc/h)^3\n",
      "Sky area is 41252.961 deg2 which is 1.000 of the sky\n",
      "Volume is then 1050.809 Gpc3 = 326.632 (Gpc/h)^3\n",
      "Volume in shell between 0.0 < z < 2.9000000000000004: 1103.324 Gpc3 = 342.956 (Gpc/h)^3\n",
      "Sky area is 41252.961 deg2 which is 1.000 of the sky\n",
      "Volume is then 1103.324 Gpc3 = 342.956 (Gpc/h)^3\n",
      "Volume in shell between 0.0 < z < 3.0: 1155.555 Gpc3 = 359.192 (Gpc/h)^3\n",
      "Sky area is 41252.961 deg2 which is 1.000 of the sky\n",
      "Volume is then 1155.555 Gpc3 = 359.192 (Gpc/h)^3\n",
      "Volume in shell between 0.0 < z < 3.1: 1207.464 Gpc3 = 375.327 (Gpc/h)^3\n",
      "Sky area is 41252.961 deg2 which is 1.000 of the sky\n",
      "Volume is then 1207.464 Gpc3 = 375.327 (Gpc/h)^3\n",
      "Volume in shell between 0.0 < z < 3.2: 1259.017 Gpc3 = 391.352 (Gpc/h)^3\n",
      "Sky area is 41252.961 deg2 which is 1.000 of the sky\n",
      "Volume is then 1259.017 Gpc3 = 391.352 (Gpc/h)^3\n",
      "Volume in shell between 0.0 < z < 3.3000000000000003: 1310.186 Gpc3 = 407.257 (Gpc/h)^3\n",
      "Sky area is 41252.961 deg2 which is 1.000 of the sky\n",
      "Volume is then 1310.186 Gpc3 = 407.257 (Gpc/h)^3\n",
      "Volume in shell between 0.0 < z < 3.4000000000000004: 1360.947 Gpc3 = 423.036 (Gpc/h)^3\n",
      "Sky area is 41252.961 deg2 which is 1.000 of the sky\n",
      "Volume is then 1360.947 Gpc3 = 423.036 (Gpc/h)^3\n",
      "Volume in shell between 0.0 < z < 3.5: 1411.281 Gpc3 = 438.681 (Gpc/h)^3\n",
      "Sky area is 41252.961 deg2 which is 1.000 of the sky\n",
      "Volume is then 1411.281 Gpc3 = 438.681 (Gpc/h)^3\n",
      "Volume in shell between 0.0 < z < 3.6: 1461.169 Gpc3 = 454.189 (Gpc/h)^3\n",
      "Sky area is 41252.961 deg2 which is 1.000 of the sky\n",
      "Volume is then 1461.169 Gpc3 = 454.189 (Gpc/h)^3\n",
      "Volume in shell between 0.0 < z < 3.7: 1510.600 Gpc3 = 469.553 (Gpc/h)^3\n",
      "Sky area is 41252.961 deg2 which is 1.000 of the sky\n",
      "Volume is then 1510.600 Gpc3 = 469.553 (Gpc/h)^3\n",
      "Volume in shell between 0.0 < z < 3.8000000000000003: 1559.561 Gpc3 = 484.773 (Gpc/h)^3\n",
      "Sky area is 41252.961 deg2 which is 1.000 of the sky\n",
      "Volume is then 1559.561 Gpc3 = 484.773 (Gpc/h)^3\n",
      "Volume in shell between 0.0 < z < 3.9000000000000004: 1608.045 Gpc3 = 499.843 (Gpc/h)^3\n",
      "Sky area is 41252.961 deg2 which is 1.000 of the sky\n",
      "Volume is then 1608.045 Gpc3 = 499.843 (Gpc/h)^3\n",
      "Volume in shell between 0.0 < z < 4.0: 1656.043 Gpc3 = 514.763 (Gpc/h)^3\n",
      "Sky area is 41252.961 deg2 which is 1.000 of the sky\n",
      "Volume is then 1656.043 Gpc3 = 514.763 (Gpc/h)^3\n",
      "Volume in shell between 0.0 < z < 4.1000000000000005: 1703.551 Gpc3 = 529.530 (Gpc/h)^3\n",
      "Sky area is 41252.961 deg2 which is 1.000 of the sky\n",
      "Volume is then 1703.551 Gpc3 = 529.530 (Gpc/h)^3\n",
      "Volume in shell between 0.0 < z < 4.2: 1750.566 Gpc3 = 544.144 (Gpc/h)^3\n",
      "Sky area is 41252.961 deg2 which is 1.000 of the sky\n",
      "Volume is then 1750.566 Gpc3 = 544.144 (Gpc/h)^3\n",
      "Volume in shell between 0.0 < z < 4.3: 1797.086 Gpc3 = 558.604 (Gpc/h)^3\n",
      "Sky area is 41252.961 deg2 which is 1.000 of the sky\n",
      "Volume is then 1797.086 Gpc3 = 558.604 (Gpc/h)^3\n",
      "Volume in shell between 0.0 < z < 4.4: 1843.109 Gpc3 = 572.910 (Gpc/h)^3\n",
      "Sky area is 41252.961 deg2 which is 1.000 of the sky\n",
      "Volume is then 1843.109 Gpc3 = 572.910 (Gpc/h)^3\n",
      "Volume in shell between 0.0 < z < 4.5: 1888.636 Gpc3 = 587.062 (Gpc/h)^3\n",
      "Sky area is 41252.961 deg2 which is 1.000 of the sky\n",
      "Volume is then 1888.636 Gpc3 = 587.062 (Gpc/h)^3\n",
      "Volume in shell between 0.0 < z < 4.6000000000000005: 1933.667 Gpc3 = 601.059 (Gpc/h)^3\n",
      "Sky area is 41252.961 deg2 which is 1.000 of the sky\n",
      "Volume is then 1933.667 Gpc3 = 601.059 (Gpc/h)^3\n",
      "Volume in shell between 0.0 < z < 4.7: 1978.205 Gpc3 = 614.903 (Gpc/h)^3\n",
      "Sky area is 41252.961 deg2 which is 1.000 of the sky\n",
      "Volume is then 1978.205 Gpc3 = 614.903 (Gpc/h)^3\n",
      "Volume in shell between 0.0 < z < 4.800000000000001: 2022.252 Gpc3 = 628.595 (Gpc/h)^3\n",
      "Sky area is 41252.961 deg2 which is 1.000 of the sky\n",
      "Volume is then 2022.252 Gpc3 = 628.595 (Gpc/h)^3\n",
      "Volume in shell between 0.0 < z < 4.9: 2065.810 Gpc3 = 642.135 (Gpc/h)^3\n",
      "Sky area is 41252.961 deg2 which is 1.000 of the sky\n",
      "Volume is then 2065.810 Gpc3 = 642.135 (Gpc/h)^3\n",
      "Volume in shell between 0.0 < z < 5.0: 2108.885 Gpc3 = 655.524 (Gpc/h)^3\n",
      "Sky area is 41252.961 deg2 which is 1.000 of the sky\n",
      "Volume is then 2108.885 Gpc3 = 655.524 (Gpc/h)^3\n",
      "Volume in shell between 0.0 < z < 5.1000000000000005: 2151.479 Gpc3 = 668.764 (Gpc/h)^3\n",
      "Sky area is 41252.961 deg2 which is 1.000 of the sky\n",
      "Volume is then 2151.479 Gpc3 = 668.764 (Gpc/h)^3\n",
      "Volume in shell between 0.0 < z < 5.2: 2193.597 Gpc3 = 681.855 (Gpc/h)^3\n",
      "Sky area is 41252.961 deg2 which is 1.000 of the sky\n",
      "Volume is then 2193.597 Gpc3 = 681.855 (Gpc/h)^3\n",
      "Volume in shell between 0.0 < z < 5.300000000000001: 2235.243 Gpc3 = 694.801 (Gpc/h)^3\n",
      "Sky area is 41252.961 deg2 which is 1.000 of the sky\n",
      "Volume is then 2235.243 Gpc3 = 694.801 (Gpc/h)^3\n",
      "Volume in shell between 0.0 < z < 5.4: 2276.424 Gpc3 = 707.601 (Gpc/h)^3\n",
      "Sky area is 41252.961 deg2 which is 1.000 of the sky\n",
      "Volume is then 2276.424 Gpc3 = 707.601 (Gpc/h)^3\n",
      "Volume in shell between 0.0 < z < 5.5: 2317.143 Gpc3 = 720.259 (Gpc/h)^3\n",
      "Sky area is 41252.961 deg2 which is 1.000 of the sky\n",
      "Volume is then 2317.143 Gpc3 = 720.259 (Gpc/h)^3\n",
      "Volume in shell between 0.0 < z < 5.6000000000000005: 2357.407 Gpc3 = 732.774 (Gpc/h)^3\n",
      "Sky area is 41252.961 deg2 which is 1.000 of the sky\n",
      "Volume is then 2357.407 Gpc3 = 732.774 (Gpc/h)^3\n",
      "Volume in shell between 0.0 < z < 5.7: 2397.220 Gpc3 = 745.150 (Gpc/h)^3\n",
      "Sky area is 41252.961 deg2 which is 1.000 of the sky\n",
      "Volume is then 2397.220 Gpc3 = 745.150 (Gpc/h)^3\n",
      "Volume in shell between 0.0 < z < 5.800000000000001: 2436.589 Gpc3 = 757.387 (Gpc/h)^3\n",
      "Sky area is 41252.961 deg2 which is 1.000 of the sky\n",
      "Volume is then 2436.589 Gpc3 = 757.387 (Gpc/h)^3\n",
      "Volume in shell between 0.0 < z < 5.9: 2475.520 Gpc3 = 769.488 (Gpc/h)^3\n",
      "Sky area is 41252.961 deg2 which is 1.000 of the sky\n",
      "Volume is then 2475.520 Gpc3 = 769.488 (Gpc/h)^3\n"
     ]
    }
   ],
   "source": [
    "z_maxs = np.arange(0, 6, 0.1)\n",
    "vs = []\n",
    "for z_max in z_maxs:\n",
    "    vs.append( volume_Gpcperh(Planck15, 0.0, z_max, area_allsky) )"
   ]
  },
  {
   "cell_type": "code",
   "execution_count": 9,
   "id": "1c172161",
   "metadata": {},
   "outputs": [
    {
     "data": {
      "text/plain": [
       "(0.0, 807.962558769022)"
      ]
     },
     "execution_count": 9,
     "metadata": {},
     "output_type": "execute_result"
    },
    {
     "data": {
      "image/png": "[encoded data removed]",
      "text/plain": [
       "<Figure size 576x432 with 1 Axes>"
      ]
     },
     "metadata": {
      "needs_background": "light"
     },
     "output_type": "display_data"
    }
   ],
   "source": [
    "plt.figure(figsize=(8,6))\n",
    "plt.plot(z_maxs, vs)\n",
    "plt.xlabel(\"maximum $z$\")\n",
    "plt.ylabel(\"comoving colume encompassed (Gpc/h)\")\n",
    "plt.xlim(0, np.max(z_maxs))\n",
    "plt.ylim(0)"
   ]
  },
  {
   "cell_type": "code",
   "execution_count": 10,
   "id": "c864794e",
   "metadata": {},
   "outputs": [
    {
     "data": {
      "text/plain": [
       "(0.0, 5.968892283937209)"
      ]
     },
     "execution_count": 10,
     "metadata": {},
     "output_type": "execute_result"
    },
    {
     "data": {
      "image/png": "[encoded data removed]",
      "text/plain": [
       "<Figure size 576x432 with 1 Axes>"
      ]
     },
     "metadata": {
      "needs_background": "light"
     },
     "output_type": "display_data"
    }
   ],
   "source": [
    "z_maxs = np.arange(0, 6, 0.1)\n",
    "Rs = []\n",
    "for z_max in z_maxs:\n",
    "    Rs.append( Planck15.comoving_distance(z_max).to(u.Gpc)*Planck15.h )\n",
    "\n",
    "Rs_val = [R.value for R in Rs]\n",
    "plt.figure(figsize=(8,6))\n",
    "plt.plot(z_maxs, Rs_val)\n",
    "plt.xlabel(\"maximum $z$\")\n",
    "plt.ylabel(\"comoving distance (Gpc/h)\")\n",
    "plt.xlim(0, np.max(z_maxs))\n",
    "plt.ylim(0)"
   ]
  },
  {
   "cell_type": "code",
   "execution_count": 11,
   "id": "1e3a90ed",
   "metadata": {},
   "outputs": [],
   "source": [
    "def ndens_of_z(z_arr, z_bins, cosmo):\n",
    "    \n",
    "    v_at_z_bins = np.empty(len(z_bins), dtype=u.Quantity)\n",
    "    for i in range(len(z_bins)):\n",
    "        v = cosmo.comoving_volume(z_bins[i])\n",
    "        v_at_z_bins[i] = v.to(u.Gpc**3)\n",
    "    v_shells = v_at_z_bins[1:] - v_at_z_bins[:-1] \n",
    "    \n",
    "    ndens = []\n",
    "    for i in range(len(z_bins)-1):\n",
    "        N_inbin = np.sum((z_arr >= z_bins[i]) & (z_arr < z_bins[i+1]))\n",
    "        ndens_inbin = N_inbin/v_shells[i]\n",
    "        ndens.append(ndens_inbin)\n",
    "    return ndens"
   ]
  },
  {
   "cell_type": "code",
   "execution_count": 12,
   "id": "efcc7877",
   "metadata": {},
   "outputs": [],
   "source": [
    "def volume_effective_Gpcperh(z_arr, z_bins, z_min, z_max, cosmo, area, P0):\n",
    "    \n",
    "    area_rad = area.to(u.rad**2)\n",
    "    ndens_at_z_bins = ndens_of_z(z_arr, z_bins, cosmo)\n",
    "    \n",
    "    v_at_z_bins = np.empty(len(z_bins), dtype=u.Quantity)\n",
    "    R_at_z_bins = np.empty(len(z_bins), dtype=u.Quantity)\n",
    "    for i in range(len(z_bins)):\n",
    "        v = cosmo.comoving_volume(z_bins[i])\n",
    "        v_at_z_bins[i] = v.to(u.Gpc**3)\n",
    "        R_at_z_bins[i] = cosmo.comoving_distance(z_bins[i]).to(u.Gpc)\n",
    "    v_shells = v_at_z_bins[1:] - v_at_z_bins[:-1] \n",
    "    \n",
    "    # discrete integral, just summing\n",
    "    def integrand(ndens, R, dRdz, dz):\n",
    "        #return (ndens * P0 /(1 + ndens * P0))**2 * area_rad.value * R**2 * dRdz  \n",
    "        return area_rad.value * R**2 * dRdz * dz\n",
    "\n",
    "    integral = 0\n",
    "    for i in range(len(z_bins)-1):\n",
    "        z_avg = 0.5*(z_bins[i] + z_bins[i+1])\n",
    "        \n",
    "        R = cosmo.comoving_distance(z_avg).to(u.Gpc)\n",
    "        dR = R_at_z_bins[i+1] - R_at_z_bins[i]\n",
    "        dz = z_bins[i+1] - z_bins[i]\n",
    "        dRdz = dR/dz\n",
    "        print(z_bins[i], z_bins[i+1], z_avg)\n",
    "        print(R)\n",
    "        print(ndens_at_z_bins[i].to(1/u.Mpc**3)/cosmo.h**3)\n",
    "        print(dR, dz, dRdz)\n",
    "        print()\n",
    "        integral += integrand(ndens_at_z_bins[i], R, dRdz, dz)\n",
    "\n",
    "    v_Gpc = integral.to(u.Gpc**3)\n",
    "    v_Gpcperh = v_Gpc * cosmo.h**3\n",
    "    print(f\"Sky area is {area:.3f} which is {area/area_allsky:.3f} of the sky\")\n",
    "    print(f\"Effective volume is {v_Gpc:.3f} = {v_Gpcperh.value:.3f} (Gpc/h)^3\")\n",
    "    return v_Gpcperh.value"
   ]
  },
  {
   "cell_type": "code",
   "execution_count": 13,
   "id": "d5821afe",
   "metadata": {},
   "outputs": [],
   "source": [
    "G_max = 20.4\n",
    "fn_gaia = f'../data/gaia_G{G_max}.fits'\n",
    "tab_gaia = utils.load_table(fn_gaia)"
   ]
  },
  {
   "cell_type": "code",
   "execution_count": 15,
   "id": "a1b3dfad",
   "metadata": {},
   "outputs": [
    {
     "name": "stdout",
     "output_type": "stream",
     "text": [
      "4.564\n"
     ]
    },
    {
     "data": {
      "text/plain": [
       "Text(0, 0.5, '$dN/dz$')"
      ]
     },
     "execution_count": 15,
     "metadata": {},
     "output_type": "execute_result"
    },
    {
     "data": {
      "image/png": "[encoded data removed]",
      "text/plain": [
       "<Figure size 432x288 with 1 Axes>"
      ]
     },
     "metadata": {
      "needs_background": "light"
     },
     "output_type": "display_data"
    }
   ],
   "source": [
    "z_spz = tab_gaia['redshift_spz']\n",
    "print(np.max(z_spz))\n",
    "z_bins = np.arange(0, 4.6, 0.1)\n",
    "plt.hist(z_spz, bins=z_bins, histtype='step')\n",
    "plt.xlabel(r'$z$')\n",
    "plt.ylabel(r'$dN/dz$')"
   ]
  },
  {
   "cell_type": "code",
   "execution_count": 17,
   "id": "7e67c44e",
   "metadata": {},
   "outputs": [
    {
     "data": {
      "text/plain": [
       "Text(0, 0.5, '$N(z) / deg^2 / \\\\Delta z$ $(\\\\Delta z=0.1)$')"
      ]
     },
     "execution_count": 17,
     "metadata": {},
     "output_type": "execute_result"
    },
    {
     "data": {
      "image/png": "[encoded data removed]",
      "text/plain": [
       "<Figure size 432x288 with 1 Axes>"
      ]
     },
     "metadata": {
      "needs_background": "light"
     },
     "output_type": "display_data"
    }
   ],
   "source": [
    "hist, _ = np.histogram(z_spz, bins=z_bins)\n",
    "hist = hist / area_gaia_Av05.to(u.deg**2).value\n",
    "dz = 0.1\n",
    "z_bins = np.arange(0, 4.6, dz)\n",
    "bin_centers = 0.5*(z_bins[:-1] + z_bins[1:])\n",
    "plt.step(bin_centers, hist, where='mid')\n",
    "plt.ylim(0)\n",
    "plt.xlabel(r'$z$')\n",
    "plt.ylabel(rf'$N(z) / deg^2 / \\Delta z$ $(\\Delta z={dz})$')"
   ]
  },
  {
   "cell_type": "code",
   "execution_count": 18,
   "id": "4ecc642d",
   "metadata": {},
   "outputs": [
    {
     "name": "stdout",
     "output_type": "stream",
     "text": [
      "45\n"
     ]
    }
   ],
   "source": [
    "n_bins = 20\n",
    "dz = 0.1\n",
    "z_bins = np.arange(0, 4.6, dz)\n",
    "ndens_gaia = ndens_of_z(z_spz, z_bins, Planck15)\n",
    "print(len(ndens_gaia))"
   ]
  },
  {
   "cell_type": "code",
   "execution_count": 19,
   "id": "562365a6",
   "metadata": {},
   "outputs": [
    {
     "data": {
      "text/plain": [
       "Text(0, 0.5, '$\\\\bar{n}(z)$, $(h\\\\,\\\\mathrm{Gpc}^{-1})^3$')"
      ]
     },
     "execution_count": 19,
     "metadata": {},
     "output_type": "execute_result"
    },
    {
     "data": {
      "image/png": "[encoded data removed]",
      "text/plain": [
       "<Figure size 504x360 with 1 Axes>"
      ]
     },
     "metadata": {
      "needs_background": "light"
     },
     "output_type": "display_data"
    }
   ],
   "source": [
    "ndens_gaia_val = [(n.to(1/u.Gpc**3)/Planck15.h**3).value for n in ndens_gaia]\n",
    "zs_avg = 0.5*(z_bins[1:]+z_bins[:-1])\n",
    "plt.figure(figsize=(7,5))\n",
    "plt.step(zs_avg, ndens_gaia_val, where='mid')\n",
    "plt.xlabel(r'$z$')\n",
    "plt.ylabel(r'$\\bar{n}(z)$, $(h\\,\\mathrm{Gpc}^{-1})^3$')"
   ]
  },
  {
   "cell_type": "code",
   "execution_count": 20,
   "id": "49f39fe2",
   "metadata": {},
   "outputs": [
    {
     "data": {
      "text/plain": [
       "Text(0, 0.5, '$10^5 \\\\bar{n}(z)$, $(h\\\\,\\\\mathrm{Mpc}^{-1})^3$')"
      ]
     },
     "execution_count": 20,
     "metadata": {},
     "output_type": "execute_result"
    },
    {
     "data": {
      "image/png": "[encoded data removed]",
      "text/plain": [
       "<Figure size 504x360 with 1 Axes>"
      ]
     },
     "metadata": {
      "needs_background": "light"
     },
     "output_type": "display_data"
    }
   ],
   "source": [
    "ndens_gaia_val = np.array([(n.to(1/u.Mpc**3)/Planck15.h**3).value for n in ndens_gaia])\n",
    "dz = 0.1\n",
    "z_bins = np.arange(0, 4.6, dz)\n",
    "zs_avg = 0.5*(z_bins[1:]+z_bins[:-1])\n",
    "plt.figure(figsize=(7,5))\n",
    "plt.step(zs_avg, 10**5 * ndens_gaia_val, where='mid')\n",
    "plt.xlabel(r'$z$')\n",
    "plt.ylabel(r'$10^5 \\bar{n}(z)$, $(h\\,\\mathrm{Mpc}^{-1})^3$')"
   ]
  },
  {
   "cell_type": "markdown",
   "id": "3152444b",
   "metadata": {},
   "source": [
    "eboss: ndens 1e-5 to edges, 0.8<z<2.2, 2e-5 at peak\n",
    "G20.0: ndens 2e-6 up to z=2; \n",
    "G20.4: ndens 3.5e-6 up to z=1.7; 3e-6 to z=1.8; 2.5e-6 to z=2 (4e-6 at peak)"
   ]
  },
  {
   "cell_type": "code",
   "execution_count": 22,
   "id": "2c32be05",
   "metadata": {},
   "outputs": [
    {
     "name": "stdout",
     "output_type": "stream",
     "text": [
      "0.0 0.1 0.05\n",
      "0.21869307288340017 Gpc\n",
      "2.8934951742691972e-06 1 / Mpc3\n",
      "0.4321244883487781 Gpc 0.1 4.321244883487781 Gpc\n",
      "\n",
      "0.1 0.2 0.15000000000000002\n",
      "0.6401967688824236 Gpc\n",
      "6.9899305342282066e-06 1 / Mpc3\n",
      "0.4107252249396704 Gpc 0.1 4.107252249396704 Gpc\n",
      "\n",
      "0.2 0.30000000000000004 0.25\n",
      "1.0400578777456695 Gpc\n",
      "9.664275270117614e-06 1 / Mpc3\n",
      "0.38897779920429976 Gpc 0.10000000000000003 3.8897779920429962 Gpc\n",
      "\n",
      "0.30000000000000004 0.4 0.35000000000000003\n",
      "1.4181931592244363 Gpc\n",
      "9.501788791789299e-06 1 / Mpc3\n",
      "0.367386578112475 Gpc 0.09999999999999998 3.673865781124751 Gpc\n",
      "\n",
      "0.4 0.5 0.45\n",
      "1.7749707431322723 Gpc\n",
      "6.176316008726663e-06 1 / Mpc3\n",
      "0.3463471714766766 Gpc 0.09999999999999998 3.463471714766767 Gpc\n",
      "\n",
      "0.5 0.6000000000000001 0.55\n",
      "2.111098245649437 Gpc\n",
      "5.142235331439649e-06 1 / Mpc3\n",
      "0.3261444847113464 Gpc 0.10000000000000009 3.2614448471134607 Gpc\n",
      "\n",
      "0.6000000000000001 0.7000000000000001 0.6500000000000001\n",
      "2.4275165669284067 Gpc\n",
      "4.255125306697295e-06 1 / Mpc3\n",
      "0.30696410914391503 Gpc 0.09999999999999998 3.069641091439151 Gpc\n",
      "\n",
      "0.7000000000000001 0.8 0.75\n",
      "2.7253090178838613 Gpc\n",
      "4.726808541671742e-06 1 / Mpc3\n",
      "0.2889100549750756 Gpc 0.09999999999999998 2.8891005497507565 Gpc\n",
      "\n",
      "0.8 0.9 0.8500000000000001\n",
      "3.0056293224540904 Gpc\n",
      "4.505612866502014e-06 1 / Mpc3\n",
      "0.2720237855114238 Gpc 0.09999999999999998 2.7202378551142385 Gpc\n",
      "\n",
      "0.9 1.0 0.95\n",
      "3.2696480868644002 Gpc\n",
      "3.97403808186847e-06 1 / Mpc3\n",
      "0.2563016155516875 Gpc 0.09999999999999998 2.5630161555168756 Gpc\n",
      "\n",
      "1.0 1.1 1.05\n",
      "3.5185152830819084 Gpc\n",
      "3.931548901042039e-06 1 / Mpc3\n",
      "0.2417091725584597 Gpc 0.10000000000000009 2.4170917255845947 Gpc\n",
      "\n",
      "1.1 1.2000000000000002 1.1500000000000001\n",
      "3.7533355824025474 Gpc\n",
      "4.043782633051087e-06 1 / Mpc3\n",
      "0.22819265744728723 Gpc 0.10000000000000009 2.28192657447287 Gpc\n",
      "\n",
      "1.2000000000000002 1.3 1.25\n",
      "3.9751534362934455 Gpc\n",
      "3.506246175832767e-06 1 / Mpc3\n",
      "0.21568718800590458 Gpc 0.09999999999999987 2.1568718800590485 Gpc\n",
      "\n",
      "1.3 1.4000000000000001 1.35\n",
      "4.184945225032294 Gpc\n",
      "3.7215999727748475e-06 1 / Mpc3\n",
      "0.20412272656148645 Gpc 0.10000000000000009 2.0412272656148627 Gpc\n",
      "\n",
      "1.4000000000000001 1.5 1.4500000000000002\n",
      "4.383616328786946 Gpc\n",
      "3.8226029863858016e-06 1 / Mpc3\n",
      "0.19342812628408446 Gpc 0.09999999999999987 1.9342812628408472 Gpc\n",
      "\n",
      "1.5 1.6 1.55\n",
      "4.572001488926085 Gpc\n",
      "3.623809223679645e-06 1 / Mpc3\n",
      "0.18353377464817378 Gpc 0.10000000000000009 1.8353377464817362 Gpc\n",
      "\n",
      "1.6 1.7000000000000002 1.6500000000000001\n",
      "4.75086726387682 Gpc\n",
      "3.4279591933476318e-06 1 / Mpc3\n",
      "0.1743732255018573 Gpc 0.10000000000000009 1.7437322550185714 Gpc\n",
      "\n",
      "1.7000000000000002 1.8 1.75\n",
      "4.920915730087122 Gpc\n",
      "3.090720080285885e-06 1 / Mpc3\n",
      "0.16588412257044727 Gpc 0.09999999999999987 1.658841225704475 Gpc\n",
      "\n",
      "1.8 1.9000000000000001 1.85\n",
      "5.0827888410227935 Gpc\n",
      "2.718475572117667e-06 1 / Mpc3\n",
      "0.15800863989718206 Gpc 0.10000000000000009 1.5800863989718192 Gpc\n",
      "\n",
      "1.9000000000000001 2.0 1.9500000000000002\n",
      "5.237073049596715 Gpc\n",
      "2.468785833622601e-06 1 / Mpc3\n",
      "0.15069360248377794 Gpc 0.09999999999999987 1.5069360248377814 Gpc\n",
      "\n",
      "2.0 2.1 2.05\n",
      "5.3843039371478145 Gpc\n",
      "2.126353224004381e-06 1 / Mpc3\n",
      "0.14389040270790243 Gpc 0.10000000000000009 1.438904027079023 Gpc\n",
      "\n",
      "2.1 2.2 2.1500000000000004\n",
      "5.524970688611682 Gpc\n",
      "1.962712225692043e-06 1 / Mpc3\n",
      "0.13755479275120308 Gpc 0.10000000000000009 1.3755479275120295 Gpc\n",
      "\n",
      "2.2 2.3000000000000003 2.25\n",
      "5.659520319904179 Gpc\n",
      "1.9737810549884186e-06 1 / Mpc3\n",
      "0.13164660769148107 Gpc 0.10000000000000009 1.3164660769148095 Gpc\n",
      "\n",
      "2.3000000000000003 2.4000000000000004 2.3500000000000005\n",
      "5.788361608310768 Gpc\n",
      "1.7498739001480511e-06 1 / Mpc3\n",
      "0.12612945573380419 Gpc 0.10000000000000009 1.2612945573380407 Gpc\n",
      "\n",
      "2.4000000000000004 2.5 2.45\n",
      "5.911868706208726 Gpc\n",
      "1.481353884900787e-06 1 / Mpc3\n",
      "0.12097039932898035 Gpc 0.09999999999999964 1.2097039932898077 Gpc\n",
      "\n",
      "2.5 2.6 2.55\n",
      "6.030384437389807 Gpc\n",
      "1.297444823368332e-06 1 / Mpc3\n",
      "0.11613964213768924 Gpc 0.10000000000000009 1.1613964213768913 Gpc\n",
      "\n",
      "2.6 2.7 2.6500000000000004\n",
      "6.1442232869224815 Gpc\n",
      "1.033498519221159e-06 1 / Mpc3\n",
      "0.11161023080840948 Gpc 0.10000000000000009 1.116102308084094 Gpc\n",
      "\n",
      "2.7 2.8000000000000003 2.75\n",
      "6.253674102245695 Gpc\n",
      "7.977235073324908e-07 1 / Mpc3\n",
      "0.10735777651431988 Gpc 0.10000000000000009 1.073577765143198 Gpc\n",
      "\n",
      "2.8000000000000003 2.9000000000000004 2.8500000000000005\n",
      "6.359002526663131 Gpc\n",
      "6.752121739914566e-07 1 / Mpc3\n",
      "0.10336019854005052 Gpc 0.10000000000000009 1.0336019854005043 Gpc\n",
      "\n",
      "2.9000000000000004 3.0 2.95\n",
      "6.460453187745596 Gpc\n",
      "5.247742899245686e-07 1 / Mpc3\n",
      "0.0995974904982857 Gpc 0.09999999999999964 0.9959749049828606 Gpc\n",
      "\n",
      "3.0 3.1 3.05\n",
      "6.55825166312995 Gpc\n",
      "4.172223411209153e-07 1 / Mpc3\n",
      "0.0960515086888254 Gpc 0.10000000000000009 0.960515086888253 Gpc\n",
      "\n",
      "3.1 3.2 3.1500000000000004\n",
      "6.6526062453552255 Gpc\n",
      "3.5401601250321436e-07 1 / Mpc3\n",
      "0.09270578148020547 Gpc 0.10000000000000009 0.927057814802054 Gpc\n",
      "\n",
      "3.2 3.3000000000000003 3.25\n",
      "6.743709526056208 Gpc\n",
      "2.809747562053219e-07 1 / Mpc3\n",
      "0.08954533825120059 Gpc 0.10000000000000009 0.8954533825120051 Gpc\n",
      "\n",
      "3.3000000000000003 3.4000000000000004 3.3500000000000005\n",
      "6.831739818276754 Gpc\n",
      "2.420371337842076e-07 1 / Mpc3\n",
      "0.08655655627642567 Gpc 0.10000000000000009 0.8655655627642559 Gpc\n",
      "\n",
      "3.4000000000000004 3.5 3.45\n",
      "6.916862434021655 Gpc\n",
      "1.473899429802513e-07 1 / Mpc3\n",
      "0.08372702390887543 Gpc 0.09999999999999964 0.8372702390887573 Gpc\n",
      "\n",
      "3.5 3.6 3.55\n",
      "6.999230832533492 Gpc\n",
      "1.191689392359778e-07 1 / Mpc3\n",
      "0.0810454184559406 Gpc 0.10000000000000009 0.8104541845594053 Gpc\n",
      "\n",
      "3.6 3.7 3.6500000000000004\n",
      "7.0789876532172045 Gpc\n",
      "9.443561982938345e-08 1 / Mpc3\n",
      "0.0785013972330546 Gpc 0.10000000000000009 0.7850139723305454 Gpc\n",
      "\n",
      "3.7 3.8000000000000003 3.75\n",
      "7.156265645672961 Gpc\n",
      "7.063498353082718e-08 1 / Mpc3\n",
      "0.07608550039029449 Gpc 0.10000000000000009 0.7608550039029442 Gpc\n",
      "\n",
      "3.8000000000000003 3.9000000000000004 3.8500000000000005\n",
      "7.231188507952949 Gpc\n",
      "4.618301511161714e-08 1 / Mpc3\n",
      "0.0737890642281478 Gpc 0.10000000000000009 0.7378906422814773 Gpc\n",
      "\n",
      "3.9000000000000004 4.0 3.95\n",
      "7.303871642935362 Gpc\n",
      "2.748034633890473e-08 1 / Mpc3\n",
      "0.07160414384067071 Gpc 0.09999999999999964 0.7160414384067096 Gpc\n",
      "\n",
      "4.0 4.1000000000000005 4.050000000000001\n",
      "7.374422841606914 Gpc\n",
      "1.7673981603703917e-08 1 / Mpc3\n",
      "0.06952344404285604 Gpc 0.10000000000000053 0.6952344404285568 Gpc\n",
      "\n",
      "4.1000000000000005 4.2 4.15\n",
      "7.442942901058526 Gpc\n",
      "1.1974731586553355e-08 1 / Mpc3\n",
      "0.06754025764984473 Gpc 0.09999999999999964 0.6754025764984497 Gpc\n",
      "\n",
      "4.2 4.3 4.25\n",
      "7.50952618411905 Gpc\n",
      "1.0235072935106388e-08 1 / Mpc3\n",
      "0.06564841027845958 Gpc 0.09999999999999964 0.6564841027845981 Gpc\n",
      "\n",
      "4.3 4.4 4.35\n",
      "7.574261126770204 Gpc\n",
      "2.027154367044969e-09 1 / Mpc3\n",
      "0.06384221093505982 Gpc 0.10000000000000053 0.6384221093505947 Gpc\n",
      "\n",
      "4.4 4.5 4.45\n",
      "7.637230698793061 Gpc\n",
      "1.5546072186845228e-09 1 / Mpc3\n",
      "0.06211640773765659 Gpc 0.09999999999999964 0.6211640773765681 Gpc\n",
      "\n",
      "Sky area is 29154.543 deg2 which is 0.707 of the sky\n",
      "Effective volume is 1334.911 Gpc3 = 414.942 (Gpc/h)^3\n"
     ]
    },
    {
     "data": {
      "text/plain": [
       "414.9424840557638"
      ]
     },
     "execution_count": 22,
     "metadata": {},
     "output_type": "execute_result"
    }
   ],
   "source": [
    "z_min, z_max = np.min(z_spz), np.max(z_spz)\n",
    "P0 = 10**4 * u.Mpc**3 * Planck15.h**3 \n",
    "volume_effective_Gpcperh(z_spz, z_bins, z_min, z_max, Planck15, area_gaia_Av05, P0)"
   ]
  },
  {
   "cell_type": "code",
   "execution_count": null,
   "id": "6b600847",
   "metadata": {},
   "outputs": [],
   "source": [
    "P0 = 10**4 * u.Mpc**3 * Planck15.h**3 \n",
    "ndens_gaia_Mpcperh = [n.to(1/u.Mpc**3)/Planck15.h**3 for n in ndens_gaia]\n",
    "ndens_gaia_Mpcperh = np.array([n.value for n in ndens_gaia_Mpcperh])*(1/u.Mpc**3)\n",
    "print(ndens_gaia_Mpcperh)\n",
    "print(P0)\n",
    "nP_ratio = ndens_gaia_Mpcperh * P0 /(1 + ndens_gaia_Mpcperh * P0)"
   ]
  },
  {
   "cell_type": "code",
   "execution_count": null,
   "id": "7eb669f3",
   "metadata": {},
   "outputs": [],
   "source": [
    "ndens_gaia_val = [(n.to(1/u.Gpc**3)/Planck15.h**3).value for n in ndens_gaia]\n",
    "zs_avg = 0.5*(z_bins[1:]+z_bins[:-1])\n",
    "plt.figure(figsize=(7,5))\n",
    "plt.step(zs_avg, nP_ratio, where='mid')\n",
    "plt.xlabel(r'$z$')\n",
    "plt.ylabel(r'$nP/(1+nP)$')"
   ]
  },
  {
   "cell_type": "code",
   "execution_count": null,
   "id": "5aad897a",
   "metadata": {},
   "outputs": [],
   "source": [
    "v_toz2 = volume_Gpcperh(Planck15, 0.1, 2, area_gaia_Av02)"
   ]
  },
  {
   "cell_type": "code",
   "execution_count": null,
   "id": "639d573e",
   "metadata": {},
   "outputs": [],
   "source": [
    "def sigP_over_P(V, n, P):\n",
    "    print(V, n, P)\n",
    "    return 1/np.sqrt(V) * (1+1/(n*P))"
   ]
  },
  {
   "cell_type": "code",
   "execution_count": null,
   "id": "042b4c01",
   "metadata": {},
   "outputs": [],
   "source": [
    "n = 2e-6 * u.Mpc**(-3) / Planck15.h**3\n",
    "sigP_over_P(v_toz2, n, P0)"
   ]
  },
  {
   "cell_type": "code",
   "execution_count": null,
   "id": "bc2f5468",
   "metadata": {
    "scrolled": true
   },
   "outputs": [],
   "source": [
    "print(vol_eboss)\n",
    "n_eboss = 1e-5 * u.Mpc**(-3) / Planck15.h**3\n",
    "sigP_over_P(vol_eboss, n_eboss, P0)"
   ]
  },
  {
   "cell_type": "code",
   "execution_count": null,
   "id": "f27cdbe9",
   "metadata": {},
   "outputs": [],
   "source": [
    "# Compared to eboss: factor of 5 worse in number density\n",
    "# maybe fac of 4 better in volume tho?? \n",
    "# eboss 0.11 of the sky, we are near a half, so makes sense w same z-range"
   ]
  },
  {
   "cell_type": "code",
   "execution_count": null,
   "id": "78574681",
   "metadata": {},
   "outputs": [],
   "source": [
    "# dunno what p0 should. be - looks near 0 at small k??"
   ]
  }
 ],
 "metadata": {
  "kernelspec": {
   "display_name": "Python [conda env:gaiaenv]",
   "language": "python",
   "name": "conda-env-gaiaenv-py"
  },
  "language_info": {
   "codemirror_mode": {
    "name": "ipython",
    "version": 3
   },
   "file_extension": ".py",
   "mimetype": "text/x-python",
   "name": "python",
   "nbconvert_exporter": "python",
   "pygments_lexer": "ipython3",
   "version": "3.10.4"
  }
 },
 "nbformat": 4,
 "nbformat_minor": 5
}
