{
 "cells": [
  {
   "cell_type": "code",
   "execution_count": 1,
   "id": "258138c8",
   "metadata": {},
   "outputs": [],
   "source": [
    "import numpy as np\n",
    "import matplotlib.pyplot as plt\n",
    "import matplotlib\n",
    "from matplotlib import cm\n",
    "import seaborn as sns\n",
    "import time\n",
    "\n",
    "import astropy\n",
    "import astropy.units as u\n",
    "from astropy.coordinates import SkyCoord, match_coordinates_sky\n",
    "from astropy.table import Table, join\n",
    "\n",
    "from dustmaps.sfd import SFDQuery\n",
    "\n",
    "import healpy as hp\n",
    "import pandas as pd\n",
    "from sklearn.neighbors import KDTree"
   ]
  },
  {
   "cell_type": "code",
   "execution_count": 2,
   "id": "decadef5",
   "metadata": {},
   "outputs": [],
   "source": [
    "# -------------------------------------------------------------------------------\n",
    "# plotting settings\n",
    "# -------------------------------------------------------------------------------\n",
    "\n",
    "colors = [\"windows blue\", \"amber\", \"greyish\", \"faded green\", \"dusty purple\", \"pale red\"]\n",
    "colors = sns.xkcd_palette(colors)\n",
    "#colors = sns.color_palette(\"Blues\")\n",
    "\n",
    "matplotlib.rcParams['ytick.labelsize'] = 18\n",
    "matplotlib.rcParams['xtick.labelsize'] = 18\n",
    "matplotlib.rcParams['axes.labelsize'] = 22\n",
    "matplotlib.rcParams['legend.fontsize'] = 18\n",
    "\n",
    "matplotlib.rc('text', usetex=True)\n",
    "fsize = 18\n",
    "\n",
    "colors_cont = [\"black\", \"grey\", \"light grey\"] \n",
    "colors_cont = sns.xkcd_palette(colors_cont)\n",
    "\n",
    "np.random.seed(40)"
   ]
  },
  {
   "cell_type": "markdown",
   "id": "2e2f84ff",
   "metadata": {},
   "source": [
    "## Read in data"
   ]
  },
  {
   "cell_type": "code",
   "execution_count": 3,
   "id": "cf0a3285",
   "metadata": {},
   "outputs": [
    {
     "name": "stdout",
     "output_type": "stream",
     "text": [
      "Total number of Gaia quasars: 6649162\n"
     ]
    }
   ],
   "source": [
    "#tab_gaia = Table.read('../data/gaia_wise_panstarrs_tmass.fits.gz', format='fits')\n",
    "tab_gaia_all = Table.read('../data/gaia_slim.fits', format='fits')\n",
    "print('Total number of Gaia quasars:', len(tab_gaia_all))"
   ]
  },
  {
   "cell_type": "code",
   "execution_count": 4,
   "id": "85dd50e3",
   "metadata": {},
   "outputs": [
    {
     "data": {
      "text/plain": [
       "['ra',\n",
       " 'dec',\n",
       " 'redshift_qsoc',\n",
       " 'l',\n",
       " 'b',\n",
       " 'source_id',\n",
       " 'parallax',\n",
       " 'parallax_error',\n",
       " 'pmra',\n",
       " 'pmra_error',\n",
       " 'pmdec',\n",
       " 'pmdec_error',\n",
       " 'phot_g_mean_mag',\n",
       " 'phot_bp_mean_mag',\n",
       " 'phot_rp_mean_mag',\n",
       " 'redshift_qsoc_lower',\n",
       " 'redshift_qsoc_upper',\n",
       " 'zscore_qsoc',\n",
       " 'flags_qsoc',\n",
       " 'allwise_oid',\n",
       " 'w1mpro',\n",
       " 'w2mpro',\n",
       " 'g_rp',\n",
       " 'bp_g',\n",
       " 'bp_rp',\n",
       " 'g_w1',\n",
       " 'w1_w2',\n",
       " 'ebv',\n",
       " 'A_v',\n",
       " 'pm']"
      ]
     },
     "execution_count": 4,
     "metadata": {},
     "output_type": "execute_result"
    }
   ],
   "source": [
    "tab_gaia_all.keys()"
   ]
  },
  {
   "cell_type": "code",
   "execution_count": 5,
   "id": "7cfcb4a0",
   "metadata": {},
   "outputs": [
    {
     "data": {
      "text/plain": [
       "3557119"
      ]
     },
     "execution_count": 5,
     "metadata": {},
     "output_type": "execute_result"
    }
   ],
   "source": [
    "np.sum(tab_gaia_all['phot_g_mean_mag'] < 20.4)"
   ]
  },
  {
   "cell_type": "code",
   "execution_count": 6,
   "id": "a683d8b7",
   "metadata": {},
   "outputs": [
    {
     "data": {
      "text/plain": [
       "6649162"
      ]
     },
     "execution_count": 6,
     "metadata": {},
     "output_type": "execute_result"
    }
   ],
   "source": [
    "G_max_spz = 20.5\n",
    "fn_spz = f'../data/redshifts_spz_kNN_G{G_max_spz}_noself.fits'\n",
    "tab_spz = Table.read(fn_spz, format='fits')\n",
    "len(tab_spz)"
   ]
  },
  {
   "cell_type": "code",
   "execution_count": 7,
   "id": "36e43de6",
   "metadata": {},
   "outputs": [
    {
     "data": {
      "text/plain": [
       "6649162"
      ]
     },
     "execution_count": 7,
     "metadata": {},
     "output_type": "execute_result"
    }
   ],
   "source": [
    "tab_gaia = astropy.table.join(tab_gaia_all, tab_spz, keys='source_id', join_type='left')\n",
    "len(tab_gaia)"
   ]
  },
  {
   "cell_type": "code",
   "execution_count": 8,
   "id": "36867721",
   "metadata": {},
   "outputs": [
    {
     "data": {
      "text/plain": [
       "1104830"
      ]
     },
     "execution_count": 8,
     "metadata": {},
     "output_type": "execute_result"
    }
   ],
   "source": [
    "idx_withspz = np.isfinite(tab_gaia['redshift_spz'])\n",
    "np.sum(idx_withspz)"
   ]
  },
  {
   "cell_type": "code",
   "execution_count": 9,
   "id": "dbb1d3dd",
   "metadata": {},
   "outputs": [
    {
     "data": {
      "text/plain": [
       "260114"
      ]
     },
     "execution_count": 9,
     "metadata": {},
     "output_type": "execute_result"
    }
   ],
   "source": [
    "idx_withsdss = np.isfinite(tab_gaia['redshift_sdss'])\n",
    "np.sum(idx_withsdss)"
   ]
  },
  {
   "cell_type": "code",
   "execution_count": 10,
   "id": "220508bc",
   "metadata": {},
   "outputs": [],
   "source": [
    "fn_sdss = '../data/sdss_slim.fits'\n",
    "tab_sdss = Table.read(fn_sdss, format='fits')"
   ]
  },
  {
   "cell_type": "code",
   "execution_count": 11,
   "id": "52d2c6df",
   "metadata": {},
   "outputs": [],
   "source": [
    "fn_sdss_full = '../data/SDSS_DR16Q_v4.fits'\n",
    "tab_sdss_full = Table.read(fn_sdss_full, format='fits')"
   ]
  },
  {
   "cell_type": "code",
   "execution_count": 12,
   "id": "3f7c81ef",
   "metadata": {},
   "outputs": [
    {
     "data": {
      "text/plain": [
       "['SDSS_NAME',\n",
       " 'RA',\n",
       " 'DEC',\n",
       " 'PLATE',\n",
       " 'MJD',\n",
       " 'FIBERID',\n",
       " 'AUTOCLASS_PQN',\n",
       " 'AUTOCLASS_DR14Q',\n",
       " 'IS_QSO_QN',\n",
       " 'Z_QN',\n",
       " 'RANDOM_SELECT',\n",
       " 'Z_10K',\n",
       " 'Z_CONF_10K',\n",
       " 'PIPE_CORR_10K',\n",
       " 'IS_QSO_10K',\n",
       " 'THING_ID',\n",
       " 'Z_VI',\n",
       " 'Z_CONF',\n",
       " 'CLASS_PERSON',\n",
       " 'Z_DR12Q',\n",
       " 'IS_QSO_DR12Q',\n",
       " 'Z_DR7Q_SCH',\n",
       " 'IS_QSO_DR7Q',\n",
       " 'Z_DR6Q_HW',\n",
       " 'Z_DR7Q_HW',\n",
       " 'IS_QSO_FINAL',\n",
       " 'Z',\n",
       " 'SOURCE_Z',\n",
       " 'Z_PIPE',\n",
       " 'ZWARNING',\n",
       " 'OBJID',\n",
       " 'Z_PCA',\n",
       " 'ZWARN_PCA',\n",
       " 'DELTACHI2_PCA',\n",
       " 'Z_HALPHA',\n",
       " 'ZWARN_HALPHA',\n",
       " 'DELTACHI2_HALPHA',\n",
       " 'Z_HBETA',\n",
       " 'ZWARN_HBETA',\n",
       " 'DELTACHI2_HBETA',\n",
       " 'Z_MGII',\n",
       " 'ZWARN_MGII',\n",
       " 'DELTACHI2_MGII',\n",
       " 'Z_CIII',\n",
       " 'ZWARN_CIII',\n",
       " 'DELTACHI2_CIII',\n",
       " 'Z_CIV',\n",
       " 'ZWARN_CIV',\n",
       " 'DELTACHI2_CIV',\n",
       " 'Z_LYA',\n",
       " 'ZWARN_LYA',\n",
       " 'DELTACHI2_LYA',\n",
       " 'Z_LYAWG',\n",
       " 'Z_DLA',\n",
       " 'NHI_DLA',\n",
       " 'CONF_DLA',\n",
       " 'BAL_PROB',\n",
       " 'BI_CIV',\n",
       " 'ERR_BI_CIV',\n",
       " 'AI_CIV',\n",
       " 'ERR_AI_CIV',\n",
       " 'BI_SIIV',\n",
       " 'ERR_BI_SIIV',\n",
       " 'AI_SIIV',\n",
       " 'ERR_AI_SIIV',\n",
       " 'BOSS_TARGET1',\n",
       " 'EBOSS_TARGET0',\n",
       " 'EBOSS_TARGET1',\n",
       " 'EBOSS_TARGET2',\n",
       " 'ANCILLARY_TARGET1',\n",
       " 'ANCILLARY_TARGET2',\n",
       " 'NSPEC_SDSS',\n",
       " 'NSPEC_BOSS',\n",
       " 'NSPEC',\n",
       " 'PLATE_DUPLICATE',\n",
       " 'MJD_DUPLICATE',\n",
       " 'FIBERID_DUPLICATE',\n",
       " 'SPECTRO_DUPLICATE',\n",
       " 'SKYVERSION',\n",
       " 'RUN_NUMBER',\n",
       " 'RERUN_NUMBER',\n",
       " 'CAMCOL_NUMBER',\n",
       " 'FIELD_NUMBER',\n",
       " 'ID_NUMBER',\n",
       " 'LAMBDA_EFF',\n",
       " 'ZOFFSET',\n",
       " 'XFOCAL',\n",
       " 'YFOCAL',\n",
       " 'CHUNK',\n",
       " 'TILE',\n",
       " 'PLATESN2',\n",
       " 'PSFFLUX',\n",
       " 'PSFFLUX_IVAR',\n",
       " 'PSFMAG',\n",
       " 'PSFMAGERR',\n",
       " 'EXTINCTION',\n",
       " 'M_I',\n",
       " 'SN_MEDIAN_ALL',\n",
       " 'GALEX_MATCHED',\n",
       " 'FUV',\n",
       " 'FUV_IVAR',\n",
       " 'NUV',\n",
       " 'NUV_IVAR',\n",
       " 'UKIDSS_MATCHED',\n",
       " 'YFLUX',\n",
       " 'YFLUX_ERR',\n",
       " 'JFLUX',\n",
       " 'JFLUX_ERR',\n",
       " 'HFLUX',\n",
       " 'HFLUX_ERR',\n",
       " 'KFLUX',\n",
       " 'KFLUX_ERR',\n",
       " 'W1_FLUX',\n",
       " 'W1_FLUX_IVAR',\n",
       " 'W1_MAG',\n",
       " 'W1_MAG_ERR',\n",
       " 'W1_CHI2',\n",
       " 'W1_FLUX_SNR',\n",
       " 'W1_SRC_FRAC',\n",
       " 'W1_EXT_FLUX',\n",
       " 'W1_EXT_FRAC',\n",
       " 'W1_NPIX',\n",
       " 'W2_FLUX',\n",
       " 'W2_FLUX_IVAR',\n",
       " 'W2_MAG',\n",
       " 'W2_MAG_ERR',\n",
       " 'W2_CHI2',\n",
       " 'W2_FLUX_SNR',\n",
       " 'W2_SRC_FRAC',\n",
       " 'W2_EXT_FLUX',\n",
       " 'W2_EXT_FRAC',\n",
       " 'W2_NPIX',\n",
       " 'FIRST_MATCHED',\n",
       " 'FIRST_FLUX',\n",
       " 'FIRST_SNR',\n",
       " 'SDSS2FIRST_SEP',\n",
       " 'JMAG',\n",
       " 'JMAG_ERR',\n",
       " 'JSNR',\n",
       " 'JRDFLAG',\n",
       " 'HMAG',\n",
       " 'HMAG_ERR',\n",
       " 'HSNR',\n",
       " 'HRDFLAG',\n",
       " 'KMAG',\n",
       " 'KMAG_ERR',\n",
       " 'KSNR',\n",
       " 'KRDFLAG',\n",
       " 'SDSS2MASS_SEP',\n",
       " '2RXS_ID',\n",
       " '2RXS_RA',\n",
       " '2RXS_DEC',\n",
       " '2RXS_SRC_FLUX',\n",
       " '2RXS_SRC_FLUX_ERR',\n",
       " 'SDSS2ROSAT_SEP',\n",
       " 'XMM_SRC_ID',\n",
       " 'XMM_RA',\n",
       " 'XMM_DEC',\n",
       " 'XMM_SOFT_FLUX',\n",
       " 'XMM_SOFT_FLUX_ERR',\n",
       " 'XMM_HARD_FLUX',\n",
       " 'XMM_HARD_FLUX_ERR',\n",
       " 'XMM_TOTAL_FLUX',\n",
       " 'XMM_TOTAL_FLUX_ERR',\n",
       " 'XMM_TOTAL_LUM',\n",
       " 'SDSS2XMM_SEP',\n",
       " 'GAIA_MATCHED',\n",
       " 'GAIA_DESIGNATION',\n",
       " 'GAIA_RA',\n",
       " 'GAIA_DEC',\n",
       " 'GAIA_PARALLAX',\n",
       " 'GAIA_PARALLAX_ERR',\n",
       " 'GAIA_PM_RA',\n",
       " 'GAIA_PM_RA_ERR',\n",
       " 'GAIA_PM_DEC',\n",
       " 'GAIA_PM_DEC_ERR',\n",
       " 'GAIA_G_MAG',\n",
       " 'GAIA_G_FLUX_SNR',\n",
       " 'GAIA_BP_MAG',\n",
       " 'GAIA_BP_FLUX_SNR',\n",
       " 'GAIA_RP_MAG',\n",
       " 'GAIA_RP_FLUX_SNR',\n",
       " 'SDSS2GAIA_SEP']"
      ]
     },
     "execution_count": 12,
     "metadata": {},
     "output_type": "execute_result"
    }
   ],
   "source": [
    "tab_sdss_full.keys()"
   ]
  },
  {
   "cell_type": "markdown",
   "id": "c3475bc8",
   "metadata": {},
   "source": [
    "# G20.4"
   ]
  },
  {
   "cell_type": "code",
   "execution_count": 13,
   "id": "b6d67031",
   "metadata": {},
   "outputs": [
    {
     "name": "stdout",
     "output_type": "stream",
     "text": [
      "Gaia quasars with G<20.4 that make our color cuts: 1001557\n"
     ]
    }
   ],
   "source": [
    "#tab_gaia = Table.read('../data/gaia_wise_panstarrs_tmass.fits.gz', format='fits')\n",
    "tab_g = Table.read('../data/gaia_G20.4.fits', format='fits')\n",
    "print('Gaia quasars with G<20.4 that make our color cuts:', len(tab_g))"
   ]
  },
  {
   "cell_type": "code",
   "execution_count": 14,
   "id": "b8d8e906",
   "metadata": {},
   "outputs": [
    {
     "data": {
      "text/plain": [
       "masked"
      ]
     },
     "execution_count": 14,
     "metadata": {},
     "output_type": "execute_result"
    }
   ],
   "source": [
    "tab_g['redshift_sdss'][5]"
   ]
  },
  {
   "cell_type": "code",
   "execution_count": 15,
   "id": "926bccf8",
   "metadata": {},
   "outputs": [
    {
     "name": "stdout",
     "output_type": "stream",
     "text": [
      "761659\n"
     ]
    }
   ],
   "source": [
    "idx_gNOTsdss = tab_g['redshift_sdss'].mask # these are masked for some reason - but this works\n",
    "print(np.sum(idx_gNOTsdss))"
   ]
  },
  {
   "cell_type": "code",
   "execution_count": 17,
   "id": "b5290034",
   "metadata": {},
   "outputs": [
    {
     "name": "stdout",
     "output_type": "stream",
     "text": [
      "23994\n"
     ]
    },
    {
     "data": {
      "image/png": "[encoded data removed]",
      "text/plain": [
       "<Figure size 432x288 with 1 Axes>"
      ]
     },
     "metadata": {
      "needs_background": "light"
     },
     "output_type": "display_data"
    }
   ],
   "source": [
    "param_name = 'BI_CIV'\n",
    "#bins = np.linspace(0, np.max(, 50)\n",
    "vals = tab_sdss_full[param_name]\n",
    "idx_hasbi = (vals!=0) & (vals!=-1)\n",
    "bins = np.linspace(0, 10000, 50)\n",
    "print(np.sum(idx_hasbi))\n",
    "_ = plt.hist(vals[idx_hasbi], bins=bins)"
   ]
  },
  {
   "cell_type": "code",
   "execution_count": 18,
   "id": "c5acfb90",
   "metadata": {},
   "outputs": [
    {
     "name": "stdout",
     "output_type": "stream",
     "text": [
      "107045\n"
     ]
    },
    {
     "data": {
      "image/png": "[encoded data removed]",
      "text/plain": [
       "<Figure size 432x288 with 1 Axes>"
      ]
     },
     "metadata": {
      "needs_background": "light"
     },
     "output_type": "display_data"
    }
   ],
   "source": [
    "param_name = 'AI_CIV'\n",
    "vals = tab_sdss_full[param_name]\n",
    "idx_hasbi = (vals!=0) & (vals!=-1)\n",
    "bins = np.linspace(0, 10000, 50)\n",
    "print(np.sum(idx_hasbi))\n",
    "_ = plt.hist(vals[idx_hasbi], bins=bins)"
   ]
  },
  {
   "cell_type": "code",
   "execution_count": 19,
   "id": "4d708a96",
   "metadata": {},
   "outputs": [
    {
     "name": "stdout",
     "output_type": "stream",
     "text": [
      "5970\n"
     ]
    },
    {
     "data": {
      "image/png": "[encoded data removed]",
      "text/plain": [
       "<Figure size 432x288 with 1 Axes>"
      ]
     },
     "metadata": {
      "needs_background": "light"
     },
     "output_type": "display_data"
    }
   ],
   "source": [
    "param_name = 'BI_SIIV'\n",
    "vals = tab_sdss_full[param_name]\n",
    "idx_hasbi = (vals!=0) & (vals!=-1)\n",
    "bins = np.linspace(0, 10000, 50)\n",
    "print(np.sum(idx_hasbi))\n",
    "_ = plt.hist(vals[idx_hasbi], bins=bins)"
   ]
  },
  {
   "cell_type": "markdown",
   "id": "048e5f63",
   "metadata": {},
   "source": [
    "# Investigate objects in Gaia but not SDSS"
   ]
  },
  {
   "cell_type": "code",
   "execution_count": 24,
   "id": "bfcb45e5",
   "metadata": {},
   "outputs": [
    {
     "data": {
      "text/plain": [
       "(1001557, 6649162)"
      ]
     },
     "execution_count": 24,
     "metadata": {},
     "output_type": "execute_result"
    }
   ],
   "source": [
    "len(idx_gNOTsdss), len(idx_withsdss)"
   ]
  },
  {
   "cell_type": "code",
   "execution_count": 48,
   "id": "3bd78517",
   "metadata": {},
   "outputs": [],
   "source": [
    "i_G205 = tab_gaia_all['phot_g_mean_mag'] < 20.5"
   ]
  },
  {
   "cell_type": "code",
   "execution_count": 47,
   "id": "809a700f",
   "metadata": {},
   "outputs": [
    {
     "data": {
      "text/plain": [
       "20.499992"
      ]
     },
     "execution_count": 47,
     "metadata": {},
     "output_type": "execute_result"
    }
   ],
   "source": [
    "np.max(tab_gaia['phot_g_mean_mag'])\n",
    "np.max(tab_gaia['phot_g_mean_mag'][idx_withsdss])"
   ]
  },
  {
   "cell_type": "code",
   "execution_count": 57,
   "id": "b65a2f34",
   "metadata": {},
   "outputs": [
    {
     "ename": "IndexError",
     "evalue": "boolean index did not match indexed array along dimension 0; dimension is 6649162 but corresponding boolean dimension is 1001557",
     "output_type": "error",
     "traceback": [
      "\u001b[0;31m---------------------------------------------------------------------------\u001b[0m",
      "\u001b[0;31mIndexError\u001b[0m                                Traceback (most recent call last)",
      "Input \u001b[0;32mIn [57]\u001b[0m, in \u001b[0;36m<cell line: 7>\u001b[0;34m()\u001b[0m\n\u001b[1;32m      5\u001b[0m plt\u001b[38;5;241m.\u001b[39mhist(tab_gaia_all[\u001b[38;5;124m'\u001b[39m\u001b[38;5;124mg_w1\u001b[39m\u001b[38;5;124m'\u001b[39m][i_G205], histtype\u001b[38;5;241m=\u001b[39m\u001b[38;5;124m'\u001b[39m\u001b[38;5;124mstep\u001b[39m\u001b[38;5;124m'\u001b[39m, bins\u001b[38;5;241m=\u001b[39mbins, label\u001b[38;5;241m=\u001b[39m\u001b[38;5;124mr\u001b[39m\u001b[38;5;124m'\u001b[39m\u001b[38;5;124mGaia $G<20.5$\u001b[39m\u001b[38;5;124m'\u001b[39m, density\u001b[38;5;241m=\u001b[39mdensity)\n\u001b[1;32m      6\u001b[0m plt\u001b[38;5;241m.\u001b[39mhist(tab_gaia[\u001b[38;5;124m'\u001b[39m\u001b[38;5;124mg_w1\u001b[39m\u001b[38;5;124m'\u001b[39m][idx_withsdss], histtype\u001b[38;5;241m=\u001b[39m\u001b[38;5;124m'\u001b[39m\u001b[38;5;124mstep\u001b[39m\u001b[38;5;124m'\u001b[39m, bins\u001b[38;5;241m=\u001b[39mbins, label\u001b[38;5;241m=\u001b[39m\u001b[38;5;124m'\u001b[39m\u001b[38;5;124m+ Has SDSS match\u001b[39m\u001b[38;5;124m'\u001b[39m, density\u001b[38;5;241m=\u001b[39mdensity)\n\u001b[0;32m----> 7\u001b[0m plt\u001b[38;5;241m.\u001b[39mhist(\u001b[43mtab_gaia\u001b[49m\u001b[43m[\u001b[49m\u001b[38;5;124;43m'\u001b[39;49m\u001b[38;5;124;43mg_w1\u001b[39;49m\u001b[38;5;124;43m'\u001b[39;49m\u001b[43m]\u001b[49m\u001b[43m[\u001b[49m\u001b[43midx_gNOTsdss\u001b[49m\u001b[43m]\u001b[49m, histtype\u001b[38;5;241m=\u001b[39m\u001b[38;5;124m'\u001b[39m\u001b[38;5;124mstep\u001b[39m\u001b[38;5;124m'\u001b[39m, bins\u001b[38;5;241m=\u001b[39mbins, label\u001b[38;5;241m=\u001b[39m\u001b[38;5;124m'\u001b[39m\u001b[38;5;124m+ No SDSS match\u001b[39m\u001b[38;5;124m'\u001b[39m, density\u001b[38;5;241m=\u001b[39mdensity)\n\u001b[1;32m      9\u001b[0m plt\u001b[38;5;241m.\u001b[39mxlabel(\u001b[38;5;124mr\u001b[39m\u001b[38;5;124m'\u001b[39m\u001b[38;5;124m$G-W1$\u001b[39m\u001b[38;5;124m'\u001b[39m)\n\u001b[1;32m     10\u001b[0m plt\u001b[38;5;241m.\u001b[39mylabel(\u001b[38;5;124m\"\u001b[39m\u001b[38;5;124mnormalized number counts\u001b[39m\u001b[38;5;124m\"\u001b[39m)\n",
      "File \u001b[0;32mastropy/table/_column_mixins.pyx:87\u001b[0m, in \u001b[0;36mastropy.table._column_mixins._MaskedColumnGetitemShim.__getitem__\u001b[0;34m()\u001b[0m\n",
      "File \u001b[0;32mastropy/table/_column_mixins.pyx:57\u001b[0m, in \u001b[0;36mastropy.table._column_mixins.base_getitem\u001b[0;34m()\u001b[0m\n",
      "File \u001b[0;32mastropy/table/_column_mixins.pyx:81\u001b[0m, in \u001b[0;36mastropy.table._column_mixins.masked_column_getitem\u001b[0;34m()\u001b[0m\n",
      "File \u001b[0;32m/ext3/miniconda3/envs/gaiaenv/lib/python3.10/site-packages/numpy/ma/core.py:3222\u001b[0m, in \u001b[0;36mMaskedArray.__getitem__\u001b[0;34m(self, indx)\u001b[0m\n\u001b[1;32m   3212\u001b[0m \u001b[38;5;124;03m\"\"\"\u001b[39;00m\n\u001b[1;32m   3213\u001b[0m \u001b[38;5;124;03mx.__getitem__(y) <==> x[y]\u001b[39;00m\n\u001b[1;32m   3214\u001b[0m \n\u001b[1;32m   3215\u001b[0m \u001b[38;5;124;03mReturn the item described by i, as a masked array.\u001b[39;00m\n\u001b[1;32m   3216\u001b[0m \n\u001b[1;32m   3217\u001b[0m \u001b[38;5;124;03m\"\"\"\u001b[39;00m\n\u001b[1;32m   3218\u001b[0m \u001b[38;5;66;03m# We could directly use ndarray.__getitem__ on self.\u001b[39;00m\n\u001b[1;32m   3219\u001b[0m \u001b[38;5;66;03m# But then we would have to modify __array_finalize__ to prevent the\u001b[39;00m\n\u001b[1;32m   3220\u001b[0m \u001b[38;5;66;03m# mask of being reshaped if it hasn't been set up properly yet\u001b[39;00m\n\u001b[1;32m   3221\u001b[0m \u001b[38;5;66;03m# So it's easier to stick to the current version\u001b[39;00m\n\u001b[0;32m-> 3222\u001b[0m dout \u001b[38;5;241m=\u001b[39m \u001b[38;5;28;43mself\u001b[39;49m\u001b[38;5;241;43m.\u001b[39;49m\u001b[43mdata\u001b[49m\u001b[43m[\u001b[49m\u001b[43mindx\u001b[49m\u001b[43m]\u001b[49m\n\u001b[1;32m   3223\u001b[0m _mask \u001b[38;5;241m=\u001b[39m \u001b[38;5;28mself\u001b[39m\u001b[38;5;241m.\u001b[39m_mask\n\u001b[1;32m   3225\u001b[0m \u001b[38;5;28;01mdef\u001b[39;00m \u001b[38;5;21m_is_scalar\u001b[39m(m):\n",
      "File \u001b[0;32m/ext3/miniconda3/envs/gaiaenv/lib/python3.10/site-packages/numpy/ma/core.py:3222\u001b[0m, in \u001b[0;36mMaskedArray.__getitem__\u001b[0;34m(self, indx)\u001b[0m\n\u001b[1;32m   3212\u001b[0m \u001b[38;5;124;03m\"\"\"\u001b[39;00m\n\u001b[1;32m   3213\u001b[0m \u001b[38;5;124;03mx.__getitem__(y) <==> x[y]\u001b[39;00m\n\u001b[1;32m   3214\u001b[0m \n\u001b[1;32m   3215\u001b[0m \u001b[38;5;124;03mReturn the item described by i, as a masked array.\u001b[39;00m\n\u001b[1;32m   3216\u001b[0m \n\u001b[1;32m   3217\u001b[0m \u001b[38;5;124;03m\"\"\"\u001b[39;00m\n\u001b[1;32m   3218\u001b[0m \u001b[38;5;66;03m# We could directly use ndarray.__getitem__ on self.\u001b[39;00m\n\u001b[1;32m   3219\u001b[0m \u001b[38;5;66;03m# But then we would have to modify __array_finalize__ to prevent the\u001b[39;00m\n\u001b[1;32m   3220\u001b[0m \u001b[38;5;66;03m# mask of being reshaped if it hasn't been set up properly yet\u001b[39;00m\n\u001b[1;32m   3221\u001b[0m \u001b[38;5;66;03m# So it's easier to stick to the current version\u001b[39;00m\n\u001b[0;32m-> 3222\u001b[0m dout \u001b[38;5;241m=\u001b[39m \u001b[38;5;28;43mself\u001b[39;49m\u001b[38;5;241;43m.\u001b[39;49m\u001b[43mdata\u001b[49m\u001b[43m[\u001b[49m\u001b[43mindx\u001b[49m\u001b[43m]\u001b[49m\n\u001b[1;32m   3223\u001b[0m _mask \u001b[38;5;241m=\u001b[39m \u001b[38;5;28mself\u001b[39m\u001b[38;5;241m.\u001b[39m_mask\n\u001b[1;32m   3225\u001b[0m \u001b[38;5;28;01mdef\u001b[39;00m \u001b[38;5;21m_is_scalar\u001b[39m(m):\n",
      "\u001b[0;31mIndexError\u001b[0m: boolean index did not match indexed array along dimension 0; dimension is 6649162 but corresponding boolean dimension is 1001557"
     ]
    },
    {
     "data": {
      "image/png": "[encoded data removed]",
      "text/plain": [
       "<Figure size 504x360 with 1 Axes>"
      ]
     },
     "metadata": {
      "needs_background": "light"
     },
     "output_type": "display_data"
    }
   ],
   "source": [
    "bins = np.linspace(-2, 12, 50)\n",
    "density = True\n",
    "\n",
    "plt.figure(figsize=(7,5))\n",
    "plt.hist(tab_gaia_all['g_w1'][i_G205], histtype='step', bins=bins, label=r'Gaia $G<20.5$', density=density)\n",
    "plt.hist(tab_gaia['g_w1'][idx_withsdss], histtype='step', bins=bins, label='+ Has SDSS match', density=density)\n",
    "plt.hist(tab_gaia['g_w1'][idx_gNOTsdss], histtype='step', bins=bins, label='+ No SDSS match', density=density)\n",
    "\n",
    "plt.xlabel(r'$G-W1$')\n",
    "plt.ylabel(\"normalized number counts\")\n",
    "plt.legend()"
   ]
  },
  {
   "cell_type": "code",
   "execution_count": 56,
   "id": "e2498705",
   "metadata": {},
   "outputs": [
    {
     "data": {
      "text/plain": [
       "<matplotlib.legend.Legend at 0x1496ed7b2c80>"
      ]
     },
     "execution_count": 56,
     "metadata": {},
     "output_type": "execute_result"
    },
    {
     "data": {
      "image/png": "[encoded data removed]",
      "text/plain": [
       "<Figure size 504x360 with 1 Axes>"
      ]
     },
     "metadata": {
      "needs_background": "light"
     },
     "output_type": "display_data"
    }
   ],
   "source": [
    "bins = np.linspace(-2, 2, 50)\n",
    "density = True\n",
    "\n",
    "plt.figure(figsize=(7,5))\n",
    "plt.hist(tab_gaia_all['w1_w2'][i_G205], histtype='step', bins=bins, label=r'Gaia $G<20.5$', density=density)\n",
    "plt.hist(tab_gaia['w1_w2'][idx_withsdss], histtype='step', bins=bins, label='+ Has SDSS match', density=density)\n",
    "\n",
    "plt.xlabel(r'$W1-W2$')\n",
    "plt.ylabel(\"normalized number counts\")\n",
    "plt.legend(loc='upper left')"
   ]
  },
  {
   "cell_type": "markdown",
   "id": "6c3a967c",
   "metadata": {},
   "source": [
    "# Look at proper motions"
   ]
  },
  {
   "cell_type": "code",
   "execution_count": 27,
   "id": "4ed97644",
   "metadata": {},
   "outputs": [
    {
     "data": {
      "text/plain": [
       "(0.0005421096935336298, 1962.558190900727)"
      ]
     },
     "execution_count": 27,
     "metadata": {},
     "output_type": "execute_result"
    }
   ],
   "source": [
    "np.min(tab_gaia_all['pm']), np.max(tab_gaia_all['pm'])"
   ]
  },
  {
   "cell_type": "code",
   "execution_count": 36,
   "id": "e58b16b5",
   "metadata": {},
   "outputs": [
    {
     "data": {
      "text/plain": [
       "<matplotlib.legend.Legend at 0x1496f24b9690>"
      ]
     },
     "execution_count": 36,
     "metadata": {},
     "output_type": "execute_result"
    },
    {
     "data": {
      "image/png": "[encoded data removed]",
      "text/plain": [
       "<Figure size 504x360 with 1 Axes>"
      ]
     },
     "metadata": {
      "needs_background": "light"
     },
     "output_type": "display_data"
    }
   ],
   "source": [
    "bins = np.linspace(0,10,50)\n",
    "density=True\n",
    "\n",
    "plt.figure(figsize=(7,5))\n",
    "plt.hist(tab_gaia_all['pm'][i_G205], histtype='step', bins=bins, density=density, label=r'Gaia $G<20.5$')\n",
    "plt.hist(tab_gaia['pm'][idx_withspz], histtype='step', bins=bins, density=density, label=r'Gaia $G<20.5$ + color cuts')\n",
    "plt.xlabel(\"proper motion\")\n",
    "plt.ylabel(\"normalized number in bin\")\n",
    "plt.legend()"
   ]
  },
  {
   "cell_type": "code",
   "execution_count": null,
   "id": "8d26505d",
   "metadata": {},
   "outputs": [],
   "source": []
  }
 ],
 "metadata": {
  "kernelspec": {
   "display_name": "Python [conda env:gaiaenv]",
   "language": "python",
   "name": "conda-env-gaiaenv-py"
  },
  "language_info": {
   "codemirror_mode": {
    "name": "ipython",
    "version": 3
   },
   "file_extension": ".py",
   "mimetype": "text/x-python",
   "name": "python",
   "nbconvert_exporter": "python",
   "pygments_lexer": "ipython3",
   "version": "3.10.4"
  }
 },
 "nbformat": 4,
 "nbformat_minor": 5
}
