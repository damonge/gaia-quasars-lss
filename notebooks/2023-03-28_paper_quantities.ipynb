{
 "cells": [
  {
   "cell_type": "code",
   "execution_count": 243,
   "id": "2f9a8c4b",
   "metadata": {},
   "outputs": [
    {
     "name": "stdout",
     "output_type": "stream",
     "text": [
      "The autoreload extension is already loaded. To reload it, use:\n",
      "  %reload_ext autoreload\n"
     ]
    }
   ],
   "source": [
    "from astropy.table import Table, join\n",
    "import numpy as np\n",
    "\n",
    "import time\n",
    "from numpy.random import default_rng\n",
    "\n",
    "import healpy as hp\n",
    "import pandas as pd\n",
    "\n",
    "import astropy.cosmology\n",
    "from astropy.coordinates import SkyCoord\n",
    "from astropy import units as u\n",
    "from astropy.table import Table\n",
    "from astropy.cosmology import Planck18\n",
    "\n",
    "import sys\n",
    "sys.path.insert(0,'../code')\n",
    "%load_ext autoreload\n",
    "%autoreload 2\n",
    "import utils\n",
    "import generate_random\n",
    "import correlations\n",
    "import masks\n",
    "import maps"
   ]
  },
  {
   "cell_type": "markdown",
   "id": "a7d2b316",
   "metadata": {},
   "source": [
    "# Parameter setting"
   ]
  },
  {
   "cell_type": "markdown",
   "id": "d71bda00",
   "metadata": {},
   "source": [
    "Saving"
   ]
  },
  {
   "cell_type": "code",
   "execution_count": 89,
   "id": "0b35295e",
   "metadata": {},
   "outputs": [],
   "source": [
    "quants = {}"
   ]
  },
  {
   "cell_type": "code",
   "execution_count": 41,
   "id": "2e56fd13",
   "metadata": {},
   "outputs": [],
   "source": [
    "fn_quants = '../data/quantities.txt'\n",
    "save = True"
   ]
  },
  {
   "cell_type": "markdown",
   "id": "a1821f5b",
   "metadata": {},
   "source": [
    "Names"
   ]
  },
  {
   "cell_type": "code",
   "execution_count": 3,
   "id": "54aa0f10",
   "metadata": {},
   "outputs": [],
   "source": [
    "name_catalog = '\\emph{{Gaia}} Cosmological Quasar Catalog'\n",
    "abbrv_catalog = 'GaiaQ'\n",
    "\n",
    "name_gpurer = '\\emph{{Gaia}} Purer Sample'\n",
    "abbrv_gpurer = '\\emph{{Gaia}} Purer'"
   ]
  },
  {
   "cell_type": "markdown",
   "id": "32cb3979",
   "metadata": {},
   "source": [
    "Functions"
   ]
  },
  {
   "cell_type": "code",
   "execution_count": 4,
   "id": "8b0ad849",
   "metadata": {},
   "outputs": [],
   "source": [
    "def get_ndens_map(ras, decs, NSIDE=64):\n",
    "    map_nqso, _ = maps.get_map(NSIDE, ras, decs, null_val=0)\n",
    "    map_ndens = map_nqso/area_per_pixel\n",
    "    map_ndens_masked = hp.ma(map_ndens)\n",
    "    map_ndens_masked.mask = map_ndens==0\n",
    "    return map_ndens_masked"
   ]
  },
  {
   "cell_type": "markdown",
   "id": "4000c5a3",
   "metadata": {},
   "source": [
    "Map settings"
   ]
  },
  {
   "cell_type": "code",
   "execution_count": 5,
   "id": "bbb69434",
   "metadata": {},
   "outputs": [
    {
     "name": "stdout",
     "output_type": "stream",
     "text": [
      "Area per pixel: 0.839 deg\n"
     ]
    }
   ],
   "source": [
    "NSIDE = 64\n",
    "area_per_pixel = hp.nside2pixarea(NSIDE, degrees=True)\n",
    "print(f\"Area per pixel: {area_per_pixel:.3f} deg\")"
   ]
  },
  {
   "cell_type": "markdown",
   "id": "f442f26c",
   "metadata": {},
   "source": [
    "Other prelims"
   ]
  },
  {
   "cell_type": "code",
   "execution_count": 6,
   "id": "1cdd0978",
   "metadata": {},
   "outputs": [],
   "source": [
    "G_hi = 20.5\n",
    "G_lo = 20.0"
   ]
  },
  {
   "cell_type": "code",
   "execution_count": 7,
   "id": "14d0962e",
   "metadata": {},
   "outputs": [],
   "source": [
    "rng = np.random.default_rng(seed=42)"
   ]
  },
  {
   "cell_type": "markdown",
   "id": "50414baf",
   "metadata": {},
   "source": [
    "# Load datasets"
   ]
  },
  {
   "cell_type": "markdown",
   "id": "c079e35e",
   "metadata": {},
   "source": [
    "### Gaia"
   ]
  },
  {
   "cell_type": "code",
   "execution_count": 8,
   "id": "c3ae3ac1",
   "metadata": {},
   "outputs": [
    {
     "name": "stdout",
     "output_type": "stream",
     "text": [
      "6649162\n"
     ]
    }
   ],
   "source": [
    "fn_gall = '../data/gaia_candidates.fits.gz'\n",
    "tab_gall = utils.load_table(fn_gall)\n",
    "print(len(tab_gall))"
   ]
  },
  {
   "cell_type": "code",
   "execution_count": 9,
   "id": "381ef675",
   "metadata": {},
   "outputs": [
    {
     "name": "stdout",
     "output_type": "stream",
     "text": [
      "1942825\n"
     ]
    }
   ],
   "source": [
    "fn_gpurer_ids = '../data/gaia_purer_sourceids.fits'\n",
    "tab_gpurer_ids = utils.load_table(fn_gpurer_ids)\n",
    "tab_gpurer = join(tab_gall, tab_gpurer_ids, keys='source_id', join_type='inner', metadata_conflicts='silent')\n",
    "print(len(tab_gpurer))"
   ]
  },
  {
   "cell_type": "code",
   "execution_count": 10,
   "id": "7979dbaa",
   "metadata": {},
   "outputs": [
    {
     "name": "stdout",
     "output_type": "stream",
     "text": [
      "1518782\n"
     ]
    }
   ],
   "source": [
    "fn_gsup = '../data/gaia_candidates_superset.fits'\n",
    "tab_gsup = utils.load_table(fn_gsup)\n",
    "print(len(tab_gsup))"
   ]
  },
  {
   "cell_type": "code",
   "execution_count": 11,
   "id": "a608dd61",
   "metadata": {},
   "outputs": [
    {
     "name": "stdout",
     "output_type": "stream",
     "text": [
      "1442077\n"
     ]
    }
   ],
   "source": [
    "fn_gclean = '../data/gaia_candidates_clean.fits'\n",
    "tab_gclean = utils.load_table(fn_gclean)\n",
    "print(len(tab_gclean))"
   ]
  },
  {
   "cell_type": "code",
   "execution_count": 225,
   "id": "9060a2a4",
   "metadata": {},
   "outputs": [
    {
     "name": "stdout",
     "output_type": "stream",
     "text": [
      "762347\n"
     ]
    }
   ],
   "source": [
    "fn_gcatlo = f'../data/gaiaQ_G{G_lo}.fits'\n",
    "tab_gcatlo = utils.load_table(fn_gcatlo)\n",
    "print(len(tab_gcatlo))"
   ]
  },
  {
   "cell_type": "code",
   "execution_count": 226,
   "id": "03d40069",
   "metadata": {},
   "outputs": [
    {
     "name": "stdout",
     "output_type": "stream",
     "text": [
      "1309315\n"
     ]
    }
   ],
   "source": [
    "fn_gcathi = f'../data/gaiaQ_G{G_hi}.fits'\n",
    "tab_gcathi = utils.load_table(fn_gcathi)\n",
    "print(len(tab_gcathi))"
   ]
  },
  {
   "cell_type": "markdown",
   "id": "aad9f790",
   "metadata": {},
   "source": [
    "### SDSS"
   ]
  },
  {
   "cell_type": "markdown",
   "id": "bd9a9300",
   "metadata": {},
   "source": [
    "These are SDSS objects that have (any) Gaia source matches. There is unWISE data where available, but the below catalogs are not limited to unWISE matches."
   ]
  },
  {
   "cell_type": "code",
   "execution_count": 14,
   "id": "d9fda86b",
   "metadata": {},
   "outputs": [
    {
     "name": "stdout",
     "output_type": "stream",
     "text": [
      "Number of SDSS quasars: 379698\n",
      "Number with unWISE info: 350070\n"
     ]
    }
   ],
   "source": [
    "tab_squasars = utils.load_table(f'../data/quasars_sdss_xgaia_xunwise_good_nodup.fits')\n",
    "print(f\"Number of SDSS quasars: {len(tab_squasars)}\")\n",
    "print(f\"Number with unWISE info:\", np.sum(np.isfinite(tab_squasars['mag_w1_vg']) & ~tab_squasars.mask['mag_w1_vg']))"
   ]
  },
  {
   "cell_type": "code",
   "execution_count": 15,
   "id": "ae2e2685",
   "metadata": {},
   "outputs": [
    {
     "name": "stdout",
     "output_type": "stream",
     "text": [
      "Number of SDSS stars: 683221\n",
      "Number with unWISE info: 482080\n"
     ]
    }
   ],
   "source": [
    "tab_sstars = utils.load_table(f'../data/stars_sdss_xgaia_xunwise_good_nodup.fits')\n",
    "print(f\"Number of SDSS stars: {len(tab_sstars)}\")\n",
    "print(f\"Number with unWISE info:\", np.sum(np.isfinite(tab_sstars['mag_w1_vg']) & ~tab_sstars.mask['mag_w1_vg']))"
   ]
  },
  {
   "cell_type": "code",
   "execution_count": 16,
   "id": "2431e5c9",
   "metadata": {},
   "outputs": [
    {
     "name": "stdout",
     "output_type": "stream",
     "text": [
      "Number of SDSS galaxies: 717059\n",
      "Number with unWISE info: 600897\n"
     ]
    }
   ],
   "source": [
    "tab_sgals = utils.load_table(f'../data/galaxies_sdss_xgaia_xunwise_good_nodup.fits')\n",
    "print(f\"Number of SDSS galaxies: {len(tab_sgals)}\")\n",
    "print(f\"Number with unWISE info:\", np.sum(np.isfinite(tab_sgals['mag_w1_vg']) & ~tab_sgals.mask['mag_w1_vg']))"
   ]
  },
  {
   "cell_type": "markdown",
   "id": "800b2b9b",
   "metadata": {},
   "source": [
    "Only objects in superset (gaia qso candidates with unWISE data and QSOC redshifts and G lim)"
   ]
  },
  {
   "cell_type": "code",
   "execution_count": 17,
   "id": "eb0ef8ea",
   "metadata": {},
   "outputs": [
    {
     "name": "stdout",
     "output_type": "stream",
     "text": [
      "Number of labeled Gaia quasar candidates for training/validation: 249714\n"
     ]
    }
   ],
   "source": [
    "fn_labeled_sup = '../data/labeled_superset.fits'\n",
    "tab_labeled_sup = utils.load_table(fn_labeled_sup)\n",
    "print(f\"Number of labeled Gaia quasar candidates for decontamination: {len(tab_labeled_sup)}\")"
   ]
  },
  {
   "cell_type": "markdown",
   "id": "7ccbd82c",
   "metadata": {},
   "source": [
    "Redshifts"
   ]
  },
  {
   "cell_type": "code",
   "execution_count": 53,
   "id": "2c90de9e",
   "metadata": {},
   "outputs": [
    {
     "name": "stdout",
     "output_type": "stream",
     "text": [
      "N = 245308\n"
     ]
    }
   ],
   "source": [
    "redshift_estimator_name = 'kNN'\n",
    "save_tag_model = f'_K27_std'\n",
    "fn_spz_labeled = f'../data/redshift_estimates/redshifts_spz_labeled_{redshift_estimator_name}{save_tag_model}.fits'\n",
    "tab_spz_labeled = utils.load_table(fn_spz_labeled)\n",
    "print(f\"N = {len(tab_spz_labeled)}\")"
   ]
  },
  {
   "cell_type": "markdown",
   "id": "d7f52cf8",
   "metadata": {},
   "source": [
    "# Quantities"
   ]
  },
  {
   "cell_type": "markdown",
   "id": "e74eadcb",
   "metadata": {},
   "source": [
    "## Numbers of objects"
   ]
  },
  {
   "cell_type": "code",
   "execution_count": 90,
   "id": "b87a60a7",
   "metadata": {},
   "outputs": [
    {
     "name": "stdout",
     "output_type": "stream",
     "text": [
      "6,649,162\n"
     ]
    }
   ],
   "source": [
    "quants['N_gall'] = f\"{len(tab_gall):,}\"\n",
    "print(quants['N_gall'])"
   ]
  },
  {
   "cell_type": "code",
   "execution_count": 91,
   "id": "2ce45988",
   "metadata": {},
   "outputs": [
    {
     "name": "stdout",
     "output_type": "stream",
     "text": [
      "6,375,063\n"
     ]
    }
   ],
   "source": [
    "i_gall_wqsoc = np.isfinite(tab_gall['redshift_qsoc'])\n",
    "quants['N_gall_wqsoc'] = f\"{np.sum(i_gall_wqsoc):,}\"\n",
    "print(quants['N_gall_wqsoc'])"
   ]
  },
  {
   "cell_type": "code",
   "execution_count": 92,
   "id": "85b4075d",
   "metadata": {},
   "outputs": [
    {
     "name": "stdout",
     "output_type": "stream",
     "text": [
      "1,942,825\n"
     ]
    }
   ],
   "source": [
    "quants['N_gpurer'] = f\"{len(tab_gpurer):,}\"\n",
    "print(quants['N_gpurer'])"
   ]
  },
  {
   "cell_type": "code",
   "execution_count": 93,
   "id": "79b8bbc5",
   "metadata": {},
   "outputs": [
    {
     "name": "stdout",
     "output_type": "stream",
     "text": [
      "1,729,625\n"
     ]
    }
   ],
   "source": [
    "i_gpurer_wqsoc = np.isfinite(tab_gpurer['redshift_qsoc'])\n",
    "quants['N_gpurer_wqsoc'] = f\"{np.sum(i_gpurer_wqsoc):,}\"\n",
    "print(quants['N_gpurer_wqsoc'])"
   ]
  },
  {
   "cell_type": "code",
   "execution_count": 169,
   "id": "a8b97ee3",
   "metadata": {},
   "outputs": [
    {
     "name": "stdout",
     "output_type": "stream",
     "text": [
      "1,518,782\n"
     ]
    }
   ],
   "source": [
    "quants['N_gsup'] = f\"{len(tab_gsup):,}\"\n",
    "print(quants['N_gsup'])"
   ]
  },
  {
   "cell_type": "code",
   "execution_count": 168,
   "id": "6855ccfe",
   "metadata": {},
   "outputs": [
    {
     "name": "stdout",
     "output_type": "stream",
     "text": [
      "1,442,077\n"
     ]
    }
   ],
   "source": [
    "quants['N_gclean'] = f\"{len(tab_gclean):,}\"\n",
    "print(quants['N_gclean'])"
   ]
  },
  {
   "cell_type": "code",
   "execution_count": 172,
   "id": "931accbc",
   "metadata": {},
   "outputs": [
    {
     "name": "stdout",
     "output_type": "stream",
     "text": [
      "5\n"
     ]
    }
   ],
   "source": [
    "quants['p_cut_gsup_gclean'] = f\"{100*(len(tab_gsup) - len(tab_gclean))/len(tab_gsup):.0f}\"\n",
    "print(quants['p_cut_gsup_gclean'])"
   ]
  },
  {
   "cell_type": "code",
   "execution_count": 137,
   "id": "968444aa",
   "metadata": {},
   "outputs": [
    {
     "name": "stdout",
     "output_type": "stream",
     "text": [
      "767,866\n"
     ]
    }
   ],
   "source": [
    "quants['N_gcatlo'] = f\"{len(tab_gcatlo):,}\"\n",
    "print(quants['N_gcatlo'])"
   ]
  },
  {
   "cell_type": "code",
   "execution_count": 138,
   "id": "20fdc13b",
   "metadata": {},
   "outputs": [
    {
     "name": "stdout",
     "output_type": "stream",
     "text": [
      "1,318,566\n"
     ]
    }
   ],
   "source": [
    "quants['N_gcathi'] = f\"{len(tab_gcathi):,}\"\n",
    "print(quants['N_gcathi'])"
   ]
  },
  {
   "cell_type": "code",
   "execution_count": 161,
   "id": "5f2abcc8",
   "metadata": {},
   "outputs": [
    {
     "name": "stdout",
     "output_type": "stream",
     "text": [
      "343,074\n"
     ]
    }
   ],
   "source": [
    "i_squasars_unwise = np.isfinite(tab_squasars['mag_w1_vg']) & ~tab_squasars.mask['mag_w1_vg'] & \\\n",
    "                    np.isfinite(tab_squasars['mag_w2_vg']) & ~tab_squasars.mask['mag_w2_vg']\n",
    "quants['N_squasars_unwise'] = f\"{np.sum(i_squasars_unwise):,}\"\n",
    "print(quants['N_squasars_unwise'])"
   ]
  },
  {
   "cell_type": "code",
   "execution_count": 167,
   "id": "4cfe1321",
   "metadata": {},
   "outputs": [
    {
     "name": "stdout",
     "output_type": "stream",
     "text": [
      "246,122\n"
     ]
    }
   ],
   "source": [
    "i_sq_sup = tab_labeled_sup['class']=='q'\n",
    "quants['N_squasars_sup'] = f\"{np.sum(i_sq_sup):,}\"\n",
    "print(quants['N_squasars_sup'])"
   ]
  },
  {
   "cell_type": "markdown",
   "id": "6dceb949",
   "metadata": {},
   "source": [
    "## Redshift info"
   ]
  },
  {
   "cell_type": "markdown",
   "id": "6b4017ad",
   "metadata": {},
   "source": [
    "### general"
   ]
  },
  {
   "cell_type": "code",
   "execution_count": 94,
   "id": "85e7e764",
   "metadata": {},
   "outputs": [
    {
     "name": "stdout",
     "output_type": "stream",
     "text": [
      "1.67\n"
     ]
    }
   ],
   "source": [
    "i_zfinite = np.isfinite(tab_gall['redshift_qsoc'])\n",
    "quants['z_med_gall'] = f\"{np.median(tab_gall['redshift_qsoc'][i_zfinite]):.2f}\"\n",
    "print(quants['z_med_gall'])"
   ]
  },
  {
   "cell_type": "code",
   "execution_count": 177,
   "id": "e66f7231",
   "metadata": {},
   "outputs": [
    {
     "name": "stdout",
     "output_type": "stream",
     "text": [
      "1.45\n"
     ]
    }
   ],
   "source": [
    "quants['z_med_gcatlo'] = f\"{np.median(tab_gcatlo['redshift_spz']):.2f}\"\n",
    "print(quants['z_med_gcatlo'])"
   ]
  },
  {
   "cell_type": "code",
   "execution_count": 181,
   "id": "489513f6",
   "metadata": {},
   "outputs": [
    {
     "name": "stdout",
     "output_type": "stream",
     "text": [
      "79441 0.1034568531488567\n"
     ]
    }
   ],
   "source": [
    "zintermediate = 2.5\n",
    "quants['zintermediate'] = zintermediate\n",
    "i_above_zintermediate_gcatlo = tab_gcatlo['redshift_spz'] > zintermediate\n",
    "quants['N_above_zintermediate_gcatlo'] = np.sum(i_above_zintermediate_gcatlo)\n",
    "quants['p_above_zintermediate_gcatlo'] = np.sum(i_above_zintermediate_gcatlo)/len(i_above_zintermediate_gcatlo)\n",
    "print(quants['N_above_zintermediate_gcatlo'], quants['p_above_zintermediate_gcatlo'])"
   ]
  },
  {
   "cell_type": "markdown",
   "id": "375c66cd",
   "metadata": {},
   "source": [
    "### dz checks vs sdss"
   ]
  },
  {
   "cell_type": "code",
   "execution_count": 95,
   "id": "c1364cfc",
   "metadata": {},
   "outputs": [],
   "source": [
    "rand_ints_labeled = tab_spz_labeled['rand_ints']\n",
    "i_train, i_valid, i_test = utils.split_train_val_test(rand_ints_labeled,\n",
    "                                 frac_train=0.7, frac_val=0.15, frac_test=0.15)"
   ]
  },
  {
   "cell_type": "code",
   "execution_count": 96,
   "id": "fdf4fa7e",
   "metadata": {},
   "outputs": [],
   "source": [
    "z_sdss_test = tab_spz_labeled['z_sdss'][i_test]\n",
    "z_spzraw_test = tab_spz_labeled['redshift_spz_raw'][i_test]\n",
    "z_spz_test = tab_spz_labeled['redshift_spz'][i_test]\n",
    "z_gaia_test = tab_spz_labeled['redshift_qsoc'][i_test]"
   ]
  },
  {
   "cell_type": "code",
   "execution_count": 97,
   "id": "3b56c8b6",
   "metadata": {},
   "outputs": [],
   "source": [
    "dz_spzraw_test = (z_spzraw_test - z_sdss_test)/(1+z_sdss_test)\n",
    "dz_spz_test = (z_spz_test - z_sdss_test)/(1+z_sdss_test)\n",
    "dz_gaia_test = (z_gaia_test - z_sdss_test)/(1+z_sdss_test)"
   ]
  },
  {
   "cell_type": "code",
   "execution_count": 183,
   "id": "685ecf89",
   "metadata": {},
   "outputs": [],
   "source": [
    "dz_threshs = {'dzlo': 0.01, 'dzmid': 0.1, 'dzhi': 0.2}\n",
    "G_maxs = {'Gbright': 19.0, 'Glo': 20.0, 'Ghi': 20.5}\n",
    "dz_arrs = {'zspz': dz_spz_test, 'zgaia': dz_gaia_test}"
   ]
  },
  {
   "cell_type": "code",
   "execution_count": 184,
   "id": "3ca2b4e4",
   "metadata": {},
   "outputs": [
    {
     "name": "stdout",
     "output_type": "stream",
     "text": [
      "p_outliers_zspz_dzlo_Gbright 14\n",
      "p_acc_zspz_dzlo_Gbright 86\n",
      "p_outliers_zgaia_dzlo_Gbright 9\n",
      "p_acc_zgaia_dzlo_Gbright 91\n",
      "p_outliers_zspz_dzmid_Gbright 5\n",
      "p_acc_zspz_dzmid_Gbright 95\n",
      "p_outliers_zgaia_dzmid_Gbright 7\n",
      "p_acc_zgaia_dzmid_Gbright 93\n",
      "p_outliers_zspz_dzhi_Gbright 3\n",
      "p_acc_zspz_dzhi_Gbright 97\n",
      "p_outliers_zgaia_dzhi_Gbright 6\n",
      "p_acc_zgaia_dzhi_Gbright 94\n",
      "p_outliers_zspz_dzlo_Glo 26\n",
      "p_acc_zspz_dzlo_Glo 74\n",
      "p_outliers_zgaia_dzlo_Glo 25\n",
      "p_acc_zgaia_dzlo_Glo 75\n",
      "p_outliers_zspz_dzmid_Glo 10\n",
      "p_acc_zspz_dzmid_Glo 90\n",
      "p_outliers_zgaia_dzmid_Glo 19\n",
      "p_acc_zgaia_dzmid_Glo 81\n",
      "p_outliers_zspz_dzhi_Glo 5\n",
      "p_acc_zspz_dzhi_Glo 95\n",
      "p_outliers_zgaia_dzhi_Glo 18\n",
      "p_acc_zgaia_dzhi_Glo 82\n",
      "p_outliers_zspz_dzlo_Ghi 39\n",
      "p_acc_zspz_dzlo_Ghi 61\n",
      "p_outliers_zgaia_dzlo_Ghi 38\n",
      "p_acc_zgaia_dzlo_Ghi 62\n",
      "p_outliers_zspz_dzmid_Ghi 17\n",
      "p_acc_zspz_dzmid_Ghi 83\n",
      "p_outliers_zgaia_dzmid_Ghi 30\n",
      "p_acc_zgaia_dzmid_Ghi 70\n",
      "p_outliers_zspz_dzhi_Ghi 9\n",
      "p_acc_zspz_dzhi_Ghi 91\n",
      "p_outliers_zgaia_dzhi_Ghi 28\n",
      "p_acc_zgaia_dzhi_Ghi 72\n"
     ]
    }
   ],
   "source": [
    "for G_name, G_max in G_maxs.items():\n",
    "    quants[G_name] = G_max\n",
    "    for dz_thresh_name, dz_thresh in dz_threshs.items():\n",
    "        quants[dz_thresh_name] = dz_thresh\n",
    "        for z_name, dz_arr in dz_arrs.items():\n",
    "        \n",
    "            i_G = tab_spz_labeled['phot_g_mean_mag'][i_test] < G_max\n",
    "            i_outliers = np.abs(dz_arr[i_G]) > dz_thresh\n",
    "            key = f'p_outliers_{z_name}_{dz_thresh_name}_{G_name}'\n",
    "            val = f\"{100*np.sum(i_outliers)/len(i_outliers):.0f}\"\n",
    "            print(key, val)\n",
    "            quants[key] = val\n",
    "            \n",
    "            i_acc = np.abs(dz_arr[i_G]) <= dz_thresh\n",
    "            key = f'p_acc_{z_name}_{dz_thresh_name}_{G_name}'\n",
    "            val = f\"{100*np.sum(i_acc)/len(i_acc):.0f}\"\n",
    "            print(key, val)\n",
    "            quants[key] = val"
   ]
  },
  {
   "cell_type": "markdown",
   "id": "c028fdb9",
   "metadata": {},
   "source": [
    "Get numbers for all Gaia candidates with SDSS redshifts:"
   ]
  },
  {
   "cell_type": "code",
   "execution_count": 107,
   "id": "01821844",
   "metadata": {},
   "outputs": [
    {
     "data": {
      "text/plain": [
       "<TableColumns names=('ra','dec','source_id','ra_sdss','dec_sdss','objid','z_sdss','phot_g_mean_mag','phot_bp_mean_mag','phot_rp_mean_mag','phot_bp_n_obs','phot_rp_n_obs','dec_unwise','mag_w1_vg','mag_w2_vg','ra_unwise','unwise_objid','dist_arcsec')>"
      ]
     },
     "execution_count": 107,
     "metadata": {},
     "output_type": "execute_result"
    }
   ],
   "source": [
    "tab_squasars.columns"
   ]
  },
  {
   "cell_type": "code",
   "execution_count": 115,
   "id": "b0e59037",
   "metadata": {},
   "outputs": [],
   "source": [
    "tab_squasars_lite = tab_squasars.copy()\n",
    "tab_squasars_lite.keep_columns(['source_id', 'z_sdss'])\n",
    "tab_gall_lite = tab_gall.copy()\n",
    "tab_gall_lite.keep_columns(['source_id', 'redshift_qsoc', 'phot_g_mean_mag'])"
   ]
  },
  {
   "cell_type": "code",
   "execution_count": 116,
   "id": "3035b365",
   "metadata": {},
   "outputs": [
    {
     "name": "stdout",
     "output_type": "stream",
     "text": [
      "326067\n"
     ]
    }
   ],
   "source": [
    "tab_gall_xsquasars = join(tab_gall_lite, tab_squasars_lite, keys='source_id', join_type='inner')\n",
    "print(len(tab_gall_xsquasars))"
   ]
  },
  {
   "cell_type": "code",
   "execution_count": 118,
   "id": "835eddbb",
   "metadata": {},
   "outputs": [
    {
     "name": "stdout",
     "output_type": "stream",
     "text": [
      "320149\n"
     ]
    }
   ],
   "source": [
    "tab_gall_xsquasars = tab_gall_xsquasars[np.isfinite(tab_gall_xsquasars['redshift_qsoc'])]\n",
    "print(len(tab_gall_xsquasars))"
   ]
  },
  {
   "cell_type": "code",
   "execution_count": 119,
   "id": "0b3ae4be",
   "metadata": {},
   "outputs": [],
   "source": [
    "z_sdss_gall = tab_gall_xsquasars['z_sdss']\n",
    "z_gaia_gall = tab_gall_xsquasars['redshift_qsoc']\n",
    "\n",
    "dz_gaia_gall = (z_gaia_gall - z_sdss_gall)/(1+z_sdss_gall)"
   ]
  },
  {
   "cell_type": "code",
   "execution_count": 127,
   "id": "97180794",
   "metadata": {},
   "outputs": [
    {
     "name": "stdout",
     "output_type": "stream",
     "text": [
      "p_outliers_gall_zgaia_dzlo_Glo 25\n",
      "p_outliers_gall_zgaia_dzmid_Glo 19\n",
      "p_outliers_gall_zgaia_dzhi_Glo 18\n",
      "p_outliers_gall_zgaia_dzlo_Ghi 38\n",
      "p_outliers_gall_zgaia_dzmid_Ghi 30\n",
      "p_outliers_gall_zgaia_dzhi_Ghi 28\n"
     ]
    }
   ],
   "source": [
    "z_name = 'zgaia'\n",
    "for G_name, G_max in G_maxs.items():\n",
    "    for dz_thresh_name, dz_thresh in dz_threshs.items():\n",
    "        \n",
    "        i_G = tab_gall_xsquasars['phot_g_mean_mag'] < G_max\n",
    "        i_outliers = np.abs(dz_gaia_gall[i_G]) > dz_thresh\n",
    "        key = f'p_outliers_gall_{z_name}_{dz_thresh_name}_{G_name}'\n",
    "        val = f\"{100*np.sum(i_outliers)/len(i_outliers):.0f}\"\n",
    "        print(key, val)\n",
    "        quants[key] = val"
   ]
  },
  {
   "cell_type": "markdown",
   "id": "64a8de59",
   "metadata": {},
   "source": [
    "Ends up being the same as our cleaned sample lol oop (rounded to a percent)"
   ]
  },
  {
   "cell_type": "code",
   "execution_count": 142,
   "id": "85add8f4",
   "metadata": {},
   "outputs": [
    {
     "name": "stdout",
     "output_type": "stream",
     "text": [
      "0.9615384615384616\n",
      "factor_reduction_outliers_dzlo_Glo : ${\\sim}1\\times$\n",
      "1.9\n",
      "factor_reduction_outliers_dzmid_Glo : ${\\sim}2\\times$\n",
      "3.6\n",
      "factor_reduction_outliers_dzhi_Glo : ${\\sim}3.5\\times$\n"
     ]
    }
   ],
   "source": [
    "G_name = 'Glo'\n",
    "for dz_thresh_name, dz_thresh in dz_threshs.items():\n",
    "    fac = float(quants[f'p_outliers_gall_zgaia_{dz_thresh_name}_{G_name}'])/ \\\n",
    "          float(quants[f'p_outliers_zspz_{dz_thresh_name}_{G_name}'])\n",
    "    key = f'factor_reduction_outliers_{dz_thresh_name}_{G_name}'\n",
    "    fac_rounded = round(fac*2)/2\n",
    "    val = rf'${{\\sim}}{fac_rounded:g}\\times$'\n",
    "    print(fac)\n",
    "    print(key,':', val)\n",
    "    quants[key] = val"
   ]
  },
  {
   "cell_type": "markdown",
   "id": "a727d51c",
   "metadata": {},
   "source": [
    "### Decontamination"
   ]
  },
  {
   "cell_type": "code",
   "execution_count": 154,
   "id": "060cd80f",
   "metadata": {},
   "outputs": [
    {
     "name": "stdout",
     "output_type": "stream",
     "text": [
      "3592\n",
      "1138\n"
     ]
    }
   ],
   "source": [
    "i_contam_labeled = (tab_labeled_sup['class']=='s') | (tab_labeled_sup['class']=='g')\n",
    "print(np.sum(i_contam_labeled))\n",
    "\n",
    "i_contam_gclean = np.isin(tab_labeled_sup['source_id'][i_contam_labeled], tab_gclean['source_id'])\n",
    "print(np.sum(i_contam_gclean))"
   ]
  },
  {
   "cell_type": "code",
   "execution_count": 155,
   "id": "2823ed66",
   "metadata": {},
   "outputs": [
    {
     "name": "stdout",
     "output_type": "stream",
     "text": [
      "3.156414762741652\n",
      "factor_reduction_contaminants ${\\sim}3\\times$\n"
     ]
    }
   ],
   "source": [
    "key = 'factor_reduction_contaminants'\n",
    "fac = np.sum(i_contam_labeled)/np.sum(i_contam_gclean)\n",
    "fac_rounded = round(fac*2)/2\n",
    "val = rf'${{\\sim}}{fac_rounded:g}\\times$'\n",
    "print(fac)\n",
    "print(key, val)\n",
    "quants[key] = val"
   ]
  },
  {
   "cell_type": "code",
   "execution_count": 272,
   "id": "d45b23d0",
   "metadata": {},
   "outputs": [
    {
     "name": "stdout",
     "output_type": "stream",
     "text": [
      "246122\n",
      "245450\n"
     ]
    }
   ],
   "source": [
    "i_q_labeled = tab_labeled_sup['class']=='q'\n",
    "print(np.sum(i_q_labeled))\n",
    "\n",
    "i_q_gclean = np.isin(tab_labeled_sup['source_id'][i_q_labeled], tab_gclean['source_id'])\n",
    "print(np.sum(i_q_gclean))"
   ]
  },
  {
   "cell_type": "code",
   "execution_count": 275,
   "id": "afdc60b2",
   "metadata": {},
   "outputs": [
    {
     "name": "stdout",
     "output_type": "stream",
     "text": [
      "0.00273782847830506\n",
      "p_sq_excluded 0.3\n"
     ]
    }
   ],
   "source": [
    "key = 'p_sq_excluded'\n",
    "p = np.sum(i_q_labeled)/np.sum(i_q_gclean)-1\n",
    "print(p)\n",
    "val = f'{p*100:.1f}'\n",
    "print(key, val)\n",
    "quants[key] = val"
   ]
  },
  {
   "cell_type": "markdown",
   "id": "a0b14eaf",
   "metadata": {},
   "source": [
    "### Area and volume"
   ]
  },
  {
   "cell_type": "code",
   "execution_count": 254,
   "id": "6857bed5",
   "metadata": {},
   "outputs": [],
   "source": [
    "def ndens_of_z(z_arr, z_bins, cosmo):\n",
    "    \n",
    "    v_at_z_bins = np.empty(len(z_bins), dtype=u.Quantity)\n",
    "    for i in range(len(z_bins)):\n",
    "        v = cosmo.comoving_volume(z_bins[i])\n",
    "        v_at_z_bins[i] = v.to(u.Gpc**3)\n",
    "    v_shells = v_at_z_bins[1:] - v_at_z_bins[:-1] \n",
    "    \n",
    "    ndens = []\n",
    "    for i in range(len(z_bins)-1):\n",
    "        N_inbin = np.sum((z_arr >= z_bins[i]) & (z_arr < z_bins[i+1]))\n",
    "        ndens_inbin = N_inbin/v_shells[i]\n",
    "        ndens.append(ndens_inbin)\n",
    "    return ndens"
   ]
  },
  {
   "cell_type": "code",
   "execution_count": 255,
   "id": "332dbb70",
   "metadata": {},
   "outputs": [],
   "source": [
    "def volume_effective_Gpcperh(z_arr, z_bins, z_min, z_max, cosmo, area, P0):\n",
    "    \n",
    "    area_rad = area.to(u.rad**2)\n",
    "    ndens_at_z_bins = ndens_of_z(z_arr, z_bins, cosmo)\n",
    "    \n",
    "    v_at_z_bins = np.empty(len(z_bins), dtype=u.Quantity)\n",
    "    R_at_z_bins = np.empty(len(z_bins), dtype=u.Quantity)\n",
    "    for i in range(len(z_bins)):\n",
    "        v = cosmo.comoving_volume(z_bins[i])\n",
    "        v_at_z_bins[i] = v.to(u.Gpc**3)\n",
    "        R_at_z_bins[i] = cosmo.comoving_distance(z_bins[i]).to(u.Gpc)\n",
    "    v_shells = v_at_z_bins[1:] - v_at_z_bins[:-1] \n",
    "    \n",
    "    # discrete integral, just summing\n",
    "    def integrand(ndens, R, dRdz, dz):\n",
    "        return area_rad.value * R**2 * dRdz * dz\n",
    "\n",
    "    integral = 0\n",
    "    for i in range(len(z_bins)-1):\n",
    "        z_avg = 0.5*(z_bins[i] + z_bins[i+1])\n",
    "        \n",
    "        R = cosmo.comoving_distance(z_avg).to(u.Gpc)\n",
    "        dR = R_at_z_bins[i+1] - R_at_z_bins[i]\n",
    "        dz = z_bins[i+1] - z_bins[i]\n",
    "        dRdz = dR/dz\n",
    "        integral += integrand(ndens_at_z_bins[i], R, dRdz, dz)\n",
    "\n",
    "    v_Gpc = integral.to(u.Gpc**3)\n",
    "    v_Gpcperh = v_Gpc * cosmo.h**3\n",
    "#     print(f\"Sky area is {area:.3f} which is {area/area_allsky:.3f} of the sky\")\n",
    "#     print(f\"Effective volume is {v_Gpc:.3f} = {v_Gpcperh.value:.3f} (Gpc/h)^3\")\n",
    "    return v_Gpcperh.value"
   ]
  },
  {
   "cell_type": "code",
   "execution_count": 261,
   "id": "cb9b5fec",
   "metadata": {},
   "outputs": [],
   "source": [
    "cosmo = Planck18\n",
    "area_allsky = 41252.96125*(u.deg**2)"
   ]
  },
  {
   "cell_type": "markdown",
   "id": "7b878841",
   "metadata": {},
   "source": [
    "TODO: estimating p0 now, what should be doing?"
   ]
  },
  {
   "cell_type": "code",
   "execution_count": 245,
   "id": "94c6cdee",
   "metadata": {},
   "outputs": [
    {
     "name": "stdout",
     "output_type": "stream",
     "text": [
      "Dustmap already exists, loading from ../data/maps/map_dust_NSIDE64.npy\n"
     ]
    }
   ],
   "source": [
    "fn_dustmap = f'../data/maps/map_dust_NSIDE{NSIDE}.npy'\n",
    "map_dust = maps.get_dust_map(NSIDE=NSIDE, R=3.1, fn_map=fn_dustmap)"
   ]
  },
  {
   "cell_type": "markdown",
   "id": "b5262c38",
   "metadata": {},
   "source": [
    "Gaia:"
   ]
  },
  {
   "cell_type": "code",
   "execution_count": 264,
   "id": "2c12b603",
   "metadata": {},
   "outputs": [
    {
     "name": "stdout",
     "output_type": "stream",
     "text": [
      "29154.54 deg$^2$\n"
     ]
    }
   ],
   "source": [
    "Av_hi = 0.5\n",
    "npix_below_Avhi = np.sum(map_dust < Av_hi)\n",
    "area_below_Avhi = area_per_pixel*u.deg**2 * npix_below_Avhi\n",
    "quants['Avhi'] = Av_hi\n",
    "area_below_Avhi_fmt = rf'{area_below_Avhi.value:.2f} deg$^2$'\n",
    "quants['area_below_Avhi'] = area_below_Avhi_fmt\n",
    "print(quants['area_below_Avhi'])"
   ]
  },
  {
   "cell_type": "code",
   "execution_count": 268,
   "id": "c760c27a",
   "metadata": {},
   "outputs": [
    {
     "name": "stdout",
     "output_type": "stream",
     "text": [
      "Sky area is 29154.543 deg2 which is 0.707 of the sky\n",
      "Effective volume is 1393.590 Gpc3 = 431.649 (Gpc/h)^3\n",
      "431.6493335228083\n",
      "431.65 $(h^{-1}\\,Gpc)^3$\n"
     ]
    }
   ],
   "source": [
    "z_arr = tab_gcathi['redshift_spz']\n",
    "z_min, z_max = np.min(z_arr), np.max(z_arr)\n",
    "z_bins = np.arange(0, z_max+0.1, 0.1)\n",
    "P0 = 10**4 * u.Mpc**3 * cosmo.h**3 \n",
    "vol_gcathi = volume_effective_Gpcperh(z_arr, z_bins, z_min, z_max, cosmo, area_below_Avhi, P0)\n",
    "vol_gcathi_fmt = rf'{vol_gcathi:.2f} $(h^{{-1}}\\,Gpc)^3$'\n",
    "quants['vol_gcathi_below_Avhi'] = vol_gcathi_fmt\n",
    "print(quants['vol_gcathi_below_Avhi'])"
   ]
  },
  {
   "cell_type": "markdown",
   "id": "96818c31",
   "metadata": {},
   "source": [
    "TODO: effective number density"
   ]
  },
  {
   "cell_type": "markdown",
   "id": "edd3f4d4",
   "metadata": {},
   "source": [
    "SDSS:"
   ]
  },
  {
   "cell_type": "code",
   "execution_count": 269,
   "id": "f0fc7726",
   "metadata": {},
   "outputs": [],
   "source": [
    "# area via: # https://academic.oup.com/mnras/article/514/3/3396/6566355?login=true\n",
    "area_sdss = 4808*(u.deg**2)"
   ]
  },
  {
   "cell_type": "code",
   "execution_count": 270,
   "id": "fcefd7fd",
   "metadata": {},
   "outputs": [
    {
     "ename": "NameError",
     "evalue": "name 'tab_sdss_all' is not defined",
     "output_type": "error",
     "traceback": [
      "\u001b[0;31m---------------------------------------------------------------------------\u001b[0m",
      "\u001b[0;31mNameError\u001b[0m                                 Traceback (most recent call last)",
      "Cell \u001b[0;32mIn[270], line 1\u001b[0m\n\u001b[0;32m----> 1\u001b[0m z_arr \u001b[38;5;241m=\u001b[39m \u001b[43mtab_sdss_all\u001b[49m[\u001b[38;5;124m'\u001b[39m\u001b[38;5;124mz_sdss\u001b[39m\u001b[38;5;124m'\u001b[39m]\n\u001b[1;32m      2\u001b[0m z_min, z_max \u001b[38;5;241m=\u001b[39m np\u001b[38;5;241m.\u001b[39mmin(z_arr), np\u001b[38;5;241m.\u001b[39mmax(z_arr)\n\u001b[1;32m      3\u001b[0m z_bins \u001b[38;5;241m=\u001b[39m np\u001b[38;5;241m.\u001b[39marange(\u001b[38;5;241m0\u001b[39m, z_max\u001b[38;5;241m+\u001b[39m\u001b[38;5;241m0.1\u001b[39m, \u001b[38;5;241m0.1\u001b[39m)\n",
      "\u001b[0;31mNameError\u001b[0m: name 'tab_sdss_all' is not defined"
     ]
    }
   ],
   "source": [
    "z_arr = tab_sdss_all['z_sdss']\n",
    "z_min, z_max = np.min(z_arr), np.max(z_arr)\n",
    "z_bins = np.arange(0, z_max+0.1, 0.1)\n",
    "P0 = 10**4 * u.Mpc**3 * cosmo.h**3 \n",
    "vol_sdss = volume_effective_Gpcperh(z_arr, z_bins, z_min, z_max, cosmo, area_sdss, P0)\n",
    "vol_sdss_fmt = rf'{vol_sdss:.2f} $(h^{{-1}}\\,Gpc)^3$'\n",
    "quants['vol_sdss'] = vol_sdss_fmt\n",
    "print(quants['vol_sdss'])"
   ]
  },
  {
   "cell_type": "markdown",
   "id": "68360075",
   "metadata": {},
   "source": [
    "TODO: get sdss data and run!"
   ]
  },
  {
   "cell_type": "markdown",
   "id": "27f70e3b",
   "metadata": {},
   "source": [
    "Gaia vs SDSS"
   ]
  },
  {
   "cell_type": "code",
   "execution_count": null,
   "id": "0802177c",
   "metadata": {},
   "outputs": [],
   "source": [
    "fac_area = area_below_Avhi/area_sdss\n",
    "fac_area_rounded = round(fac_area*2)/2\n",
    "val = rf'${{\\sim}}{fac_area_rounded:g}\\times$'\n",
    "quants['factor_area_gcathi_sdss'] = val\n",
    "print(quants['factor_area_gcathi_sdss'])"
   ]
  },
  {
   "cell_type": "code",
   "execution_count": null,
   "id": "21c0a6c0",
   "metadata": {},
   "outputs": [],
   "source": [
    "fac_vol = vol_gcathi/vol_sdss\n",
    "fac_vol_rounded = round(fac_vol*2)/2\n",
    "val = rf'${{\\sim}}{fac_vol_rounded:g}\\times$'\n",
    "quants['factor_vol_gcathi_sdss'] = val\n",
    "print(quants['factor_vol_gcathi_sdss'])"
   ]
  },
  {
   "cell_type": "markdown",
   "id": "a85e15e8",
   "metadata": {},
   "source": [
    "# Write dict to file"
   ]
  },
  {
   "cell_type": "code",
   "execution_count": 182,
   "id": "32319596",
   "metadata": {},
   "outputs": [
    {
     "name": "stdout",
     "output_type": "stream",
     "text": [
      "N_gall 6,649,162\n",
      "N_gall_wqsoc 6,375,063\n",
      "N_gpurer 1,942,825\n",
      "N_gpurer_wqsoc 1,729,625\n",
      "z_med_gall 1.67\n",
      "Glo 20.0\n",
      "dzlo 0.01\n",
      "p_outliers_dzlo_gall_Glo 74\n",
      "dzmid 0.1\n",
      "p_outliers_dzmid_gall_Glo 90\n",
      "dzhi 0.2\n",
      "p_outliers_dzhi_gall_Glo 95\n",
      "Ghi 20.5\n",
      "p_outliers_dzlo_gall_Ghi 61\n",
      "p_outliers_dzmid_gall_Ghi 83\n",
      "p_outliers_dzhi_gall_Ghi 91\n",
      "p_outliers_zspz_dzhi_Glo 5\n",
      "p_outliers_zgaia_dzhi_Glo 18\n",
      "p_outliers_zspz_dzhi_Ghi 9\n",
      "p_outliers_zgaia_dzhi_Ghi 28\n",
      "p_outliers_zspz_dzlo_Glo 26\n",
      "p_outliers_zgaia_dzlo_Glo 25\n",
      "p_outliers_zspz_dzmid_Glo 10\n",
      "p_outliers_zgaia_dzmid_Glo 19\n",
      "p_outliers_zspz_dzlo_Ghi 39\n",
      "p_outliers_zgaia_dzlo_Ghi 38\n",
      "p_outliers_zspz_dzmid_Ghi 17\n",
      "p_outliers_zgaia_dzmid_Ghi 30\n",
      "p_outliers_gall_zgaia_dzlo_Glo 25\n",
      "p_outliers_gall_zgaia_dzmid_Glo 19\n",
      "p_outliers_gall_zgaia_dzhi_Glo 18\n",
      "p_outliers_gall_zgaia_dzlo_Ghi 38\n",
      "p_outliers_gall_zgaia_dzmid_Ghi 30\n",
      "p_outliers_gall_zgaia_dzhi_Ghi 28\n",
      "factor_reduction_outliers_dzlo_Glo ${\\sim}1\\times$\n",
      "factor_reduction_outliers_dzmid_Glo ${\\sim}2\\times$\n",
      "factor_reduction_outliers_dzhi_Glo ${\\sim}3.5\\times$\n",
      "N_gcatlo 767,866\n",
      "N_gcathi 1,318,566\n",
      "factor_reduction_contaminants ${\\sim}3\\times$\n",
      "N_squasars_unwise 343,074\n",
      "N_squasars_clean 246,122\n",
      "N_squasars_sup 246,122\n",
      "N_gclean 1,442,077\n",
      "N_gsup 1,518,782\n",
      "p_cut_gsup_gclean 5\n",
      "z_med_gcatlo 1.45\n",
      "p_acc_zspz_dzlo_Glo 74\n",
      "p_acc_zgaia_dzlo_Glo 75\n",
      "p_acc_zspz_dzmid_Glo 90\n",
      "p_acc_zgaia_dzmid_Glo 81\n",
      "p_acc_zspz_dzhi_Glo 95\n",
      "p_acc_zgaia_dzhi_Glo 82\n",
      "p_acc_zspz_dzlo_Ghi 61\n",
      "p_acc_zgaia_dzlo_Ghi 62\n",
      "p_acc_zspz_dzmid_Ghi 83\n",
      "p_acc_zgaia_dzmid_Ghi 70\n",
      "p_acc_zspz_dzhi_Ghi 91\n",
      "p_acc_zgaia_dzhi_Ghi 72\n",
      "zintermediate 2.5\n",
      "N_above_zintermediate_gcatlo 79441\n",
      "p_above_zintermediate_gcatlo 0.1034568531488567\n",
      "\n",
      "Saved to ../data/quantities.txt!\n"
     ]
    }
   ],
   "source": [
    "with open(fn_quants, 'w') as f:\n",
    "    for key, val in quants.items():\n",
    "        print(key, val)\n",
    "        if save:\n",
    "            f.write(f'{key} = {val}\\n')\n",
    "if save:\n",
    "    print()\n",
    "    print(f\"Saved to {fn_quants}!\")"
   ]
  },
  {
   "cell_type": "markdown",
   "id": "f08e5fca",
   "metadata": {},
   "source": [
    "## Table showing catalog"
   ]
  },
  {
   "cell_type": "code",
   "execution_count": 185,
   "id": "97406afe",
   "metadata": {},
   "outputs": [
    {
     "data": {
      "text/plain": [
       "<TableColumns names=('source_id','ra','dec','l','b','phot_g_mean_mag','phot_bp_mean_mag','phot_rp_mean_mag','phot_g_n_obs','phot_bp_n_obs','phot_rp_n_obs','redshift_qsoc','redshift_qsoc_lower','redshift_qsoc_upper','zscore_qsoc','flags_qsoc','pmra','pmra_error','pmdec','pmdec_error','parallax','parallax_error','ebv','A_v','pm','rand_ints','mag_w1_vg','mag_w2_vg','unwise_objid','g_rp','bp_g','bp_rp','g_w1','w1_w2','redshift_spz_raw','redshift_spz_err','redshift_spz')>"
      ]
     },
     "execution_count": 185,
     "metadata": {},
     "output_type": "execute_result"
    }
   ],
   "source": [
    "tab_gcatlo.columns"
   ]
  },
  {
   "cell_type": "code",
   "execution_count": 239,
   "id": "e1c70f8e",
   "metadata": {},
   "outputs": [],
   "source": [
    "columns_show = ['source_id', 'ra', 'dec', 'redshift_spz', 'redshift_spz_err', 'unwise_objid']\n",
    "#columns_show = ['source_id', 'ra', 'dec']\n",
    "fmt_dict = {'source_id': 'd',\n",
    "            'ra': '.7f',\n",
    "            'dec': '.7f', \n",
    "            'redshift_spz': '.4f',\n",
    "            'redshift_spz_err': '.4f',\n",
    "            'unwise_objid': ''\n",
    "            }"
   ]
  },
  {
   "cell_type": "code",
   "execution_count": 240,
   "id": "61ecedf7",
   "metadata": {},
   "outputs": [
    {
     "name": "stdout",
     "output_type": "stream",
     "text": [
      "[6879983591771489024, 305.83261978244406, -12.188166605726837, 2.1306028366088867, 0.6760891064071656, '3059m122o0016112']\n",
      "[4794863040707918080, 88.98124338469555, -48.262755725696955, 0.819059431552887, 0.055243764801025386, '0899m485o0023638']\n",
      "[6539481853018479872, 346.84816729684184, -46.337839769077696, 2.166107416152954, 0.0602146595382691, '3469m470o0026036']\n",
      "[4226860693919442688, 312.42045020208616, -1.172894041409968, 1.5396114587783813, 0.06936078229904175, '3131m016o0024412']\n",
      "[3598429879556184064, 177.417328564875, -6.631830427786866, 2.560123920440674, 0.3770664857101441, '1777m061o0002874']\n",
      "\\texttt{source_id} & \\texttt{ra} & \\texttt{dec} & \\texttt{redshift_spz} & \\texttt{redshift_spz_err} & \\texttt{unwise_objid}\\\\ \n",
      "6879983591771489024 & 305.8326198 & -12.1881666 & 2.1306 & 0.6761 & 3059m122o0016112 \\\\ \n",
      "4794863040707918080 & 88.9812434 & -48.2627557 & 0.8191 & 0.0552 & 0899m485o0023638 \\\\ \n",
      "6539481853018479872 & 346.8481673 & -46.3378398 & 2.1661 & 0.0602 & 3469m470o0026036 \\\\ \n",
      "4226860693919442688 & 312.4204502 & -1.1728940 & 1.5396 & 0.0694 & 3131m016o0024412 \\\\ \n",
      "3598429879556184064 & 177.4173286 & -6.6318304 & 2.5601 & 0.3771 & 1777m061o0002874 \\\\ \n",
      "\n"
     ]
    }
   ],
   "source": [
    "n_show = 5\n",
    "rand_ints_show = np.arange(5)\n",
    "table_contents = ''\n",
    "\n",
    "column_labels = [f'\\\\texttt{{{c}}}' for c in columns_show]\n",
    "table_contents += ' & '.join(column_labels) + '\\\\\\\\ \\n'\n",
    "for rand_int in rand_ints_show:\n",
    "    idx = np.where(tab_gcatlo['rand_ints']==rand_int)[0][0]\n",
    "    vals = [tab_gcatlo[c][idx] for c in columns_show]\n",
    "    print(vals)\n",
    "    #table_contents += ' & '.join(f'{vals:{fmt}}') + '\\\\\\\\ \\n'\n",
    "    vals_fmt = [f'{vals[i]:{fmt_dict[columns_show[i]]}}' for i in range(len(columns_show))]\n",
    "    table_contents += ' & '.join(vals_fmt) + ' \\\\\\\\ \\n'\n",
    "    \n",
    "print(table_contents)"
   ]
  },
  {
   "cell_type": "code",
   "execution_count": 241,
   "id": "0bd514c0",
   "metadata": {},
   "outputs": [
    {
     "name": "stdout",
     "output_type": "stream",
     "text": [
      "Saved to ../data/catalog_table.txt!\n"
     ]
    }
   ],
   "source": [
    "fn_table = '../data/catalog_table.txt'\n",
    "with open(fn_table, 'w') as f:\n",
    "    if save:\n",
    "        f.write(table_contents)\n",
    "if save:\n",
    "    print(f\"Saved to {fn_table}!\")"
   ]
  },
  {
   "cell_type": "markdown",
   "id": "9aecee06",
   "metadata": {},
   "source": [
    "TODO: write checks for randints for every table"
   ]
  },
  {
   "cell_type": "markdown",
   "id": "2060dada",
   "metadata": {},
   "source": [
    "TODO: fix header for final catalog"
   ]
  },
  {
   "cell_type": "code",
   "execution_count": null,
   "id": "14679d33",
   "metadata": {},
   "outputs": [],
   "source": []
  }
 ],
 "metadata": {
  "kernelspec": {
   "display_name": "Python [conda env:gaiaenv]",
   "language": "python",
   "name": "conda-env-gaiaenv-py"
  },
  "language_info": {
   "codemirror_mode": {
    "name": "ipython",
    "version": 3
   },
   "file_extension": ".py",
   "mimetype": "text/x-python",
   "name": "python",
   "nbconvert_exporter": "python",
   "pygments_lexer": "ipython3",
   "version": "3.10.10"
  }
 },
 "nbformat": 4,
 "nbformat_minor": 5
}
