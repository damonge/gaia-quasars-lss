{
 "cells": [
  {
   "cell_type": "code",
   "execution_count": 1,
   "id": "2f9a8c4b",
   "metadata": {},
   "outputs": [],
   "source": [
    "from astropy.table import Table, join\n",
    "import numpy as np\n",
    "\n",
    "import time\n",
    "from numpy.random import default_rng\n",
    "\n",
    "import healpy as hp\n",
    "import pandas as pd\n",
    "\n",
    "import astropy.cosmology\n",
    "from astropy.coordinates import SkyCoord\n",
    "from astropy import units as u\n",
    "from astropy.table import Table\n",
    "from astropy.cosmology import Planck18\n",
    "from astropy.io import fits\n",
    "\n",
    "import sys\n",
    "sys.path.insert(0,'../code')\n",
    "%load_ext autoreload\n",
    "%autoreload 2\n",
    "import utils\n",
    "import generate_random\n",
    "import correlations\n",
    "import masks\n",
    "import maps"
   ]
  },
  {
   "cell_type": "code",
   "execution_count": 2,
   "id": "039c0c40",
   "metadata": {},
   "outputs": [],
   "source": [
    "from matplotlib import pyplot as plt"
   ]
  },
  {
   "cell_type": "markdown",
   "id": "a7d2b316",
   "metadata": {},
   "source": [
    "# Parameter setting"
   ]
  },
  {
   "cell_type": "markdown",
   "id": "d71bda00",
   "metadata": {},
   "source": [
    "Saving"
   ]
  },
  {
   "cell_type": "code",
   "execution_count": 5,
   "id": "0b35295e",
   "metadata": {},
   "outputs": [],
   "source": [
    "quants = {}"
   ]
  },
  {
   "cell_type": "code",
   "execution_count": 6,
   "id": "2e56fd13",
   "metadata": {},
   "outputs": [],
   "source": [
    "fn_quants = '../data/quantities.txt'\n",
    "save = True"
   ]
  },
  {
   "cell_type": "markdown",
   "id": "a1821f5b",
   "metadata": {},
   "source": [
    "Names"
   ]
  },
  {
   "cell_type": "code",
   "execution_count": 7,
   "id": "54aa0f10",
   "metadata": {},
   "outputs": [],
   "source": [
    "name_catalog = '\\emph{{Gaia}}-unWISE Quasmology Catalog'\n",
    "abbrv_catalog = 'GW-Quasmo'\n",
    "\n",
    "name_gpurer = '\\emph{{Gaia}} Purer Sample'\n",
    "abbrv_gpurer = '\\emph{{Gaia}} Purer'"
   ]
  },
  {
   "cell_type": "markdown",
   "id": "32cb3979",
   "metadata": {},
   "source": [
    "Functions"
   ]
  },
  {
   "cell_type": "code",
   "execution_count": 8,
   "id": "8b0ad849",
   "metadata": {},
   "outputs": [],
   "source": [
    "def get_ndens_map(ras, decs, NSIDE=64):\n",
    "    map_nqso, _ = maps.get_map(NSIDE, ras, decs, null_val=0)\n",
    "    map_ndens = map_nqso/area_per_pixel\n",
    "    map_ndens_masked = hp.ma(map_ndens)\n",
    "    map_ndens_masked.mask = map_ndens==0\n",
    "    return map_ndens_masked"
   ]
  },
  {
   "cell_type": "markdown",
   "id": "4000c5a3",
   "metadata": {},
   "source": [
    "Map settings"
   ]
  },
  {
   "cell_type": "code",
   "execution_count": 9,
   "id": "bbb69434",
   "metadata": {},
   "outputs": [
    {
     "name": "stdout",
     "output_type": "stream",
     "text": [
      "Area per pixel: 0.839 deg\n"
     ]
    }
   ],
   "source": [
    "NSIDE = 64\n",
    "area_per_pixel = hp.nside2pixarea(NSIDE, degrees=True)\n",
    "print(f\"Area per pixel: {area_per_pixel:.3f} deg\")"
   ]
  },
  {
   "cell_type": "markdown",
   "id": "f442f26c",
   "metadata": {},
   "source": [
    "Other prelims"
   ]
  },
  {
   "cell_type": "code",
   "execution_count": 10,
   "id": "1cdd0978",
   "metadata": {},
   "outputs": [],
   "source": [
    "G_hi = 20.5\n",
    "G_lo = 20.0"
   ]
  },
  {
   "cell_type": "code",
   "execution_count": 11,
   "id": "14d0962e",
   "metadata": {},
   "outputs": [],
   "source": [
    "rng = np.random.default_rng(seed=42)"
   ]
  },
  {
   "cell_type": "markdown",
   "id": "50414baf",
   "metadata": {},
   "source": [
    "# Load datasets"
   ]
  },
  {
   "cell_type": "markdown",
   "id": "c079e35e",
   "metadata": {},
   "source": [
    "### Gaia"
   ]
  },
  {
   "cell_type": "code",
   "execution_count": 4,
   "id": "c3ae3ac1",
   "metadata": {},
   "outputs": [
    {
     "name": "stdout",
     "output_type": "stream",
     "text": [
      "6649162\n"
     ]
    }
   ],
   "source": [
    "fn_gall = '../data/gaia_candidates.fits.gz'\n",
    "tab_gall = utils.load_table(fn_gall)\n",
    "print(len(tab_gall))"
   ]
  },
  {
   "cell_type": "code",
   "execution_count": 12,
   "id": "381ef675",
   "metadata": {},
   "outputs": [
    {
     "name": "stdout",
     "output_type": "stream",
     "text": [
      "1942825\n"
     ]
    }
   ],
   "source": [
    "fn_gpurer_ids = '../data/gaia_purer_sourceids.fits'\n",
    "tab_gpurer_ids = utils.load_table(fn_gpurer_ids)\n",
    "tab_gpurer = join(tab_gall, tab_gpurer_ids, keys='source_id', join_type='inner', metadata_conflicts='silent')\n",
    "print(len(tab_gpurer))"
   ]
  },
  {
   "cell_type": "code",
   "execution_count": 13,
   "id": "7979dbaa",
   "metadata": {},
   "outputs": [
    {
     "name": "stdout",
     "output_type": "stream",
     "text": [
      "1518782\n"
     ]
    }
   ],
   "source": [
    "fn_gsup = '../data/gaia_candidates_superset.fits'\n",
    "tab_gsup = utils.load_table(fn_gsup)\n",
    "print(len(tab_gsup))"
   ]
  },
  {
   "cell_type": "code",
   "execution_count": 14,
   "id": "a608dd61",
   "metadata": {},
   "outputs": [
    {
     "name": "stdout",
     "output_type": "stream",
     "text": [
      "1414385\n"
     ]
    }
   ],
   "source": [
    "fn_gclean = '../data/gaia_candidates_clean.fits'\n",
    "tab_gclean = utils.load_table(fn_gclean)\n",
    "print(len(tab_gclean))"
   ]
  },
  {
   "cell_type": "code",
   "execution_count": 15,
   "id": "9060a2a4",
   "metadata": {},
   "outputs": [
    {
     "name": "stdout",
     "output_type": "stream",
     "text": [
      "755850\n"
     ]
    }
   ],
   "source": [
    "fn_gcatlo = f'../data/catalog_G{G_lo}.fits'\n",
    "tab_gcatlo = utils.load_table(fn_gcatlo)\n",
    "print(len(tab_gcatlo))"
   ]
  },
  {
   "cell_type": "code",
   "execution_count": 16,
   "id": "03d40069",
   "metadata": {},
   "outputs": [
    {
     "name": "stdout",
     "output_type": "stream",
     "text": [
      "1295502\n"
     ]
    }
   ],
   "source": [
    "fn_gcathi = f'../data/catalog_G{G_hi}.fits'\n",
    "tab_gcathi = utils.load_table(fn_gcathi)\n",
    "print(len(tab_gcathi))"
   ]
  },
  {
   "cell_type": "markdown",
   "id": "aad9f790",
   "metadata": {},
   "source": [
    "### SDSS"
   ]
  },
  {
   "cell_type": "markdown",
   "id": "bd9a9300",
   "metadata": {},
   "source": [
    "These are SDSS objects that have (any) Gaia source matches. There is unWISE data where available, but the below catalogs are not limited to unWISE matches."
   ]
  },
  {
   "cell_type": "code",
   "execution_count": 16,
   "id": "d9fda86b",
   "metadata": {},
   "outputs": [
    {
     "name": "stdout",
     "output_type": "stream",
     "text": [
      "Number of SDSS quasars: 379698\n",
      "Number with unWISE info: 350070\n"
     ]
    }
   ],
   "source": [
    "tab_squasars = utils.load_table(f'../data/quasars_sdss_xgaia_xunwise_good_nodup.fits')\n",
    "print(f\"Number of SDSS quasars: {len(tab_squasars)}\")\n",
    "print(f\"Number with unWISE info:\", np.sum(np.isfinite(tab_squasars['mag_w1_vg']) & ~tab_squasars.mask['mag_w1_vg']))"
   ]
  },
  {
   "cell_type": "code",
   "execution_count": 17,
   "id": "ae2e2685",
   "metadata": {},
   "outputs": [
    {
     "name": "stdout",
     "output_type": "stream",
     "text": [
      "Number of SDSS stars: 683221\n",
      "Number with unWISE info: 482080\n"
     ]
    }
   ],
   "source": [
    "tab_sstars = utils.load_table(f'../data/stars_sdss_xgaia_xunwise_good_nodup.fits')\n",
    "print(f\"Number of SDSS stars: {len(tab_sstars)}\")\n",
    "print(f\"Number with unWISE info:\", np.sum(np.isfinite(tab_sstars['mag_w1_vg']) & ~tab_sstars.mask['mag_w1_vg']))"
   ]
  },
  {
   "cell_type": "code",
   "execution_count": 18,
   "id": "2431e5c9",
   "metadata": {},
   "outputs": [
    {
     "name": "stdout",
     "output_type": "stream",
     "text": [
      "Number of SDSS galaxies: 717059\n",
      "Number with unWISE info: 600897\n"
     ]
    }
   ],
   "source": [
    "tab_sgals = utils.load_table(f'../data/galaxies_sdss_xgaia_xunwise_good_nodup.fits')\n",
    "print(f\"Number of SDSS galaxies: {len(tab_sgals)}\")\n",
    "print(f\"Number with unWISE info:\", np.sum(np.isfinite(tab_sgals['mag_w1_vg']) & ~tab_sgals.mask['mag_w1_vg']))"
   ]
  },
  {
   "cell_type": "markdown",
   "id": "9c2b8b4c",
   "metadata": {},
   "source": [
    "SDSS quasars with zwarning=0; gaia and unWISE data where available"
   ]
  },
  {
   "cell_type": "code",
   "execution_count": 19,
   "id": "3916385c",
   "metadata": {},
   "outputs": [
    {
     "name": "stdout",
     "output_type": "stream",
     "text": [
      "Number of all SDSS quasars: 638083\n"
     ]
    }
   ],
   "source": [
    "tab_sqall = utils.load_table(f'../data/quasars_sdss_xgaiaall_xunwiseall_good.fits')\n",
    "print(f\"Number of all SDSS quasars: {len(tab_sqall)}\")"
   ]
  },
  {
   "cell_type": "markdown",
   "id": "a9daf202",
   "metadata": {},
   "source": [
    "SDSS quasars x catalog clean, for SPZ redshifts"
   ]
  },
  {
   "cell_type": "code",
   "execution_count": null,
   "id": "f06ca0ee",
   "metadata": {},
   "outputs": [],
   "source": [
    "tab_sqclean = utils.load_table(f'../data/quasars_sdss_clean.fits')\n",
    "print(f\"Number of all SDSS quasars: {len(tab_sqclean)}\")"
   ]
  },
  {
   "cell_type": "markdown",
   "id": "800b2b9b",
   "metadata": {},
   "source": [
    "Only objects in superset (gaia qso candidates with unWISE data and QSOC redshifts and G lim)"
   ]
  },
  {
   "cell_type": "code",
   "execution_count": 20,
   "id": "eb0ef8ea",
   "metadata": {},
   "outputs": [
    {
     "name": "stdout",
     "output_type": "stream",
     "text": [
      "Number of labeled Gaia quasar candidates for decontamination: 259641\n"
     ]
    }
   ],
   "source": [
    "fn_labeled_sup = '../data/labeled_superset.fits'\n",
    "tab_labeled_sup = utils.load_table(fn_labeled_sup)\n",
    "print(f\"Number of labeled Gaia quasar candidates for decontamination: {len(tab_labeled_sup)}\")"
   ]
  },
  {
   "cell_type": "markdown",
   "id": "7ccbd82c",
   "metadata": {},
   "source": [
    "Redshifts"
   ]
  },
  {
   "cell_type": "code",
   "execution_count": 21,
   "id": "2c90de9e",
   "metadata": {},
   "outputs": [
    {
     "name": "stdout",
     "output_type": "stream",
     "text": [
      "N = 243206\n"
     ]
    }
   ],
   "source": [
    "redshift_estimator_name = 'kNN'\n",
    "save_tag_model = f'_K27_std'\n",
    "fn_spz_labeled = f'../data/redshift_estimates/redshifts_spz_labeled_{redshift_estimator_name}{save_tag_model}.fits'\n",
    "tab_spz_labeled = utils.load_table(fn_spz_labeled)\n",
    "print(f\"N = {len(tab_spz_labeled)}\")"
   ]
  },
  {
   "cell_type": "markdown",
   "id": "d7f52cf8",
   "metadata": {},
   "source": [
    "# Quantities"
   ]
  },
  {
   "cell_type": "markdown",
   "id": "e74eadcb",
   "metadata": {},
   "source": [
    "## Numbers of objects"
   ]
  },
  {
   "cell_type": "code",
   "execution_count": 22,
   "id": "b87a60a7",
   "metadata": {},
   "outputs": [
    {
     "name": "stdout",
     "output_type": "stream",
     "text": [
      "6,649,162\n"
     ]
    }
   ],
   "source": [
    "quants['N_gall'] = f\"{len(tab_gall):,}\"\n",
    "print(quants['N_gall'])"
   ]
  },
  {
   "cell_type": "code",
   "execution_count": 23,
   "id": "2ce45988",
   "metadata": {},
   "outputs": [
    {
     "name": "stdout",
     "output_type": "stream",
     "text": [
      "6,375,063\n"
     ]
    }
   ],
   "source": [
    "i_gall_wqsoc = np.isfinite(tab_gall['redshift_qsoc'])\n",
    "quants['N_gall_wqsoc'] = f\"{np.sum(i_gall_wqsoc):,}\"\n",
    "print(quants['N_gall_wqsoc'])"
   ]
  },
  {
   "cell_type": "code",
   "execution_count": 24,
   "id": "85b4075d",
   "metadata": {},
   "outputs": [
    {
     "name": "stdout",
     "output_type": "stream",
     "text": [
      "1,942,825\n"
     ]
    }
   ],
   "source": [
    "quants['N_gpurer'] = f\"{len(tab_gpurer):,}\"\n",
    "print(quants['N_gpurer'])"
   ]
  },
  {
   "cell_type": "code",
   "execution_count": 25,
   "id": "79b8bbc5",
   "metadata": {},
   "outputs": [
    {
     "name": "stdout",
     "output_type": "stream",
     "text": [
      "1,729,625\n"
     ]
    }
   ],
   "source": [
    "i_gpurer_wqsoc = np.isfinite(tab_gpurer['redshift_qsoc'])\n",
    "quants['N_gpurer_wqsoc'] = f\"{np.sum(i_gpurer_wqsoc):,}\"\n",
    "print(quants['N_gpurer_wqsoc'])"
   ]
  },
  {
   "cell_type": "code",
   "execution_count": 26,
   "id": "a8b97ee3",
   "metadata": {},
   "outputs": [
    {
     "name": "stdout",
     "output_type": "stream",
     "text": [
      "1,518,782\n"
     ]
    }
   ],
   "source": [
    "quants['N_gsup'] = f\"{len(tab_gsup):,}\"\n",
    "print(quants['N_gsup'])"
   ]
  },
  {
   "cell_type": "code",
   "execution_count": 27,
   "id": "6855ccfe",
   "metadata": {},
   "outputs": [
    {
     "name": "stdout",
     "output_type": "stream",
     "text": [
      "1,414,385\n"
     ]
    }
   ],
   "source": [
    "quants['N_gclean'] = f\"{len(tab_gclean):,}\"\n",
    "print(quants['N_gclean'])"
   ]
  },
  {
   "cell_type": "code",
   "execution_count": 28,
   "id": "931accbc",
   "metadata": {},
   "outputs": [
    {
     "name": "stdout",
     "output_type": "stream",
     "text": [
      "7\n"
     ]
    }
   ],
   "source": [
    "quants['p_cut_gsup_gclean'] = f\"{100*(len(tab_gsup) - len(tab_gclean))/len(tab_gsup):.0f}\"\n",
    "print(quants['p_cut_gsup_gclean'])"
   ]
  },
  {
   "cell_type": "code",
   "execution_count": 29,
   "id": "968444aa",
   "metadata": {},
   "outputs": [
    {
     "name": "stdout",
     "output_type": "stream",
     "text": [
      "755,850\n"
     ]
    }
   ],
   "source": [
    "quants['N_gcatlo'] = f\"{len(tab_gcatlo):,}\"\n",
    "print(quants['N_gcatlo'])"
   ]
  },
  {
   "cell_type": "code",
   "execution_count": 30,
   "id": "20fdc13b",
   "metadata": {},
   "outputs": [
    {
     "name": "stdout",
     "output_type": "stream",
     "text": [
      "1,295,502\n"
     ]
    }
   ],
   "source": [
    "quants['N_gcathi'] = f\"{len(tab_gcathi):,}\"\n",
    "print(quants['N_gcathi'])"
   ]
  },
  {
   "cell_type": "code",
   "execution_count": 31,
   "id": "5f2abcc8",
   "metadata": {},
   "outputs": [
    {
     "name": "stdout",
     "output_type": "stream",
     "text": [
      "343,074\n"
     ]
    }
   ],
   "source": [
    "i_squasars_unwise = np.isfinite(tab_squasars['mag_w1_vg']) & ~tab_squasars.mask['mag_w1_vg'] & \\\n",
    "                    np.isfinite(tab_squasars['mag_w2_vg']) & ~tab_squasars.mask['mag_w2_vg']\n",
    "quants['N_squasars_unwise'] = f\"{np.sum(i_squasars_unwise):,}\"\n",
    "print(quants['N_squasars_unwise'])"
   ]
  },
  {
   "cell_type": "code",
   "execution_count": 32,
   "id": "4cfe1321",
   "metadata": {},
   "outputs": [
    {
     "name": "stdout",
     "output_type": "stream",
     "text": [
      "246,122\n"
     ]
    }
   ],
   "source": [
    "i_sq_sup = tab_labeled_sup['class']=='q'\n",
    "quants['N_squasars_sup'] = f\"{np.sum(i_sq_sup):,}\"\n",
    "print(quants['N_squasars_sup'])"
   ]
  },
  {
   "cell_type": "code",
   "execution_count": 33,
   "id": "12af6ca8",
   "metadata": {},
   "outputs": [
    {
     "name": "stdout",
     "output_type": "stream",
     "text": [
      "638,083\n"
     ]
    }
   ],
   "source": [
    "quants['N_sqall'] = f\"{len(tab_sqall):,}\"\n",
    "print(quants['N_sqall'])"
   ]
  },
  {
   "cell_type": "markdown",
   "id": "6dceb949",
   "metadata": {},
   "source": [
    "## Redshift info"
   ]
  },
  {
   "cell_type": "markdown",
   "id": "6b4017ad",
   "metadata": {},
   "source": [
    "### general"
   ]
  },
  {
   "cell_type": "code",
   "execution_count": 34,
   "id": "85e7e764",
   "metadata": {},
   "outputs": [
    {
     "name": "stdout",
     "output_type": "stream",
     "text": [
      "1.67\n"
     ]
    },
    {
     "name": "stderr",
     "output_type": "stream",
     "text": [
      "/ext3/miniconda3/envs/gaiaenv/lib/python3.10/site-packages/numpy/core/fromnumeric.py:784: UserWarning: Warning: 'partition' will ignore the 'mask' of the MaskedColumn.\n",
      "  a.partition(kth, axis=axis, kind=kind, order=order)\n"
     ]
    }
   ],
   "source": [
    "i_zfinite = np.isfinite(tab_gall['redshift_qsoc'])\n",
    "quants['z_med_gall'] = f\"{np.median(tab_gall['redshift_qsoc'][i_zfinite]):.2f}\"\n",
    "print(quants['z_med_gall'])"
   ]
  },
  {
   "cell_type": "code",
   "execution_count": 35,
   "id": "e66f7231",
   "metadata": {},
   "outputs": [
    {
     "name": "stdout",
     "output_type": "stream",
     "text": [
      "1.45\n"
     ]
    }
   ],
   "source": [
    "quants['z_med_gcatlo'] = f\"{np.median(tab_gcatlo['redshift_spz']):.2f}\"\n",
    "print(quants['z_med_gcatlo'])"
   ]
  },
  {
   "cell_type": "code",
   "execution_count": 36,
   "id": "489513f6",
   "metadata": {},
   "outputs": [
    {
     "name": "stdout",
     "output_type": "stream",
     "text": [
      "76804 0.10161275385327777\n"
     ]
    }
   ],
   "source": [
    "zintermediate = 2.5\n",
    "quants['zintermediate'] = zintermediate\n",
    "i_above_zintermediate_gcatlo = tab_gcatlo['redshift_spz'] > zintermediate\n",
    "quants['N_above_zintermediate_gcatlo'] = np.sum(i_above_zintermediate_gcatlo)\n",
    "quants['p_above_zintermediate_gcatlo'] = np.sum(i_above_zintermediate_gcatlo)/len(i_above_zintermediate_gcatlo)\n",
    "print(quants['N_above_zintermediate_gcatlo'], quants['p_above_zintermediate_gcatlo'])"
   ]
  },
  {
   "cell_type": "markdown",
   "id": "375c66cd",
   "metadata": {},
   "source": [
    "### dz checks vs sdss"
   ]
  },
  {
   "cell_type": "code",
   "execution_count": 37,
   "id": "c1364cfc",
   "metadata": {},
   "outputs": [],
   "source": [
    "rand_ints_labeled = tab_spz_labeled['rand_ints']\n",
    "i_train, i_valid, i_test = utils.split_train_val_test(rand_ints_labeled,\n",
    "                                 frac_train=0.7, frac_val=0.15, frac_test=0.15)"
   ]
  },
  {
   "cell_type": "code",
   "execution_count": 38,
   "id": "fdf4fa7e",
   "metadata": {},
   "outputs": [],
   "source": [
    "z_sdss_test = tab_spz_labeled['z_sdss'][i_test]\n",
    "z_spzraw_test = tab_spz_labeled['redshift_spz_raw'][i_test]\n",
    "z_spz_test = tab_spz_labeled['redshift_spz'][i_test]\n",
    "z_gaia_test = tab_spz_labeled['redshift_qsoc'][i_test]"
   ]
  },
  {
   "cell_type": "code",
   "execution_count": 39,
   "id": "3b56c8b6",
   "metadata": {},
   "outputs": [],
   "source": [
    "dz_spzraw_test = (z_spzraw_test - z_sdss_test)/(1+z_sdss_test)\n",
    "dz_spz_test = (z_spz_test - z_sdss_test)/(1+z_sdss_test)\n",
    "dz_gaia_test = (z_gaia_test - z_sdss_test)/(1+z_sdss_test)"
   ]
  },
  {
   "cell_type": "code",
   "execution_count": 40,
   "id": "685ecf89",
   "metadata": {},
   "outputs": [],
   "source": [
    "dz_threshs = {'dzlo': 0.01, 'dzmid': 0.1, 'dzhi': 0.2}\n",
    "G_maxs = {'Gbright': 19.0, 'Glo': 20.0, 'Ghi': 20.5}\n",
    "dz_arrs = {'zspz': dz_spz_test, 'zgaia': dz_gaia_test}"
   ]
  },
  {
   "cell_type": "code",
   "execution_count": 41,
   "id": "3ca2b4e4",
   "metadata": {},
   "outputs": [
    {
     "name": "stdout",
     "output_type": "stream",
     "text": [
      "p_outliers_zspz_dzlo_Gbright 15\n",
      "p_acc_zspz_dzlo_Gbright 85\n",
      "p_outliers_zgaia_dzlo_Gbright 10\n",
      "p_acc_zgaia_dzlo_Gbright 90\n",
      "p_outliers_zspz_dzmid_Gbright 6\n",
      "p_acc_zspz_dzmid_Gbright 94\n",
      "p_outliers_zgaia_dzmid_Gbright 7\n",
      "p_acc_zgaia_dzmid_Gbright 93\n",
      "p_outliers_zspz_dzhi_Gbright 4\n",
      "p_acc_zspz_dzhi_Gbright 96\n",
      "p_outliers_zgaia_dzhi_Gbright 7\n",
      "p_acc_zgaia_dzhi_Gbright 93\n",
      "p_outliers_zspz_dzlo_Glo 27\n",
      "p_acc_zspz_dzlo_Glo 73\n",
      "p_outliers_zgaia_dzlo_Glo 25\n",
      "p_acc_zgaia_dzlo_Glo 75\n",
      "p_outliers_zspz_dzmid_Glo 10\n",
      "p_acc_zspz_dzmid_Glo 90\n",
      "p_outliers_zgaia_dzmid_Glo 19\n",
      "p_acc_zgaia_dzmid_Glo 81\n",
      "p_outliers_zspz_dzhi_Glo 6\n",
      "p_acc_zspz_dzhi_Glo 94\n",
      "p_outliers_zgaia_dzhi_Glo 18\n",
      "p_acc_zgaia_dzhi_Glo 82\n",
      "p_outliers_zspz_dzlo_Ghi 39\n",
      "p_acc_zspz_dzlo_Ghi 61\n",
      "p_outliers_zgaia_dzlo_Ghi 38\n",
      "p_acc_zgaia_dzlo_Ghi 62\n",
      "p_outliers_zspz_dzmid_Ghi 17\n",
      "p_acc_zspz_dzmid_Ghi 83\n",
      "p_outliers_zgaia_dzmid_Ghi 30\n",
      "p_acc_zgaia_dzmid_Ghi 70\n",
      "p_outliers_zspz_dzhi_Ghi 9\n",
      "p_acc_zspz_dzhi_Ghi 91\n",
      "p_outliers_zgaia_dzhi_Ghi 28\n",
      "p_acc_zgaia_dzhi_Ghi 72\n"
     ]
    }
   ],
   "source": [
    "for G_name, G_max in G_maxs.items():\n",
    "    quants[G_name] = G_max\n",
    "    for dz_thresh_name, dz_thresh in dz_threshs.items():\n",
    "        quants[dz_thresh_name] = dz_thresh\n",
    "        for z_name, dz_arr in dz_arrs.items():\n",
    "        \n",
    "            i_G = tab_spz_labeled['phot_g_mean_mag'][i_test] < G_max\n",
    "            i_outliers = np.abs(dz_arr[i_G]) > dz_thresh\n",
    "            key = f'p_outliers_{z_name}_{dz_thresh_name}_{G_name}'\n",
    "            val = f\"{100*np.sum(i_outliers)/len(i_outliers):.0f}\"\n",
    "            print(key, val)\n",
    "            quants[key] = val\n",
    "            \n",
    "            i_acc = np.abs(dz_arr[i_G]) <= dz_thresh\n",
    "            key = f'p_acc_{z_name}_{dz_thresh_name}_{G_name}'\n",
    "            val = f\"{100*np.sum(i_acc)/len(i_acc):.0f}\"\n",
    "            print(key, val)\n",
    "            quants[key] = val"
   ]
  },
  {
   "cell_type": "markdown",
   "id": "c028fdb9",
   "metadata": {},
   "source": [
    "Get numbers for all Gaia candidates with SDSS redshifts:"
   ]
  },
  {
   "cell_type": "code",
   "execution_count": 42,
   "id": "01821844",
   "metadata": {},
   "outputs": [
    {
     "data": {
      "text/plain": [
       "<TableColumns names=('ra','dec','source_id','ra_sdss','dec_sdss','objid','z_sdss','phot_g_mean_mag','phot_bp_mean_mag','phot_rp_mean_mag','phot_bp_n_obs','phot_rp_n_obs','dec_unwise','mag_w1_vg','mag_w2_vg','ra_unwise','unwise_objid','dist_arcsec')>"
      ]
     },
     "execution_count": 42,
     "metadata": {},
     "output_type": "execute_result"
    }
   ],
   "source": [
    "tab_squasars.columns"
   ]
  },
  {
   "cell_type": "code",
   "execution_count": 43,
   "id": "b0e59037",
   "metadata": {},
   "outputs": [],
   "source": [
    "tab_squasars_lite = tab_squasars.copy()\n",
    "tab_squasars_lite.keep_columns(['source_id', 'z_sdss'])\n",
    "tab_gall_lite = tab_gall.copy()\n",
    "tab_gall_lite.keep_columns(['source_id', 'redshift_qsoc', 'phot_g_mean_mag'])"
   ]
  },
  {
   "cell_type": "code",
   "execution_count": 44,
   "id": "3035b365",
   "metadata": {},
   "outputs": [
    {
     "name": "stdout",
     "output_type": "stream",
     "text": [
      "326067\n"
     ]
    }
   ],
   "source": [
    "tab_gall_xsquasars = join(tab_gall_lite, tab_squasars_lite, keys='source_id', join_type='inner')\n",
    "print(len(tab_gall_xsquasars))"
   ]
  },
  {
   "cell_type": "code",
   "execution_count": 45,
   "id": "835eddbb",
   "metadata": {},
   "outputs": [
    {
     "name": "stdout",
     "output_type": "stream",
     "text": [
      "320149\n"
     ]
    }
   ],
   "source": [
    "tab_gall_xsquasars = tab_gall_xsquasars[np.isfinite(tab_gall_xsquasars['redshift_qsoc'])]\n",
    "print(len(tab_gall_xsquasars))"
   ]
  },
  {
   "cell_type": "code",
   "execution_count": 46,
   "id": "0b3ae4be",
   "metadata": {},
   "outputs": [],
   "source": [
    "z_sdss_gall = tab_gall_xsquasars['z_sdss']\n",
    "z_gaia_gall = tab_gall_xsquasars['redshift_qsoc']\n",
    "\n",
    "dz_gaia_gall = (z_gaia_gall - z_sdss_gall)/(1+z_sdss_gall)"
   ]
  },
  {
   "cell_type": "code",
   "execution_count": 47,
   "id": "97180794",
   "metadata": {},
   "outputs": [
    {
     "name": "stdout",
     "output_type": "stream",
     "text": [
      "p_outliers_gall_zgaia_dzlo_Gbright 9\n",
      "p_outliers_gall_zgaia_dzmid_Gbright 7\n",
      "p_outliers_gall_zgaia_dzhi_Gbright 6\n",
      "p_outliers_gall_zgaia_dzlo_Glo 25\n",
      "p_outliers_gall_zgaia_dzmid_Glo 19\n",
      "p_outliers_gall_zgaia_dzhi_Glo 18\n",
      "p_outliers_gall_zgaia_dzlo_Ghi 38\n",
      "p_outliers_gall_zgaia_dzmid_Ghi 30\n",
      "p_outliers_gall_zgaia_dzhi_Ghi 28\n"
     ]
    }
   ],
   "source": [
    "z_name = 'zgaia'\n",
    "for G_name, G_max in G_maxs.items():\n",
    "    for dz_thresh_name, dz_thresh in dz_threshs.items():\n",
    "        \n",
    "        i_G = tab_gall_xsquasars['phot_g_mean_mag'] < G_max\n",
    "        i_outliers = np.abs(dz_gaia_gall[i_G]) > dz_thresh\n",
    "        key = f'p_outliers_gall_{z_name}_{dz_thresh_name}_{G_name}'\n",
    "        val = f\"{100*np.sum(i_outliers)/len(i_outliers):.0f}\"\n",
    "        print(key, val)\n",
    "        quants[key] = val"
   ]
  },
  {
   "cell_type": "markdown",
   "id": "64a8de59",
   "metadata": {},
   "source": [
    "Ends up being the same as our cleaned sample lol oop (rounded to a percent)"
   ]
  },
  {
   "cell_type": "code",
   "execution_count": 48,
   "id": "85add8f4",
   "metadata": {},
   "outputs": [
    {
     "name": "stdout",
     "output_type": "stream",
     "text": [
      "0.9259259259259259\n",
      "factor_reduction_outliers_dzlo_Glo : ${\\sim}1\\times$\n",
      "1.9\n",
      "factor_reduction_outliers_dzmid_Glo : ${\\sim}2\\times$\n",
      "3.0\n",
      "factor_reduction_outliers_dzhi_Glo : ${\\sim}3\\times$\n"
     ]
    }
   ],
   "source": [
    "G_name = 'Glo'\n",
    "for dz_thresh_name, dz_thresh in dz_threshs.items():\n",
    "    fac = float(quants[f'p_outliers_gall_zgaia_{dz_thresh_name}_{G_name}'])/ \\\n",
    "          float(quants[f'p_outliers_zspz_{dz_thresh_name}_{G_name}'])\n",
    "    key = f'factor_reduction_outliers_{dz_thresh_name}_{G_name}'\n",
    "    fac_rounded = round(fac*2)/2\n",
    "    val = rf'${{\\sim}}{fac_rounded:g}\\times$'\n",
    "    print(fac)\n",
    "    print(key,':', val)\n",
    "    quants[key] = val"
   ]
  },
  {
   "cell_type": "markdown",
   "id": "a727d51c",
   "metadata": {},
   "source": [
    "### Decontamination"
   ]
  },
  {
   "cell_type": "code",
   "execution_count": 49,
   "id": "37417654",
   "metadata": {},
   "outputs": [],
   "source": [
    "_, _, i_test = utils.split_train_val_test(tab_labeled_sup['rand_ints'], frac_train=0.7, frac_test=0.3, frac_val=0)"
   ]
  },
  {
   "cell_type": "code",
   "execution_count": 50,
   "id": "060cd80f",
   "metadata": {},
   "outputs": [
    {
     "name": "stdout",
     "output_type": "stream",
     "text": [
      "1119\n",
      "264\n",
      "4.238636363636363\n"
     ]
    }
   ],
   "source": [
    "i_contam_labeled = (tab_labeled_sup['class'][i_test]=='s') | (tab_labeled_sup['class'][i_test]=='g')\n",
    "print(np.sum(i_contam_labeled))\n",
    "\n",
    "i_contam_gclean = np.isin(tab_labeled_sup['source_id'][i_test][i_contam_labeled], tab_gclean['source_id'])\n",
    "print(np.sum(i_contam_gclean))\n",
    "print(np.sum(i_contam_labeled)/np.sum(i_contam_gclean))"
   ]
  },
  {
   "cell_type": "code",
   "execution_count": 51,
   "id": "2823ed66",
   "metadata": {},
   "outputs": [
    {
     "name": "stdout",
     "output_type": "stream",
     "text": [
      "4.238636363636363\n",
      "factor_reduction_contaminants ${\\sim}4\\times$\n"
     ]
    }
   ],
   "source": [
    "key = 'factor_reduction_contaminants'\n",
    "fac = np.sum(i_contam_labeled)/np.sum(i_contam_gclean)\n",
    "fac_rounded = round(fac*2)/2\n",
    "val = rf'${{\\sim}}{fac_rounded:g}\\times$'\n",
    "print(fac)\n",
    "print(key, val)\n",
    "quants[key] = val"
   ]
  },
  {
   "cell_type": "code",
   "execution_count": 52,
   "id": "d45b23d0",
   "metadata": {},
   "outputs": [
    {
     "name": "stdout",
     "output_type": "stream",
     "text": [
      "246122\n",
      "243206\n"
     ]
    }
   ],
   "source": [
    "i_q_labeled = tab_labeled_sup['class']=='q'\n",
    "print(np.sum(i_q_labeled))\n",
    "\n",
    "i_q_gclean = np.isin(tab_labeled_sup['source_id'][i_q_labeled], tab_gclean['source_id'])\n",
    "print(np.sum(i_q_gclean))"
   ]
  },
  {
   "cell_type": "code",
   "execution_count": 53,
   "id": "afdc60b2",
   "metadata": {},
   "outputs": [
    {
     "name": "stdout",
     "output_type": "stream",
     "text": [
      "0.011989835777077795\n",
      "p_sqall_excluded_clean 1.2\n"
     ]
    }
   ],
   "source": [
    "key = 'p_sqall_excluded_clean'\n",
    "p = np.sum(i_q_labeled)/np.sum(i_q_gclean)-1\n",
    "print(p)\n",
    "val = f'{p*100:.1f}'\n",
    "print(key, val)\n",
    "quants[key] = val"
   ]
  },
  {
   "cell_type": "markdown",
   "id": "a0b14eaf",
   "metadata": {},
   "source": [
    "### Area and volume"
   ]
  },
  {
   "cell_type": "code",
   "execution_count": 54,
   "id": "5eabfb75",
   "metadata": {},
   "outputs": [],
   "source": [
    "def v_shells_of_z(z_arr, z_bins, fsky, cosmo):\n",
    "    \n",
    "    v_at_z_bins = np.empty(len(z_bins), dtype=u.Quantity)\n",
    "    for i in range(len(z_bins)):\n",
    "        v = cosmo.comoving_volume(z_bins[i])\n",
    "        v_at_z_bins[i] = v.to(u.Gpc**3)\n",
    "    v_at_z_bins *= fsky\n",
    "    v_shells = v_at_z_bins[1:] - v_at_z_bins[:-1] \n",
    "\n",
    "    return np.array(v_shells)"
   ]
  },
  {
   "cell_type": "code",
   "execution_count": 55,
   "id": "6857bed5",
   "metadata": {},
   "outputs": [],
   "source": [
    "def ndens_of_z(z_arr, z_bins, fsky, cosmo):\n",
    "    \n",
    "    v_shells = v_shells_of_z(z_arr, z_bins, fsky, cosmo)\n",
    "    ndens = []\n",
    "    for i in range(len(z_bins)-1):\n",
    "        N_inbin = np.sum((z_arr >= z_bins[i]) & (z_arr < z_bins[i+1]))\n",
    "        ndens_inbin = N_inbin/v_shells[i]\n",
    "        ndens.append(ndens_inbin)\n",
    "    return ndens"
   ]
  },
  {
   "cell_type": "code",
   "execution_count": 56,
   "id": "332dbb70",
   "metadata": {},
   "outputs": [],
   "source": [
    "# eqn 1.7.32 of https://arxiv.org/pdf/1606.00180.pdf\n",
    "def volume_effective_Gpcperh(z_arr, z_bins, cosmo, fsky, P0):\n",
    "    \n",
    "    ndens_at_z_bins = ndens_of_z(z_arr, z_bins, fsky, cosmo)\n",
    "    ndens_at_z_bins = np.array(ndens_at_z_bins, dtype=u.Quantity)\n",
    "\n",
    "    nPs = np.array([n*P0 for n in ndens_at_z_bins])\n",
    "    prefacs = (nPs /(1 + nPs))**2\n",
    "    v_shells = v_shells_of_z(z_arr, z_bins, fsky, cosmo)    \n",
    "    v_Gpc = np.sum(prefacs*v_shells)\n",
    "\n",
    "    v_Gpc = v_Gpc.to(u.Gpc**3) # this should be just in Gpc\n",
    "    v_Gpcperh = v_Gpc * cosmo.h**3 # (Gpc) -> (Gpc/h)^3, mult by h^3 \n",
    "    print(f\"Sky fraction is {fsky:.3f}\")\n",
    "    print(f\"Effective volume is {v_Gpc:.3f} = {v_Gpcperh.value:.3f} (Gpc/h)^3\")\n",
    "    return v_Gpcperh.value"
   ]
  },
  {
   "cell_type": "code",
   "execution_count": 57,
   "id": "cb9b5fec",
   "metadata": {},
   "outputs": [],
   "source": [
    "cosmo = Planck18\n",
    "area_allsky = 41252.96125*(u.deg**2)"
   ]
  },
  {
   "cell_type": "markdown",
   "id": "7b878841",
   "metadata": {},
   "source": [
    "TODO: estimating p0 now, what should be doing?"
   ]
  },
  {
   "cell_type": "code",
   "execution_count": 58,
   "id": "94c6cdee",
   "metadata": {},
   "outputs": [
    {
     "name": "stdout",
     "output_type": "stream",
     "text": [
      "Dustmap already exists, loading from ../data/maps/map_dust_NSIDE64.npy\n"
     ]
    }
   ],
   "source": [
    "fn_dustmap = f'../data/maps/map_dust_NSIDE{NSIDE}.npy'\n",
    "map_dust = maps.get_dust_map(NSIDE=NSIDE, R=3.1, fn_map=fn_dustmap)"
   ]
  },
  {
   "cell_type": "markdown",
   "id": "b5262c38",
   "metadata": {},
   "source": [
    "Gaia:"
   ]
  },
  {
   "cell_type": "code",
   "execution_count": 59,
   "id": "2c12b603",
   "metadata": {},
   "outputs": [
    {
     "name": "stdout",
     "output_type": "stream",
     "text": [
      "29154.54 deg$^2$\n"
     ]
    }
   ],
   "source": [
    "Av_hi = 0.5\n",
    "npix_below_Avhi = np.sum(map_dust < Av_hi)\n",
    "area_below_Avhi = area_per_pixel*u.deg**2 * npix_below_Avhi\n",
    "quants['Avhi'] = Av_hi\n",
    "area_below_Avhi_fmt = rf'{area_below_Avhi.value:.2f} deg$^2$'\n",
    "quants['area_below_Avhi'] = area_below_Avhi_fmt\n",
    "print(quants['area_below_Avhi'])"
   ]
  },
  {
   "cell_type": "code",
   "execution_count": 60,
   "id": "3a6a6add",
   "metadata": {},
   "outputs": [
    {
     "name": "stdout",
     "output_type": "stream",
     "text": [
      "0.71\n"
     ]
    }
   ],
   "source": [
    "fsky_below_Avhi = area_below_Avhi/area_allsky\n",
    "quants['fsky_below_Avhi'] = f'{fsky_below_Avhi:.2f}'\n",
    "print(quants['fsky_below_Avhi'])"
   ]
  },
  {
   "cell_type": "code",
   "execution_count": 61,
   "id": "5b2ca801",
   "metadata": {},
   "outputs": [
    {
     "name": "stdout",
     "output_type": "stream",
     "text": [
      "Sky fraction is 0.707\n",
      "Effective volume is 10.598 Gpc3 = 3.283 (Gpc/h)^3\n",
      "3.28 $(h^{-1}\\,Gpc)^3$\n"
     ]
    }
   ],
   "source": [
    "z_arr = tab_gcatlo['redshift_spz']\n",
    "z_min, z_max = np.min(z_arr), np.max(z_arr)\n",
    "z_bins = np.arange(0, z_max+0.1, 0.1)\n",
    "P0 = 4e4 * u.Mpc**3 / cosmo.h**3 \n",
    "#P0 = P0.to(u.Gpc**3)\n",
    "#print(P0)\n",
    "vol_gcatlo = volume_effective_Gpcperh(z_arr, z_bins, cosmo, fsky_below_Avhi, P0)\n",
    "vol_gcatlo_fmt = rf'{vol_gcatlo:.2f} $(h^{{-1}}\\,Gpc)^3$'\n",
    "quants['volume_effective_gcatlo_below_Avhi'] = vol_gcatlo_fmt\n",
    "print(quants['volume_effective_gcatlo_below_Avhi'])"
   ]
  },
  {
   "cell_type": "code",
   "execution_count": 62,
   "id": "c760c27a",
   "metadata": {},
   "outputs": [
    {
     "name": "stdout",
     "output_type": "stream",
     "text": [
      "Sky fraction is 0.707\n",
      "Effective volume is 25.356 Gpc3 = 7.854 (Gpc/h)^3\n",
      "7.85 $(h^{-1}\\,Gpc)^3$\n"
     ]
    }
   ],
   "source": [
    "z_arr = tab_gcathi['redshift_spz']\n",
    "z_min, z_max = np.min(z_arr), np.max(z_arr)\n",
    "z_bins = np.arange(0, z_max+0.1, 0.1)\n",
    "P0 = 4e4 * u.Mpc**3 / cosmo.h**3 \n",
    "#P0 = P0.to(u.Gpc**3)\n",
    "#print(P0)\n",
    "vol_gcathi = volume_effective_Gpcperh(z_arr, z_bins, cosmo, fsky_below_Avhi, P0)\n",
    "vol_gcathi_fmt = rf'{vol_gcathi:.2f} $(h^{{-1}}\\,Gpc)^3$'\n",
    "quants['volume_effective_gcathi_below_Avhi'] = vol_gcathi_fmt\n",
    "print(quants['volume_effective_gcathi_below_Avhi'])"
   ]
  },
  {
   "cell_type": "markdown",
   "id": "edd3f4d4",
   "metadata": {},
   "source": [
    "SDSS:"
   ]
  },
  {
   "cell_type": "code",
   "execution_count": 63,
   "id": "f0fc7726",
   "metadata": {},
   "outputs": [],
   "source": [
    "# area via: # https://academic.oup.com/mnras/article/514/3/3396/6566355?login=true\n",
    "area_sdss = 4808*(u.deg**2)"
   ]
  },
  {
   "cell_type": "code",
   "execution_count": 64,
   "id": "e8d6321e",
   "metadata": {},
   "outputs": [
    {
     "name": "stdout",
     "output_type": "stream",
     "text": [
      "4808 deg$^2$\n"
     ]
    }
   ],
   "source": [
    "area_sdss_fmt = rf'{area_sdss.value:g} deg$^2$'\n",
    "quants['area_sdss'] = area_sdss_fmt\n",
    "print(quants['area_sdss'])"
   ]
  },
  {
   "cell_type": "code",
   "execution_count": 65,
   "id": "e0a32a91",
   "metadata": {},
   "outputs": [
    {
     "name": "stdout",
     "output_type": "stream",
     "text": [
      "0.12\n"
     ]
    }
   ],
   "source": [
    "fsky_sdss = area_sdss/area_allsky\n",
    "quants['fsky_sdss'] = f'{fsky_sdss:.2f}'\n",
    "print(quants['fsky_sdss'])"
   ]
  },
  {
   "cell_type": "code",
   "execution_count": 66,
   "id": "03a46bb6",
   "metadata": {},
   "outputs": [],
   "source": [
    "z_arr = tab_sqall['z_sdss']\n",
    "z_min, z_max = np.min(z_arr), np.max(z_arr)\n",
    "z_bins = np.arange(0, z_max+0.1, 0.1)"
   ]
  },
  {
   "cell_type": "code",
   "execution_count": 67,
   "id": "fcefd7fd",
   "metadata": {},
   "outputs": [
    {
     "name": "stdout",
     "output_type": "stream",
     "text": [
      "Sky fraction is 0.117\n",
      "Effective volume is 18.456 Gpc3 = 5.717 (Gpc/h)^3\n",
      "5.72 $(h^{-1}\\,Gpc)^3$\n"
     ]
    }
   ],
   "source": [
    "z_arr = tab_sqall['z_sdss']\n",
    "z_min, z_max = np.min(z_arr), np.max(z_arr)\n",
    "z_bins = np.arange(0, z_max+0.1, 0.1)\n",
    "P0 = 4e4 * u.Mpc**3 / cosmo.h**3 \n",
    "vol_sdss = volume_effective_Gpcperh(z_arr, z_bins, cosmo, fsky_sdss, P0)\n",
    "vol_sdss_fmt = rf'{vol_sdss:.2f} $(h^{{-1}}\\,Gpc)^3$'\n",
    "quants['volume_effective_sdss'] = vol_sdss_fmt\n",
    "print(quants['volume_effective_sdss'])"
   ]
  },
  {
   "cell_type": "markdown",
   "id": "27f70e3b",
   "metadata": {},
   "source": [
    "Gaia vs SDSS"
   ]
  },
  {
   "cell_type": "code",
   "execution_count": 68,
   "id": "0802177c",
   "metadata": {},
   "outputs": [
    {
     "name": "stdout",
     "output_type": "stream",
     "text": [
      "${\\sim}6\\times$\n"
     ]
    }
   ],
   "source": [
    "fac_area = area_below_Avhi/area_sdss\n",
    "fac_area_rounded = round(fac_area.value*2)/2\n",
    "val = rf'${{\\sim}}{fac_area_rounded:g}\\times$'\n",
    "quants['factor_area_belowAvhi_sdss'] = val\n",
    "print(quants['factor_area_belowAvhi_sdss'])"
   ]
  },
  {
   "cell_type": "code",
   "execution_count": 69,
   "id": "21c0a6c0",
   "metadata": {},
   "outputs": [
    {
     "name": "stdout",
     "output_type": "stream",
     "text": [
      "${\\sim}1.4\\times$\n"
     ]
    }
   ],
   "source": [
    "fac_vol = vol_gcathi/vol_sdss\n",
    "val = rf'${{\\sim}}{fac_vol:.1f}\\times$'\n",
    "quants['factor_volume_effective_gcathi_sdss'] = val\n",
    "print(quants['factor_volume_effective_gcathi_sdss'])"
   ]
  },
  {
   "cell_type": "markdown",
   "id": "169b5b8a",
   "metadata": {},
   "source": [
    "## Selection function / residuals"
   ]
  },
  {
   "cell_type": "code",
   "execution_count": null,
   "id": "ac20130d",
   "metadata": {},
   "outputs": [],
   "source": []
  },
  {
   "cell_type": "code",
   "execution_count": 70,
   "id": "e0afae39",
   "metadata": {},
   "outputs": [
    {
     "name": "stdout",
     "output_type": "stream",
     "text": [
      "0.51\n"
     ]
    }
   ],
   "source": [
    "fn_rand_Glo = f'../data/randoms/randomQ_stardustm10mcs_NSIDE64_G{G_lo}_10x.fits'\n",
    "\n",
    "tab_rand_Glo = Table.read(fn_rand_Glo)\n",
    "map_rand_Glo = get_ndens_map(tab_rand_Glo['ra'], tab_rand_Glo['dec'])\n",
    "\n",
    "map_gcatlo = get_ndens_map(tab_gcatlo['ra'], tab_gcatlo['dec'])\n",
    "\n",
    "norm_factor = len(tab_gcatlo)/len(tab_rand_Glo)\n",
    "\n",
    "rmse_frac = utils.compute_rmse(norm_factor*map_rand_Glo, map_gcatlo, fractional=True)\n",
    "quants['rmse_fractional_residuals_Glo'] = f'{rmse_frac:.2f}'\n",
    "print(quants['rmse_fractional_residuals_Glo'])"
   ]
  },
  {
   "cell_type": "markdown",
   "id": "50d8c3f7",
   "metadata": {},
   "source": [
    "TODO: run when get sel func for G20.5"
   ]
  },
  {
   "cell_type": "code",
   "execution_count": 71,
   "id": "3cf900b7",
   "metadata": {
    "scrolled": true
   },
   "outputs": [],
   "source": [
    "# fn_rand_Ghi = f'../data/randoms/randomQ_stardustm10mcs_NSIDE64_G{G_hi}_10x.fits'\n",
    "\n",
    "# tab_rand_Ghi = Table.read(fn_rand_Ghi)\n",
    "# map_rand_Ghi = get_ndens_map(tab_rand_Ghi['ra'], tab_rand_Ghi['dec'])\n",
    "\n",
    "# map_gcathi = get_ndens_map(tab_gcathi['ra'], tab_gcathi['dec'])\n",
    "\n",
    "# norm_factor = len(tab_gcathi)/len(tab_rand_Ghi)\n",
    "\n",
    "# rmse_frac = utils.compute_rmse(norm_factor*map_rand_Ghi, map_gcathi, fractional=True)\n",
    "# quants['rmse_fractional_residuals_Ghi'] = f'{rmse_frac:.2f}'\n",
    "# print(quants['rmse_fractional_residuals_Ghi'])"
   ]
  },
  {
   "cell_type": "code",
   "execution_count": 91,
   "id": "3e33e04b",
   "metadata": {},
   "outputs": [],
   "source": [
    "tag_decontam = '_mag0.1_lm5_postpm'\n",
    "fn_cuts = f'../data/color_cuts{tag_decontam}.txt'\n",
    "cuts = np.genfromtxt(fn_cuts, delimiter=',', names=True)\n",
    "cut_names = list(cuts.dtype.names)"
   ]
  },
  {
   "cell_type": "code",
   "execution_count": 107,
   "id": "32fbdc74",
   "metadata": {},
   "outputs": [],
   "source": [
    "color_label_dict = {'g_w1': 'G-W1', \n",
    "                    'w1_w2': 'W1-W2',\n",
    "                    'bp_g': 'BP-G'}"
   ]
  },
  {
   "cell_type": "code",
   "execution_count": 93,
   "id": "b9c457d6",
   "metadata": {},
   "outputs": [],
   "source": [
    "color_names = list(cut_names.copy())\n",
    "color_names.remove('intercept')"
   ]
  },
  {
   "cell_type": "code",
   "execution_count": 117,
   "id": "a80de906",
   "metadata": {},
   "outputs": [],
   "source": [
    "N_colors = len(color_names)\n",
    "tol = 1e-8\n",
    "cut_strs = []\n",
    "for cut in cuts:\n",
    "    cut_terms = []\n",
    "    for cn in color_names:\n",
    "        i = cut_names.index(cn)\n",
    "        if abs(cut[i])<tol:\n",
    "            continue\n",
    "        if abs(cut[i]-1.0)<tol:\n",
    "            cut_terms.append(f'({color_label_dict[cn]})')\n",
    "        else:\n",
    "            cut_terms.append(f'{cut[i]}\\,({color_label_dict[cn]})')\n",
    "    i_intercept = cut_names.index('intercept')\n",
    "    # & symbols are for equation alignment\n",
    "    cut_str = ' + '.join(cut_terms) + f' &> {cut[i_intercept]:g}'\n",
    "    cut_strs.append(cut_str)"
   ]
  },
  {
   "cell_type": "code",
   "execution_count": 118,
   "id": "87bf5708",
   "metadata": {},
   "outputs": [
    {
     "name": "stdout",
     "output_type": "stream",
     "text": [
      "(G-W1) &> 2.15 \\\\ (W1-W2) &> 0.4 \\\\ (BP-G) &> -0.3 \\\\ (G-W1) + 1.2\\,(W1-W2) &> 3.4\n"
     ]
    }
   ],
   "source": [
    "quants['color_cut_str'] = ' \\\\\\\\ '.join(cut_strs)\n",
    "print(quants['color_cut_str'])"
   ]
  },
  {
   "cell_type": "code",
   "execution_count": 83,
   "id": "1f8276e2",
   "metadata": {},
   "outputs": [
    {
     "data": {
      "text/plain": [
       "array([(1., 0. , 0.,  2.15), (0., 1. , 0.,  0.4 ), (0., 0. , 1., -0.3 ),\n",
       "       (1., 1.2, 0.,  3.4 )],\n",
       "      dtype=[('g_w1', '<f8'), ('w1_w2', '<f8'), ('bp_g', '<f8'), ('intercept', '<f8')])"
      ]
     },
     "execution_count": 83,
     "metadata": {},
     "output_type": "execute_result"
    }
   ],
   "source": [
    "# straight lines\n",
    "tol = 1e-8\n",
    "color_names = ['g_w1', 'w1_w2', 'bp_g']\n",
    "for cn in color_names:\n",
    "    for cut in cuts:\n",
    "        idxs_color = np.where(abs(cut-1.0)<tol)[0]\n",
    "        if id"
   ]
  },
  {
   "cell_type": "markdown",
   "id": "a85e15e8",
   "metadata": {},
   "source": [
    "# Write dict to file"
   ]
  },
  {
   "cell_type": "code",
   "execution_count": 72,
   "id": "32319596",
   "metadata": {},
   "outputs": [
    {
     "name": "stdout",
     "output_type": "stream",
     "text": [
      "N_gall 6,649,162\n",
      "N_gall_wqsoc 6,375,063\n",
      "N_gpurer 1,942,825\n",
      "N_gpurer_wqsoc 1,729,625\n",
      "N_gsup 1,518,782\n",
      "N_gclean 1,414,385\n",
      "p_cut_gsup_gclean 7\n",
      "N_gcatlo 755,850\n",
      "N_gcathi 1,295,502\n",
      "N_squasars_unwise 343,074\n",
      "N_squasars_sup 246,122\n",
      "N_sqall 638,083\n",
      "z_med_gall 1.67\n",
      "z_med_gcatlo 1.45\n",
      "zintermediate 2.5\n",
      "N_above_zintermediate_gcatlo 76804\n",
      "p_above_zintermediate_gcatlo 0.10161275385327777\n",
      "Gbright 19.0\n",
      "dzlo 0.01\n",
      "p_outliers_zspz_dzlo_Gbright 15\n",
      "p_acc_zspz_dzlo_Gbright 85\n",
      "p_outliers_zgaia_dzlo_Gbright 10\n",
      "p_acc_zgaia_dzlo_Gbright 90\n",
      "dzmid 0.1\n",
      "p_outliers_zspz_dzmid_Gbright 6\n",
      "p_acc_zspz_dzmid_Gbright 94\n",
      "p_outliers_zgaia_dzmid_Gbright 7\n",
      "p_acc_zgaia_dzmid_Gbright 93\n",
      "dzhi 0.2\n",
      "p_outliers_zspz_dzhi_Gbright 4\n",
      "p_acc_zspz_dzhi_Gbright 96\n",
      "p_outliers_zgaia_dzhi_Gbright 7\n",
      "p_acc_zgaia_dzhi_Gbright 93\n",
      "Glo 20.0\n",
      "p_outliers_zspz_dzlo_Glo 27\n",
      "p_acc_zspz_dzlo_Glo 73\n",
      "p_outliers_zgaia_dzlo_Glo 25\n",
      "p_acc_zgaia_dzlo_Glo 75\n",
      "p_outliers_zspz_dzmid_Glo 10\n",
      "p_acc_zspz_dzmid_Glo 90\n",
      "p_outliers_zgaia_dzmid_Glo 19\n",
      "p_acc_zgaia_dzmid_Glo 81\n",
      "p_outliers_zspz_dzhi_Glo 6\n",
      "p_acc_zspz_dzhi_Glo 94\n",
      "p_outliers_zgaia_dzhi_Glo 18\n",
      "p_acc_zgaia_dzhi_Glo 82\n",
      "Ghi 20.5\n",
      "p_outliers_zspz_dzlo_Ghi 39\n",
      "p_acc_zspz_dzlo_Ghi 61\n",
      "p_outliers_zgaia_dzlo_Ghi 38\n",
      "p_acc_zgaia_dzlo_Ghi 62\n",
      "p_outliers_zspz_dzmid_Ghi 17\n",
      "p_acc_zspz_dzmid_Ghi 83\n",
      "p_outliers_zgaia_dzmid_Ghi 30\n",
      "p_acc_zgaia_dzmid_Ghi 70\n",
      "p_outliers_zspz_dzhi_Ghi 9\n",
      "p_acc_zspz_dzhi_Ghi 91\n",
      "p_outliers_zgaia_dzhi_Ghi 28\n",
      "p_acc_zgaia_dzhi_Ghi 72\n",
      "p_outliers_gall_zgaia_dzlo_Gbright 9\n",
      "p_outliers_gall_zgaia_dzmid_Gbright 7\n",
      "p_outliers_gall_zgaia_dzhi_Gbright 6\n",
      "p_outliers_gall_zgaia_dzlo_Glo 25\n",
      "p_outliers_gall_zgaia_dzmid_Glo 19\n",
      "p_outliers_gall_zgaia_dzhi_Glo 18\n",
      "p_outliers_gall_zgaia_dzlo_Ghi 38\n",
      "p_outliers_gall_zgaia_dzmid_Ghi 30\n",
      "p_outliers_gall_zgaia_dzhi_Ghi 28\n",
      "factor_reduction_outliers_dzlo_Glo ${\\sim}1\\times$\n",
      "factor_reduction_outliers_dzmid_Glo ${\\sim}2\\times$\n",
      "factor_reduction_outliers_dzhi_Glo ${\\sim}3\\times$\n",
      "factor_reduction_contaminants ${\\sim}4\\times$\n",
      "p_sqall_excluded_clean 1.2\n",
      "Avhi 0.5\n",
      "area_below_Avhi 29154.54 deg$^2$\n",
      "fsky_below_Avhi 0.71\n",
      "volume_effective_gcatlo_below_Avhi 3.28 $(h^{-1}\\,Gpc)^3$\n",
      "volume_effective_gcathi_below_Avhi 7.85 $(h^{-1}\\,Gpc)^3$\n",
      "area_sdss 4808 deg$^2$\n",
      "fsky_sdss 0.12\n",
      "volume_effective_sdss 5.72 $(h^{-1}\\,Gpc)^3$\n",
      "factor_area_belowAvhi_sdss ${\\sim}6\\times$\n",
      "factor_volume_effective_gcathi_sdss ${\\sim}1.4\\times$\n",
      "rmse_fractional_residuals_Glo 0.51\n",
      "\n",
      "Saved to ../data/quantities.txt!\n"
     ]
    }
   ],
   "source": [
    "with open(fn_quants, 'w') as f:\n",
    "    for key, val in quants.items():\n",
    "        print(key, val)\n",
    "        if save:\n",
    "            f.write(f'{key} = {val}\\n')\n",
    "if save:\n",
    "    print()\n",
    "    print(f\"Saved to {fn_quants}!\")"
   ]
  },
  {
   "cell_type": "markdown",
   "id": "f08e5fca",
   "metadata": {},
   "source": [
    "## Table showing catalog"
   ]
  },
  {
   "cell_type": "markdown",
   "id": "9aecee06",
   "metadata": {},
   "source": [
    "TODO: write checks for randints for every table"
   ]
  },
  {
   "cell_type": "markdown",
   "id": "2060dada",
   "metadata": {},
   "source": [
    "TODO: fix header for final catalog"
   ]
  },
  {
   "cell_type": "markdown",
   "id": "595ad99c",
   "metadata": {},
   "source": [
    "column name, math symbol, units,human description, entry of first line of table"
   ]
  },
  {
   "cell_type": "code",
   "execution_count": 58,
   "id": "09216c81",
   "metadata": {},
   "outputs": [
    {
     "name": "stdout",
     "output_type": "stream",
     "text": [
      "XTENSION= 'BINTABLE'           / binary table extension                         \n",
      "BITPIX  =                    8 / array data type                                \n",
      "NAXIS   =                    2 / number of array dimensions                     \n",
      "NAXIS1  =                  226 / length of dimension 1                          \n",
      "NAXIS2  =              1295502 / length of dimension 2                          \n",
      "PCOUNT  =                    0 / number of group parameters                     \n",
      "GCOUNT  =                    1 / number of groups                               \n",
      "TFIELDS =                   37 / number of table fields                         \n",
      "TTYPE1  = 'source_id'                                                           \n",
      "TFORM1  = 'K       '                                                            \n",
      "TNULL1  =               999999                                                  \n",
      "TTYPE2  = 'ra      '                                                            \n",
      "TFORM2  = 'D       '                                                            \n",
      "TUNIT2  = 'deg     '                                                            \n",
      "TTYPE3  = 'dec     '                                                            \n",
      "TFORM3  = 'D       '                                                            \n",
      "TUNIT3  = 'deg     '                                                            \n",
      "TTYPE4  = 'l       '                                                            \n",
      "TFORM4  = 'D       '                                                            \n",
      "TUNIT4  = 'deg     '                                                            \n",
      "TTYPE5  = 'b       '                                                            \n",
      "TFORM5  = 'D       '                                                            \n",
      "TUNIT5  = 'deg     '                                                            \n",
      "TTYPE6  = 'phot_g_mean_mag'                                                     \n",
      "TFORM6  = 'E       '                                                            \n",
      "TUNIT6  = 'mag     '                                                            \n",
      "TTYPE7  = 'phot_bp_mean_mag'                                                    \n",
      "TFORM7  = 'E       '                                                            \n",
      "TUNIT7  = 'mag     '                                                            \n",
      "TTYPE8  = 'phot_rp_mean_mag'                                                    \n",
      "TFORM8  = 'E       '                                                            \n",
      "TUNIT8  = 'mag     '                                                            \n",
      "TTYPE9  = 'phot_g_n_obs'                                                        \n",
      "TFORM9  = 'I       '                                                            \n",
      "TNULL9  =                16959                                                  \n",
      "TTYPE10 = 'phot_bp_n_obs'                                                       \n",
      "TFORM10 = 'I       '                                                            \n",
      "TNULL10 =                16959                                                  \n",
      "TTYPE11 = 'phot_rp_n_obs'                                                       \n",
      "TFORM11 = 'I       '                                                            \n",
      "TNULL11 =                16959                                                  \n",
      "TTYPE12 = 'redshift_qsoc'                                                       \n",
      "TFORM12 = 'E       '                                                            \n",
      "TTYPE13 = 'redshift_qsoc_lower'                                                 \n",
      "TFORM13 = 'E       '                                                            \n",
      "TTYPE14 = 'redshift_qsoc_upper'                                                 \n",
      "TFORM14 = 'E       '                                                            \n",
      "TTYPE15 = 'zscore_qsoc'                                                         \n",
      "TFORM15 = 'E       '                                                            \n",
      "TTYPE16 = 'flags_qsoc'                                                          \n",
      "TFORM16 = 'K       '                                                            \n",
      "TNULL16 =               999999                                                  \n",
      "TTYPE17 = 'pmra    '                                                            \n",
      "TFORM17 = 'D       '                                                            \n",
      "TUNIT17 = 'mas yr-1'                                                            \n",
      "TTYPE18 = 'pmra_error'                                                          \n",
      "TFORM18 = 'E       '                                                            \n",
      "TUNIT18 = 'mas yr-1'                                                            \n",
      "TTYPE19 = 'pmdec   '                                                            \n",
      "TFORM19 = 'D       '                                                            \n",
      "TUNIT19 = 'mas yr-1'                                                            \n",
      "TTYPE20 = 'pmdec_error'                                                         \n",
      "TFORM20 = 'E       '                                                            \n",
      "TUNIT20 = 'mas yr-1'                                                            \n",
      "TTYPE21 = 'parallax'                                                            \n",
      "TFORM21 = 'D       '                                                            \n",
      "TUNIT21 = 'mas     '                                                            \n",
      "TTYPE22 = 'parallax_error'                                                      \n",
      "TFORM22 = 'E       '                                                            \n",
      "TUNIT22 = 'mas     '                                                            \n",
      "TTYPE23 = 'ebv     '                                                            \n",
      "TFORM23 = 'E       '                                                            \n",
      "TTYPE24 = 'A_v     '                                                            \n",
      "TFORM24 = 'E       '                                                            \n",
      "TTYPE25 = 'pm      '                                                            \n",
      "TFORM25 = 'D       '                                                            \n",
      "TUNIT25 = 'mas yr-1'                                                            \n",
      "TTYPE26 = 'mag_w1_vg'                                                           \n",
      "TFORM26 = 'D       '                                                            \n",
      "TTYPE27 = 'mag_w2_vg'                                                           \n",
      "TFORM27 = 'D       '                                                            \n",
      "TTYPE28 = 'unwise_objid'                                                        \n",
      "TFORM28 = '16A     '                                                            \n",
      "TTYPE29 = 'rand_ints'                                                           \n",
      "TFORM29 = 'K       '                                                            \n",
      "TNULL29 =               999999                                                  \n",
      "TTYPE30 = 'g_rp    '                                                            \n",
      "TFORM30 = 'E       '                                                            \n",
      "TUNIT30 = 'mag     '                                                            \n",
      "TTYPE31 = 'bp_g    '                                                            \n",
      "TFORM31 = 'E       '                                                            \n",
      "TUNIT31 = 'mag     '                                                            \n",
      "TTYPE32 = 'bp_rp   '                                                            \n",
      "TFORM32 = 'E       '                                                            \n",
      "TUNIT32 = 'mag     '                                                            \n",
      "TTYPE33 = 'g_w1    '                                                            \n",
      "TFORM33 = 'D       '                                                            \n",
      "TUNIT33 = 'mag     '                                                            \n",
      "TTYPE34 = 'w1_w2   '                                                            \n",
      "TFORM34 = 'D       '                                                            \n",
      "TTYPE35 = 'redshift_spz_raw'                                                    \n",
      "TFORM35 = 'D       '                                                            \n",
      "TTYPE36 = 'redshift_spz_err'                                                    \n",
      "TFORM36 = 'D       '                                                            \n",
      "TTYPE37 = 'redshift_spz'                                                        \n",
      "TFORM37 = 'D       '                                                            \n",
      "EXTNAME = 'votable '                                                            \n",
      "TCOMM1  = 'Unique source identifier (unique within a particular Data Release)'  \n",
      "TUCD1   = 'meta.id '                                                            \n",
      "TCOMM2  = 'Right ascension'                                                     \n",
      "TUCD2   = 'pos.eq.ra;meta.main'                                                 \n",
      "TUTYP2  = 'stc:AstroCoords.Position3D.Value3.C1'                                \n",
      "TCOMM3  = 'Declination'                                                         \n",
      "TUCD3   = 'pos.eq.dec;meta.main'                                                \n",
      "TUTYP3  = 'stc:AstroCoords.Position3D.Value3.C2'                                \n",
      "TCOMM4  = 'Galactic longitude'                                                  \n",
      "TUCD4   = 'pos.galactic.lon'                                                    \n",
      "TUTYP4  = 'stc:AstroCoords.Position2D.Value2.C1'                                \n",
      "TCOMM5  = 'Galactic latitude'                                                   \n",
      "TUCD5   = 'pos.galactic.lat'                                                    \n",
      "TUTYP5  = 'stc:AstroCoords.Position2D.Value2.C2'                                \n",
      "TCOMM6  = 'G-band mean magnitude'                                               \n",
      "TUCD6   = 'phot.mag;em.opt'                                                     \n",
      "TCOMM7  = 'Integrated BP mean magnitude'                                        \n",
      "TUCD7   = 'phot.mag;em.opt.B'                                                   \n",
      "TCOMM8  = 'Integrated RP mean magnitude'                                        \n",
      "TUCD8   = 'phot.mag;em.opt.R'                                                   \n",
      "TCOMM9  = 'Number of observations contributing to G photometry'                 \n",
      "TUCD9   = 'meta.number'                                                         \n",
      "TCOMM10 = 'Number of observations contributing to BP photometry'                \n",
      "TUCD10  = 'meta.number'                                                         \n",
      "TCOMM11 = 'Number of observations contributing to RP photometry'                \n",
      "TUCD11  = 'meta.number'                                                         \n",
      "TCOMM12 = 'Redshift from QSOC'                                                  \n",
      "TUCD12  = 'src.redshift'                                                        \n",
      "TCOMM13 = 'Redshift lower confidence level from QSOC'                           \n",
      "TUCD13  = 'stat.value;src.redshift'                                             \n",
      "TCOMM14 = 'Redshift upper confidence level from QSOC'                           \n",
      "TUCD14  = 'stat.value;src.redshift'                                             \n",
      "TCOMM15 = 'Redshift zscore from QSOC'                                           \n",
      "TUCD15  = 'stat.value;src.redshift'                                             \n",
      "TCOMM16 = 'Processing flags for the analysis based on BP/RP Spectra from QSOC'  \n",
      "TUCD16  = 'meta.code.status'                                                    \n",
      "TCOMM17 = 'Proper motion in right ascension direction'                          \n",
      "TUCD17  = 'pos.pm;pos.eq.ra'                                                    \n",
      "TUTYP17 = 'stc:AstroCoords.Velocity3D.Value3.C1'                                \n",
      "TCOMM18 = 'Standard error of proper motion in right ascension direction'        \n",
      "TUCD18  = 'stat.error;pos.pm;pos.eq.ra'                                         \n",
      "TUTYP18 = 'stc:AstroCoords.Velocity3D.Error3.C1'                                \n",
      "TCOMM19 = 'Proper motion in declination direction'                              \n",
      "TUCD19  = 'pos.pm;pos.eq.dec'                                                   \n",
      "TUTYP19 = 'stc:AstroCoords.Velocity3D.Value3.C2'                                \n",
      "TCOMM20 = 'Standard error of proper motion in declination direction'            \n",
      "TUCD20  = 'stat.error;pos.pm;pos.eq.dec'                                        \n",
      "TUTYP20 = 'stc:AstroCoords.Velocity3D.Error3.C2'                                \n",
      "TCOMM21 = 'Parallax'                                                            \n",
      "TUCD21  = 'pos.parallax.trig'                                                   \n",
      "TCOMM22 = 'Standard error of parallax'                                          \n",
      "TUCD22  = 'stat.error;pos.parallax.trig'                                        \n",
      "DATE-HDU= '2023-03-15T21:55:19'                                                 \n",
      "STILVERS= '4.1-3   '                                                            \n",
      "STILCLAS= 'uk.ac.starlink.fits.VariableFitsTableWriter'                         \n"
     ]
    }
   ],
   "source": [
    "with fits.open(fn_gcathi) as hdul:\n",
    "\n",
    "    hdr = hdul[1].header\n",
    "    print(repr(hdr))"
   ]
  },
  {
   "cell_type": "code",
   "execution_count": 19,
   "id": "ab2dae94",
   "metadata": {},
   "outputs": [],
   "source": [
    "unit_dict = {}\n",
    "description_dict = {}"
   ]
  },
  {
   "cell_type": "code",
   "execution_count": 80,
   "id": "d38f6c7e",
   "metadata": {},
   "outputs": [],
   "source": [
    "with fits.open(fn_gcathi) as hdul:\n",
    "\n",
    "    hdr = hdul[1].header\n",
    "    keys = list(hdr.keys())\n",
    "    idx = 1\n",
    "    key = f'TTYPE{idx}'\n",
    "    while key in keys:\n",
    "        label = hdr[key]\n",
    "        if f'TUNIT{idx}' in keys:\n",
    "            unit = hdr[f'TUNIT{idx}']\n",
    "        elif 'n_obs' in label:\n",
    "            unit = 'number'\n",
    "        else:\n",
    "            unit = ''\n",
    "\n",
    "        if f'TCOMM{idx}' in keys:\n",
    "            descrip = hdr[f'TCOMM{idx}']\n",
    "        else:\n",
    "            descrip = ''\n",
    "            \n",
    "        unit_dict[label] = unit\n",
    "        description_dict[label] = descrip\n",
    "        idx += 1\n",
    "        key = f'TTYPE{idx}'"
   ]
  },
  {
   "cell_type": "code",
   "execution_count": 81,
   "id": "a094221d",
   "metadata": {},
   "outputs": [
    {
     "data": {
      "text/plain": [
       "{'source_id': '',\n",
       " 'ra': 'deg',\n",
       " 'dec': 'deg',\n",
       " 'l': 'deg',\n",
       " 'b': 'deg',\n",
       " 'phot_g_mean_mag': 'mag',\n",
       " 'phot_bp_mean_mag': 'mag',\n",
       " 'phot_rp_mean_mag': 'mag',\n",
       " 'phot_g_n_obs': 'number',\n",
       " 'phot_bp_n_obs': 'number',\n",
       " 'phot_rp_n_obs': 'number',\n",
       " 'redshift_qsoc': '',\n",
       " 'redshift_qsoc_lower': '',\n",
       " 'redshift_qsoc_upper': '',\n",
       " 'zscore_qsoc': '',\n",
       " 'flags_qsoc': '',\n",
       " 'pmra': 'mas yr-1',\n",
       " 'pmra_error': 'mas yr-1',\n",
       " 'pmdec': 'mas yr-1',\n",
       " 'pmdec_error': 'mas yr-1',\n",
       " 'parallax': 'mas',\n",
       " 'parallax_error': 'mas',\n",
       " 'ebv': '',\n",
       " 'A_v': '',\n",
       " 'pm': 'mas yr-1',\n",
       " 'mag_w1_vg': '',\n",
       " 'mag_w2_vg': '',\n",
       " 'unwise_objid': '',\n",
       " 'rand_ints': '',\n",
       " 'g_rp': 'mag',\n",
       " 'bp_g': 'mag',\n",
       " 'bp_rp': 'mag',\n",
       " 'g_w1': 'mag',\n",
       " 'w1_w2': '',\n",
       " 'redshift_spz_raw': '',\n",
       " 'redshift_spz_err': '',\n",
       " 'redshift_spz': ''}"
      ]
     },
     "execution_count": 81,
     "metadata": {},
     "output_type": "execute_result"
    }
   ],
   "source": [
    "unit_dict"
   ]
  },
  {
   "cell_type": "code",
   "execution_count": 149,
   "id": "3a3a1420",
   "metadata": {},
   "outputs": [],
   "source": [
    "labels_show = ['source_id', 'unwise_objid', \n",
    "               'redshift_spz', 'redshift_spz_err', \n",
    "               'ra', 'dec', 'l', 'b', \n",
    "               'phot_g_mean_mag', 'phot_bp_mean_mag', 'phot_rp_mean_mag', \n",
    "               'mag_w1_vg', 'mag_w2_vg', \n",
    "               'pm', 'pmra', 'pmdec', 'pmra_error', 'pmdec_error']\n",
    "labels_show_tex = [label.replace(\"_\", \"\\\\_\") for label in labels_show]\n",
    "# first \\ escapes turning \\t into tab lol\n",
    "labels_show_fmt = [f'\\\\texttt{{{label}}}' for label in labels_show_tex]"
   ]
  },
  {
   "cell_type": "code",
   "execution_count": 165,
   "id": "ce8f4ca5",
   "metadata": {},
   "outputs": [],
   "source": [
    "fmt_dict = {'source_id': 'd',\n",
    "            'unwise_objid': 's',\n",
    "            'redshift_spz': 'f',\n",
    "            'redshift_spz_err': 'f',\n",
    "            'ra': 'f',\n",
    "            'dec': 'f', \n",
    "            'l': 'f',\n",
    "            'b': 'f',\n",
    "            'phot_g_mean_mag': 'f',\n",
    "            'phot_bp_mean_mag': 'f',\n",
    "            'phot_rp_mean_mag': 'f',\n",
    "            'mag_w1_vg': 'f',\n",
    "            'mag_w2_vg': 'f',\n",
    "            'pm': 'f',\n",
    "            'pmra': 'f',\n",
    "            'pmdec': 'f',\n",
    "            'pmra_error': 'f',\n",
    "            'pmdec_error': 'f',\n",
    "            }"
   ]
  },
  {
   "cell_type": "code",
   "execution_count": 166,
   "id": "8342e0b0",
   "metadata": {},
   "outputs": [],
   "source": [
    "units_show = [unit_dict[label] for label in labels_show]\n",
    "descriptions_show = [description_dict[label] for label in labels_show]"
   ]
  },
  {
   "cell_type": "code",
   "execution_count": 167,
   "id": "04eadb05",
   "metadata": {},
   "outputs": [],
   "source": [
    "#vals_isfinite = np.isfinite([tab_gcathi[label] for label in labels_show])\n",
    "#idx_show = np.where(np.all(vals_isfinite, axis=0))[0][0]\n",
    "idx_show = 0\n",
    "values_show = [tab_gcathi[label][idx_show] for label in labels_show]\n",
    "values_fmt_show = [f'{values_show[i]:{fmt_dict[labels_show[i]]}}' for i in range(len(labels_show))]"
   ]
  },
  {
   "cell_type": "code",
   "execution_count": 168,
   "id": "f13031f0",
   "metadata": {},
   "outputs": [],
   "source": [
    "table_table = Table([labels_show_fmt, units_show, descriptions_show, values_fmt_show], \n",
    "                    names=('column name', 'units', 'description', 'example entry value'))"
   ]
  },
  {
   "cell_type": "code",
   "execution_count": 169,
   "id": "fddd4586",
   "metadata": {},
   "outputs": [
    {
     "data": {
      "text/html": [
       "<div><i>Table length=18</i>\n",
       "<table id=\"table23319193780912\" class=\"table-striped table-bordered table-condensed\">\n",
       "<thead><tr><th>column name</th><th>units</th><th>description</th><th>example entry value</th></tr></thead>\n",
       "<thead><tr><th>str28</th><th>str8</th><th>str66</th><th>str16</th></tr></thead>\n",
       "<tr><td>\\texttt{source\\_id}</td><td></td><td>Unique source identifier (unique within a particular Data Release)</td><td>6459630980096</td></tr>\n",
       "<tr><td>\\texttt{unwise\\_objid}</td><td></td><td></td><td>0453p000o0014479</td></tr>\n",
       "<tr><td>\\texttt{redshift\\_spz}</td><td></td><td></td><td>0.416867</td></tr>\n",
       "<tr><td>\\texttt{redshift\\_spz\\_err}</td><td></td><td></td><td>0.062063</td></tr>\n",
       "<tr><td>\\texttt{ra}</td><td>deg</td><td>Right ascension</td><td>44.910498</td></tr>\n",
       "<tr><td>\\texttt{dec}</td><td>deg</td><td>Declination</td><td>0.189649</td></tr>\n",
       "<tr><td>\\texttt{l}</td><td>deg</td><td>Galactic longitude</td><td>176.659434</td></tr>\n",
       "<tr><td>\\texttt{b}</td><td>deg</td><td>Galactic latitude</td><td>-48.835164</td></tr>\n",
       "<tr><td>\\texttt{phot\\_g\\_mean\\_mag}</td><td>mag</td><td>G-band mean magnitude</td><td>20.173105</td></tr>\n",
       "<tr><td>\\texttt{phot\\_bp\\_mean\\_mag}</td><td>mag</td><td>Integrated BP mean magnitude</td><td>20.200150</td></tr>\n",
       "<tr><td>\\texttt{phot\\_rp\\_mean\\_mag}</td><td>mag</td><td>Integrated RP mean magnitude</td><td>18.871586</td></tr>\n",
       "<tr><td>\\texttt{mag\\_w1\\_vg}</td><td></td><td></td><td>14.774343</td></tr>\n",
       "<tr><td>\\texttt{mag\\_w2\\_vg}</td><td></td><td></td><td>13.923867</td></tr>\n",
       "<tr><td>\\texttt{pm}</td><td>mas yr-1</td><td></td><td>0.383797</td></tr>\n",
       "<tr><td>\\texttt{pmra}</td><td>mas yr-1</td><td>Proper motion in right ascension direction</td><td>0.217806</td></tr>\n",
       "<tr><td>\\texttt{pmdec}</td><td>mas yr-1</td><td>Proper motion in declination direction</td><td>-0.316007</td></tr>\n",
       "<tr><td>\\texttt{pmra\\_error}</td><td>mas yr-1</td><td>Standard error of proper motion in right ascension direction</td><td>0.679419</td></tr>\n",
       "<tr><td>\\texttt{pmdec\\_error}</td><td>mas yr-1</td><td>Standard error of proper motion in declination direction</td><td>0.608799</td></tr>\n",
       "</table></div>"
      ],
      "text/plain": [
       "<Table length=18>\n",
       "        column name           units   ... example entry value\n",
       "           str28               str8   ...        str16       \n",
       "---------------------------- -------- ... -------------------\n",
       "         \\texttt{source\\_id}          ...       6459630980096\n",
       "      \\texttt{unwise\\_objid}          ...    0453p000o0014479\n",
       "      \\texttt{redshift\\_spz}          ...            0.416867\n",
       " \\texttt{redshift\\_spz\\_err}          ...            0.062063\n",
       "                 \\texttt{ra}      deg ...           44.910498\n",
       "                \\texttt{dec}      deg ...            0.189649\n",
       "                  \\texttt{l}      deg ...          176.659434\n",
       "                  \\texttt{b}      deg ...          -48.835164\n",
       " \\texttt{phot\\_g\\_mean\\_mag}      mag ...           20.173105\n",
       "\\texttt{phot\\_bp\\_mean\\_mag}      mag ...           20.200150\n",
       "\\texttt{phot\\_rp\\_mean\\_mag}      mag ...           18.871586\n",
       "        \\texttt{mag\\_w1\\_vg}          ...           14.774343\n",
       "        \\texttt{mag\\_w2\\_vg}          ...           13.923867\n",
       "                 \\texttt{pm} mas yr-1 ...            0.383797\n",
       "               \\texttt{pmra} mas yr-1 ...            0.217806\n",
       "              \\texttt{pmdec} mas yr-1 ...           -0.316007\n",
       "        \\texttt{pmra\\_error} mas yr-1 ...            0.679419\n",
       "       \\texttt{pmdec\\_error} mas yr-1 ...            0.608799"
      ]
     },
     "execution_count": 169,
     "metadata": {},
     "output_type": "execute_result"
    }
   ],
   "source": [
    "table_table"
   ]
  },
  {
   "cell_type": "code",
   "execution_count": 170,
   "id": "5eba6829",
   "metadata": {},
   "outputs": [],
   "source": [
    "table_column_names = table_table.colnames"
   ]
  },
  {
   "cell_type": "code",
   "execution_count": 171,
   "id": "861d91e6",
   "metadata": {},
   "outputs": [
    {
     "name": "stdout",
     "output_type": "stream",
     "text": [
      "\\texttt{source\\_id} &  & Unique source identifier (unique within a particular Data Release) & 6459630980096 \\\\\n",
      "\\texttt{unwise\\_objid} &  &  & 0453p000o0014479 \\\\\n",
      "\\texttt{redshift\\_spz} &  &  & 0.416867 \\\\\n",
      "\\texttt{redshift\\_spz\\_err} &  &  & 0.062063 \\\\\n",
      "\\texttt{ra} & deg & Right ascension & 44.910498 \\\\\n",
      "\\texttt{dec} & deg & Declination & 0.189649 \\\\\n",
      "\\texttt{l} & deg & Galactic longitude & 176.659434 \\\\\n",
      "\\texttt{b} & deg & Galactic latitude & -48.835164 \\\\\n",
      "\\texttt{phot\\_g\\_mean\\_mag} & mag & G-band mean magnitude & 20.173105 \\\\\n",
      "\\texttt{phot\\_bp\\_mean\\_mag} & mag & Integrated BP mean magnitude & 20.200150 \\\\\n",
      "\\texttt{phot\\_rp\\_mean\\_mag} & mag & Integrated RP mean magnitude & 18.871586 \\\\\n",
      "\\texttt{mag\\_w1\\_vg} &  &  & 14.774343 \\\\\n",
      "\\texttt{mag\\_w2\\_vg} &  &  & 13.923867 \\\\\n",
      "\\texttt{pm} & mas yr-1 &  & 0.383797 \\\\\n",
      "\\texttt{pmra} & mas yr-1 & Proper motion in right ascension direction & 0.217806 \\\\\n",
      "\\texttt{pmdec} & mas yr-1 & Proper motion in declination direction & -0.316007 \\\\\n",
      "\\texttt{pmra\\_error} & mas yr-1 & Standard error of proper motion in right ascension direction & 0.679419 \\\\\n",
      "\\texttt{pmdec\\_error} & mas yr-1 & Standard error of proper motion in declination direction & 0.608799 \\\\\n"
     ]
    }
   ],
   "source": [
    "table_contents = '\\\\begin{tabular}'\n",
    "table_contents += '{|'+'|'.join(['l' for _ in table_column_names]) + '|}\\n'\n",
    "table_contents += '\\hline\\n'\n",
    "table_contents += ' & '.join(table_column_names) + ' \\\\\\\\\\n'\n",
    "table_contents += '\\hline\\n'\n",
    "for i in range(len(table_table)):\n",
    "    row_vals = [table_table[tcn][i] for tcn in table_column_names]\n",
    "    row = ' & '.join(row_vals) + ' \\\\\\\\\\n'\n",
    "#     if i<len(table_table)-1:\n",
    "#         row += ' \\\\\\\\ \\n'\n",
    "    print(row,end='') # end makes print not print an additional newline\n",
    "    table_contents += row\n",
    "table_contents += '\\hline\\n'\n",
    "table_contents += '\\end{tabular}'"
   ]
  },
  {
   "cell_type": "code",
   "execution_count": 172,
   "id": "3ae5f19b",
   "metadata": {},
   "outputs": [
    {
     "data": {
      "text/plain": [
       "'\\\\begin{tabular}{|l|l|l|l|}\\n\\\\hline\\ncolumn name & units & description & example entry value \\\\\\\\\\n\\\\hline\\n\\\\texttt{source\\\\_id} &  & Unique source identifier (unique within a particular Data Release) & 6459630980096 \\\\\\\\\\n\\\\texttt{unwise\\\\_objid} &  &  & 0453p000o0014479 \\\\\\\\\\n\\\\texttt{redshift\\\\_spz} &  &  & 0.416867 \\\\\\\\\\n\\\\texttt{redshift\\\\_spz\\\\_err} &  &  & 0.062063 \\\\\\\\\\n\\\\texttt{ra} & deg & Right ascension & 44.910498 \\\\\\\\\\n\\\\texttt{dec} & deg & Declination & 0.189649 \\\\\\\\\\n\\\\texttt{l} & deg & Galactic longitude & 176.659434 \\\\\\\\\\n\\\\texttt{b} & deg & Galactic latitude & -48.835164 \\\\\\\\\\n\\\\texttt{phot\\\\_g\\\\_mean\\\\_mag} & mag & G-band mean magnitude & 20.173105 \\\\\\\\\\n\\\\texttt{phot\\\\_bp\\\\_mean\\\\_mag} & mag & Integrated BP mean magnitude & 20.200150 \\\\\\\\\\n\\\\texttt{phot\\\\_rp\\\\_mean\\\\_mag} & mag & Integrated RP mean magnitude & 18.871586 \\\\\\\\\\n\\\\texttt{mag\\\\_w1\\\\_vg} &  &  & 14.774343 \\\\\\\\\\n\\\\texttt{mag\\\\_w2\\\\_vg} &  &  & 13.923867 \\\\\\\\\\n\\\\texttt{pm} & mas yr-1 &  & 0.383797 \\\\\\\\\\n\\\\texttt{pmra} & mas yr-1 & Proper motion in right ascension direction & 0.217806 \\\\\\\\\\n\\\\texttt{pmdec} & mas yr-1 & Proper motion in declination direction & -0.316007 \\\\\\\\\\n\\\\texttt{pmra\\\\_error} & mas yr-1 & Standard error of proper motion in right ascension direction & 0.679419 \\\\\\\\\\n\\\\texttt{pmdec\\\\_error} & mas yr-1 & Standard error of proper motion in declination direction & 0.608799 \\\\\\\\\\n\\\\hline\\n\\\\end{tabular}'"
      ]
     },
     "execution_count": 172,
     "metadata": {},
     "output_type": "execute_result"
    }
   ],
   "source": [
    "table_contents"
   ]
  },
  {
   "cell_type": "code",
   "execution_count": 173,
   "id": "df89ac9c",
   "metadata": {},
   "outputs": [
    {
     "name": "stdout",
     "output_type": "stream",
     "text": [
      "Saved to ../data/catalog_table.txt!\n"
     ]
    }
   ],
   "source": [
    "fn_table = '../data/catalog_table.txt'\n",
    "with open(fn_table, 'w') as f:\n",
    "    if save:\n",
    "        f.write(table_contents)\n",
    "if save:\n",
    "    print(f\"Saved to {fn_table}!\")"
   ]
  },
  {
   "cell_type": "code",
   "execution_count": null,
   "id": "9d725636",
   "metadata": {},
   "outputs": [],
   "source": []
  }
 ],
 "metadata": {
  "kernelspec": {
   "display_name": "Python [conda env:gaiaenv]",
   "language": "python",
   "name": "conda-env-gaiaenv-py"
  },
  "language_info": {
   "codemirror_mode": {
    "name": "ipython",
    "version": 3
   },
   "file_extension": ".py",
   "mimetype": "text/x-python",
   "name": "python",
   "nbconvert_exporter": "python",
   "pygments_lexer": "ipython3",
   "version": "3.10.6"
  }
 },
 "nbformat": 4,
 "nbformat_minor": 5
}
