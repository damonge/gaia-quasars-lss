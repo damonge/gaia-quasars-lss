{
 "cells": [
  {
   "cell_type": "code",
   "execution_count": 1,
   "id": "2f9a8c4b",
   "metadata": {},
   "outputs": [],
   "source": [
    "from astropy.table import Table, join\n",
    "import numpy as np\n",
    "\n",
    "import time\n",
    "from numpy.random import default_rng\n",
    "\n",
    "import healpy as hp\n",
    "import pandas as pd\n",
    "\n",
    "import astropy.cosmology\n",
    "from astropy.coordinates import SkyCoord\n",
    "from astropy import units as u\n",
    "from astropy.table import Table\n",
    "\n",
    "import sys\n",
    "sys.path.insert(0,'../code')\n",
    "%load_ext autoreload\n",
    "%autoreload 2\n",
    "import utils\n",
    "import generate_random\n",
    "import correlations\n",
    "import masks\n",
    "import maps"
   ]
  },
  {
   "cell_type": "markdown",
   "id": "a7d2b316",
   "metadata": {},
   "source": [
    "# Parameter setting"
   ]
  },
  {
   "cell_type": "markdown",
   "id": "d71bda00",
   "metadata": {},
   "source": [
    "Saving"
   ]
  },
  {
   "cell_type": "code",
   "execution_count": 2,
   "id": "2e56fd13",
   "metadata": {},
   "outputs": [],
   "source": [
    "fn_quant = 'quantities.dat'\n",
    "save = False"
   ]
  },
  {
   "cell_type": "markdown",
   "id": "a1821f5b",
   "metadata": {},
   "source": [
    "Names"
   ]
  },
  {
   "cell_type": "code",
   "execution_count": 3,
   "id": "54aa0f10",
   "metadata": {},
   "outputs": [],
   "source": [
    "name_catalog = '\\emph{{Gaia}} Cosmological Quasar Catalog'\n",
    "abbrv_catalog = 'GaiaQ'\n",
    "\n",
    "name_gpurer = '\\emph{{Gaia}} Purer Sample'\n",
    "abbrv_gpurer = '\\emph{{Gaia}} Purer'"
   ]
  },
  {
   "cell_type": "markdown",
   "id": "32cb3979",
   "metadata": {},
   "source": [
    "Functions"
   ]
  },
  {
   "cell_type": "code",
   "execution_count": 4,
   "id": "8b0ad849",
   "metadata": {},
   "outputs": [],
   "source": [
    "def get_ndens_map(ras, decs, NSIDE=64):\n",
    "    map_nqso, _ = maps.get_map(NSIDE, ras, decs, null_val=0)\n",
    "    map_ndens = map_nqso/area_per_pixel\n",
    "    map_ndens_masked = hp.ma(map_ndens)\n",
    "    map_ndens_masked.mask = map_ndens==0\n",
    "    return map_ndens_masked"
   ]
  },
  {
   "cell_type": "markdown",
   "id": "4000c5a3",
   "metadata": {},
   "source": [
    "Map settings"
   ]
  },
  {
   "cell_type": "code",
   "execution_count": 5,
   "id": "bbb69434",
   "metadata": {},
   "outputs": [
    {
     "name": "stdout",
     "output_type": "stream",
     "text": [
      "Area per pixel: 0.839 deg\n"
     ]
    }
   ],
   "source": [
    "NSIDE = 64\n",
    "area_per_pixel = hp.nside2pixarea(NSIDE, degrees=True)\n",
    "print(f\"Area per pixel: {area_per_pixel:.3f} deg\")"
   ]
  },
  {
   "cell_type": "markdown",
   "id": "f442f26c",
   "metadata": {},
   "source": [
    "Other prelims"
   ]
  },
  {
   "cell_type": "code",
   "execution_count": 6,
   "id": "1cdd0978",
   "metadata": {},
   "outputs": [],
   "source": [
    "G_hi = 20.5\n",
    "G_lo = 20.0"
   ]
  },
  {
   "cell_type": "code",
   "execution_count": 7,
   "id": "14d0962e",
   "metadata": {},
   "outputs": [],
   "source": [
    "rng = np.random.default_rng(seed=42)"
   ]
  },
  {
   "cell_type": "markdown",
   "id": "50414baf",
   "metadata": {},
   "source": [
    "# Load datasets"
   ]
  },
  {
   "cell_type": "markdown",
   "id": "c079e35e",
   "metadata": {},
   "source": [
    "### Gaia"
   ]
  },
  {
   "cell_type": "code",
   "execution_count": 8,
   "id": "c3ae3ac1",
   "metadata": {},
   "outputs": [
    {
     "name": "stdout",
     "output_type": "stream",
     "text": [
      "6649162\n"
     ]
    }
   ],
   "source": [
    "fn_gall = '../data/gaia_candidates.fits.gz'\n",
    "tab_gall = utils.load_table(fn_gall)\n",
    "print(len(tab_gall))"
   ]
  },
  {
   "cell_type": "code",
   "execution_count": 9,
   "id": "381ef675",
   "metadata": {},
   "outputs": [
    {
     "name": "stdout",
     "output_type": "stream",
     "text": [
      "1942825\n"
     ]
    }
   ],
   "source": [
    "fn_gpurer_ids = '../data/gaia_purer_sourceids.fits'\n",
    "tab_gpurer_ids = utils.load_table(fn_gpurer_ids)\n",
    "tab_gpurer = join(tab_gall, tab_gpurer_ids, keys='source_id', join_type='inner', metadata_conflicts='silent')\n",
    "print(len(tab_gpurer))"
   ]
  },
  {
   "cell_type": "code",
   "execution_count": 10,
   "id": "7979dbaa",
   "metadata": {},
   "outputs": [
    {
     "name": "stdout",
     "output_type": "stream",
     "text": [
      "1518782\n"
     ]
    }
   ],
   "source": [
    "fn_gsup = '../data/gaia_candidates_superset.fits'\n",
    "tab_gsup = utils.load_table(fn_gsup)\n",
    "print(len(tab_gsup))"
   ]
  },
  {
   "cell_type": "code",
   "execution_count": 11,
   "id": "a608dd61",
   "metadata": {},
   "outputs": [
    {
     "name": "stdout",
     "output_type": "stream",
     "text": [
      "1442077\n"
     ]
    }
   ],
   "source": [
    "fn_gclean = '../data/gaia_candidates_clean.fits'\n",
    "tab_gclean = utils.load_table(fn_gclean)\n",
    "print(len(tab_gclean))"
   ]
  },
  {
   "cell_type": "code",
   "execution_count": 12,
   "id": "9060a2a4",
   "metadata": {},
   "outputs": [
    {
     "name": "stdout",
     "output_type": "stream",
     "text": [
      "767866\n"
     ]
    }
   ],
   "source": [
    "fn_gqlo = f'../data/gaiaQ_G{G_lo}.fits'\n",
    "tab_gqlo = utils.load_table(fn_gqlo)\n",
    "print(len(tab_gqlo))"
   ]
  },
  {
   "cell_type": "code",
   "execution_count": 13,
   "id": "03d40069",
   "metadata": {},
   "outputs": [
    {
     "name": "stdout",
     "output_type": "stream",
     "text": [
      "1318566\n"
     ]
    }
   ],
   "source": [
    "fn_gqhi = f'../data/gaiaQ_G{G_hi}.fits'\n",
    "tab_gqhi = utils.load_table(fn_gqhi)\n",
    "print(len(tab_gqhi))"
   ]
  },
  {
   "cell_type": "markdown",
   "id": "aad9f790",
   "metadata": {},
   "source": [
    "### SDSS"
   ]
  },
  {
   "cell_type": "markdown",
   "id": "bd9a9300",
   "metadata": {},
   "source": [
    "These are SDSS objects that have (any) Gaia source matches. There is unWISE data where available, but the below catalogs are not limited to unWISE matches."
   ]
  },
  {
   "cell_type": "code",
   "execution_count": 14,
   "id": "d9fda86b",
   "metadata": {},
   "outputs": [
    {
     "name": "stdout",
     "output_type": "stream",
     "text": [
      "Number of SDSS quasars: 379698\n",
      "Number with unWISE info: 350070\n"
     ]
    }
   ],
   "source": [
    "tab_squasars = utils.load_table(f'../data/quasars_sdss_xgaia_xunwise_good_nodup.fits')\n",
    "print(f\"Number of SDSS quasars: {len(tab_squasars)}\")\n",
    "print(f\"Number with unWISE info:\", np.sum(np.isfinite(tab_squasars['mag_w1_vg']) & ~tab_squasars.mask['mag_w1_vg']))"
   ]
  },
  {
   "cell_type": "code",
   "execution_count": 15,
   "id": "ae2e2685",
   "metadata": {},
   "outputs": [
    {
     "name": "stdout",
     "output_type": "stream",
     "text": [
      "Number of SDSS stars: 683221\n",
      "Number with unWISE info: 482080\n"
     ]
    }
   ],
   "source": [
    "tab_sstars = utils.load_table(f'../data/stars_sdss_xgaia_xunwise_good_nodup.fits')\n",
    "print(f\"Number of SDSS stars: {len(tab_sstars)}\")\n",
    "print(f\"Number with unWISE info:\", np.sum(np.isfinite(tab_sstars['mag_w1_vg']) & ~tab_sstars.mask['mag_w1_vg']))"
   ]
  },
  {
   "cell_type": "code",
   "execution_count": 16,
   "id": "2431e5c9",
   "metadata": {},
   "outputs": [
    {
     "name": "stdout",
     "output_type": "stream",
     "text": [
      "Number of SDSS galaxies: 717059\n",
      "Number with unWISE info: 600897\n"
     ]
    }
   ],
   "source": [
    "tab_sgals = utils.load_table(f'../data/galaxies_sdss_xgaia_xunwise_good_nodup.fits')\n",
    "print(f\"Number of SDSS galaxies: {len(tab_sgals)}\")\n",
    "print(f\"Number with unWISE info:\", np.sum(np.isfinite(tab_sgals['mag_w1_vg']) & ~tab_sgals.mask['mag_w1_vg']))"
   ]
  },
  {
   "cell_type": "markdown",
   "id": "800b2b9b",
   "metadata": {},
   "source": [
    "Only objects in superset (gaia qso candidates with unWISE data and QSOC redshifts and G lim)"
   ]
  },
  {
   "cell_type": "code",
   "execution_count": 17,
   "id": "eb0ef8ea",
   "metadata": {},
   "outputs": [
    {
     "name": "stdout",
     "output_type": "stream",
     "text": [
      "Number of labeled Gaia quasar candidates for training/validation: 249714\n"
     ]
    }
   ],
   "source": [
    "fn_labeled_sup = '../data/labeled_superset.fits'\n",
    "tab_labeled_sup = utils.load_table(fn_labeled_sup)\n",
    "print(f\"Number of labeled Gaia quasar candidates for training/validation: {len(tab_labeled_sup)}\")"
   ]
  },
  {
   "cell_type": "code",
   "execution_count": null,
   "id": "32319596",
   "metadata": {},
   "outputs": [],
   "source": []
  }
 ],
 "metadata": {
  "kernelspec": {
   "display_name": "Python [conda env:gaiaenv]",
   "language": "python",
   "name": "conda-env-gaiaenv-py"
  },
  "language_info": {
   "codemirror_mode": {
    "name": "ipython",
    "version": 3
   },
   "file_extension": ".py",
   "mimetype": "text/x-python",
   "name": "python",
   "nbconvert_exporter": "python",
   "pygments_lexer": "ipython3",
   "version": "3.10.10"
  }
 },
 "nbformat": 4,
 "nbformat_minor": 5
}
