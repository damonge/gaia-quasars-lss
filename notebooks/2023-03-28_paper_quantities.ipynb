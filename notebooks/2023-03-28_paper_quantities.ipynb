{
 "cells": [
  {
   "cell_type": "code",
   "execution_count": 1,
   "id": "2f9a8c4b",
   "metadata": {},
   "outputs": [],
   "source": [
    "from astropy.table import Table, join\n",
    "import numpy as np\n",
    "\n",
    "import time\n",
    "from numpy.random import default_rng\n",
    "\n",
    "import healpy as hp\n",
    "import pandas as pd\n",
    "\n",
    "import astropy.cosmology\n",
    "from astropy.coordinates import SkyCoord\n",
    "from astropy import units as u\n",
    "from astropy.table import Table\n",
    "\n",
    "import sys\n",
    "sys.path.insert(0,'../code')\n",
    "%load_ext autoreload\n",
    "%autoreload 2\n",
    "import utils\n",
    "import generate_random\n",
    "import correlations\n",
    "import masks\n",
    "import maps"
   ]
  },
  {
   "cell_type": "markdown",
   "id": "a7d2b316",
   "metadata": {},
   "source": [
    "# Parameter setting"
   ]
  },
  {
   "cell_type": "markdown",
   "id": "d71bda00",
   "metadata": {},
   "source": [
    "Saving"
   ]
  },
  {
   "cell_type": "code",
   "execution_count": 89,
   "id": "0b35295e",
   "metadata": {},
   "outputs": [],
   "source": [
    "quants = {}"
   ]
  },
  {
   "cell_type": "code",
   "execution_count": 41,
   "id": "2e56fd13",
   "metadata": {},
   "outputs": [],
   "source": [
    "fn_quants = '../data/quantities.txt'\n",
    "save = True"
   ]
  },
  {
   "cell_type": "markdown",
   "id": "a1821f5b",
   "metadata": {},
   "source": [
    "Names"
   ]
  },
  {
   "cell_type": "code",
   "execution_count": 3,
   "id": "54aa0f10",
   "metadata": {},
   "outputs": [],
   "source": [
    "name_catalog = '\\emph{{Gaia}} Cosmological Quasar Catalog'\n",
    "abbrv_catalog = 'GaiaQ'\n",
    "\n",
    "name_gpurer = '\\emph{{Gaia}} Purer Sample'\n",
    "abbrv_gpurer = '\\emph{{Gaia}} Purer'"
   ]
  },
  {
   "cell_type": "markdown",
   "id": "32cb3979",
   "metadata": {},
   "source": [
    "Functions"
   ]
  },
  {
   "cell_type": "code",
   "execution_count": 4,
   "id": "8b0ad849",
   "metadata": {},
   "outputs": [],
   "source": [
    "def get_ndens_map(ras, decs, NSIDE=64):\n",
    "    map_nqso, _ = maps.get_map(NSIDE, ras, decs, null_val=0)\n",
    "    map_ndens = map_nqso/area_per_pixel\n",
    "    map_ndens_masked = hp.ma(map_ndens)\n",
    "    map_ndens_masked.mask = map_ndens==0\n",
    "    return map_ndens_masked"
   ]
  },
  {
   "cell_type": "markdown",
   "id": "4000c5a3",
   "metadata": {},
   "source": [
    "Map settings"
   ]
  },
  {
   "cell_type": "code",
   "execution_count": 5,
   "id": "bbb69434",
   "metadata": {},
   "outputs": [
    {
     "name": "stdout",
     "output_type": "stream",
     "text": [
      "Area per pixel: 0.839 deg\n"
     ]
    }
   ],
   "source": [
    "NSIDE = 64\n",
    "area_per_pixel = hp.nside2pixarea(NSIDE, degrees=True)\n",
    "print(f\"Area per pixel: {area_per_pixel:.3f} deg\")"
   ]
  },
  {
   "cell_type": "markdown",
   "id": "f442f26c",
   "metadata": {},
   "source": [
    "Other prelims"
   ]
  },
  {
   "cell_type": "code",
   "execution_count": 6,
   "id": "1cdd0978",
   "metadata": {},
   "outputs": [],
   "source": [
    "G_hi = 20.5\n",
    "G_lo = 20.0"
   ]
  },
  {
   "cell_type": "code",
   "execution_count": 7,
   "id": "14d0962e",
   "metadata": {},
   "outputs": [],
   "source": [
    "rng = np.random.default_rng(seed=42)"
   ]
  },
  {
   "cell_type": "markdown",
   "id": "50414baf",
   "metadata": {},
   "source": [
    "# Load datasets"
   ]
  },
  {
   "cell_type": "markdown",
   "id": "c079e35e",
   "metadata": {},
   "source": [
    "### Gaia"
   ]
  },
  {
   "cell_type": "code",
   "execution_count": 8,
   "id": "c3ae3ac1",
   "metadata": {},
   "outputs": [
    {
     "name": "stdout",
     "output_type": "stream",
     "text": [
      "6649162\n"
     ]
    }
   ],
   "source": [
    "fn_gall = '../data/gaia_candidates.fits.gz'\n",
    "tab_gall = utils.load_table(fn_gall)\n",
    "print(len(tab_gall))"
   ]
  },
  {
   "cell_type": "code",
   "execution_count": 9,
   "id": "381ef675",
   "metadata": {},
   "outputs": [
    {
     "name": "stdout",
     "output_type": "stream",
     "text": [
      "1942825\n"
     ]
    }
   ],
   "source": [
    "fn_gpurer_ids = '../data/gaia_purer_sourceids.fits'\n",
    "tab_gpurer_ids = utils.load_table(fn_gpurer_ids)\n",
    "tab_gpurer = join(tab_gall, tab_gpurer_ids, keys='source_id', join_type='inner', metadata_conflicts='silent')\n",
    "print(len(tab_gpurer))"
   ]
  },
  {
   "cell_type": "code",
   "execution_count": 10,
   "id": "7979dbaa",
   "metadata": {},
   "outputs": [
    {
     "name": "stdout",
     "output_type": "stream",
     "text": [
      "1518782\n"
     ]
    }
   ],
   "source": [
    "fn_gsup = '../data/gaia_candidates_superset.fits'\n",
    "tab_gsup = utils.load_table(fn_gsup)\n",
    "print(len(tab_gsup))"
   ]
  },
  {
   "cell_type": "code",
   "execution_count": 11,
   "id": "a608dd61",
   "metadata": {},
   "outputs": [
    {
     "name": "stdout",
     "output_type": "stream",
     "text": [
      "1442077\n"
     ]
    }
   ],
   "source": [
    "fn_gclean = '../data/gaia_candidates_clean.fits'\n",
    "tab_gclean = utils.load_table(fn_gclean)\n",
    "print(len(tab_gclean))"
   ]
  },
  {
   "cell_type": "code",
   "execution_count": 101,
   "id": "9060a2a4",
   "metadata": {},
   "outputs": [
    {
     "name": "stdout",
     "output_type": "stream",
     "text": [
      "767866\n"
     ]
    }
   ],
   "source": [
    "fn_gcatlo = f'../data/gaiaQ_G{G_lo}.fits'\n",
    "tab_gcatlo = utils.load_table(fn_gqlo)\n",
    "print(len(tab_gqlo))"
   ]
  },
  {
   "cell_type": "code",
   "execution_count": 102,
   "id": "03d40069",
   "metadata": {},
   "outputs": [
    {
     "name": "stdout",
     "output_type": "stream",
     "text": [
      "1318566\n"
     ]
    }
   ],
   "source": [
    "fn_gcathi = f'../data/gaiaQ_G{G_hi}.fits'\n",
    "tab_gcathi = utils.load_table(fn_gqhi)\n",
    "print(len(tab_gqhi))"
   ]
  },
  {
   "cell_type": "markdown",
   "id": "aad9f790",
   "metadata": {},
   "source": [
    "### SDSS"
   ]
  },
  {
   "cell_type": "markdown",
   "id": "bd9a9300",
   "metadata": {},
   "source": [
    "These are SDSS objects that have (any) Gaia source matches. There is unWISE data where available, but the below catalogs are not limited to unWISE matches."
   ]
  },
  {
   "cell_type": "code",
   "execution_count": 14,
   "id": "d9fda86b",
   "metadata": {},
   "outputs": [
    {
     "name": "stdout",
     "output_type": "stream",
     "text": [
      "Number of SDSS quasars: 379698\n",
      "Number with unWISE info: 350070\n"
     ]
    }
   ],
   "source": [
    "tab_squasars = utils.load_table(f'../data/quasars_sdss_xgaia_xunwise_good_nodup.fits')\n",
    "print(f\"Number of SDSS quasars: {len(tab_squasars)}\")\n",
    "print(f\"Number with unWISE info:\", np.sum(np.isfinite(tab_squasars['mag_w1_vg']) & ~tab_squasars.mask['mag_w1_vg']))"
   ]
  },
  {
   "cell_type": "code",
   "execution_count": 15,
   "id": "ae2e2685",
   "metadata": {},
   "outputs": [
    {
     "name": "stdout",
     "output_type": "stream",
     "text": [
      "Number of SDSS stars: 683221\n",
      "Number with unWISE info: 482080\n"
     ]
    }
   ],
   "source": [
    "tab_sstars = utils.load_table(f'../data/stars_sdss_xgaia_xunwise_good_nodup.fits')\n",
    "print(f\"Number of SDSS stars: {len(tab_sstars)}\")\n",
    "print(f\"Number with unWISE info:\", np.sum(np.isfinite(tab_sstars['mag_w1_vg']) & ~tab_sstars.mask['mag_w1_vg']))"
   ]
  },
  {
   "cell_type": "code",
   "execution_count": 16,
   "id": "2431e5c9",
   "metadata": {},
   "outputs": [
    {
     "name": "stdout",
     "output_type": "stream",
     "text": [
      "Number of SDSS galaxies: 717059\n",
      "Number with unWISE info: 600897\n"
     ]
    }
   ],
   "source": [
    "tab_sgals = utils.load_table(f'../data/galaxies_sdss_xgaia_xunwise_good_nodup.fits')\n",
    "print(f\"Number of SDSS galaxies: {len(tab_sgals)}\")\n",
    "print(f\"Number with unWISE info:\", np.sum(np.isfinite(tab_sgals['mag_w1_vg']) & ~tab_sgals.mask['mag_w1_vg']))"
   ]
  },
  {
   "cell_type": "markdown",
   "id": "800b2b9b",
   "metadata": {},
   "source": [
    "Only objects in superset (gaia qso candidates with unWISE data and QSOC redshifts and G lim)"
   ]
  },
  {
   "cell_type": "code",
   "execution_count": 17,
   "id": "eb0ef8ea",
   "metadata": {},
   "outputs": [
    {
     "name": "stdout",
     "output_type": "stream",
     "text": [
      "Number of labeled Gaia quasar candidates for training/validation: 249714\n"
     ]
    }
   ],
   "source": [
    "fn_labeled_sup = '../data/labeled_superset.fits'\n",
    "tab_labeled_sup = utils.load_table(fn_labeled_sup)\n",
    "print(f\"Number of labeled Gaia quasar candidates for decontamination: {len(tab_labeled_sup)}\")"
   ]
  },
  {
   "cell_type": "code",
   "execution_count": 162,
   "id": "b9340fa4",
   "metadata": {},
   "outputs": [
    {
     "name": "stdout",
     "output_type": "stream",
     "text": [
      "Number of labeled Gaia quasar candidates for redshift estimation: 246588\n"
     ]
    }
   ],
   "source": [
    "fn_labeled_clean = '../data/labeled_clean.fits'\n",
    "tab_labeled_clean = utils.load_table(fn_labeled_clean)\n",
    "print(f\"Number of labeled Gaia quasar candidates for redshift estimation: {len(tab_labeled_clean)}\")"
   ]
  },
  {
   "cell_type": "markdown",
   "id": "7ccbd82c",
   "metadata": {},
   "source": [
    "Redshifts"
   ]
  },
  {
   "cell_type": "code",
   "execution_count": 53,
   "id": "2c90de9e",
   "metadata": {},
   "outputs": [
    {
     "name": "stdout",
     "output_type": "stream",
     "text": [
      "N = 245308\n"
     ]
    }
   ],
   "source": [
    "redshift_estimator_name = 'kNN'\n",
    "save_tag_model = f'_K27_std'\n",
    "fn_spz_labeled = f'../data/redshift_estimates/redshifts_spz_labeled_{redshift_estimator_name}{save_tag_model}.fits'\n",
    "tab_spz_labeled = utils.load_table(fn_spz_labeled)\n",
    "print(f\"N = {len(tab_spz_labeled)}\")"
   ]
  },
  {
   "cell_type": "markdown",
   "id": "d7f52cf8",
   "metadata": {},
   "source": [
    "# Quantities"
   ]
  },
  {
   "cell_type": "markdown",
   "id": "e74eadcb",
   "metadata": {},
   "source": [
    "## Numbers of objects"
   ]
  },
  {
   "cell_type": "code",
   "execution_count": 90,
   "id": "b87a60a7",
   "metadata": {},
   "outputs": [
    {
     "name": "stdout",
     "output_type": "stream",
     "text": [
      "6,649,162\n"
     ]
    }
   ],
   "source": [
    "quants['N_gall'] = f\"{len(tab_gall):,}\"\n",
    "print(quants['N_gall'])"
   ]
  },
  {
   "cell_type": "code",
   "execution_count": 91,
   "id": "2ce45988",
   "metadata": {},
   "outputs": [
    {
     "name": "stdout",
     "output_type": "stream",
     "text": [
      "6,375,063\n"
     ]
    }
   ],
   "source": [
    "i_gall_wqsoc = np.isfinite(tab_gall['redshift_qsoc'])\n",
    "quants['N_gall_wqsoc'] = f\"{np.sum(i_gall_wqsoc):,}\"\n",
    "print(quants['N_gall_wqsoc'])"
   ]
  },
  {
   "cell_type": "code",
   "execution_count": 92,
   "id": "85b4075d",
   "metadata": {},
   "outputs": [
    {
     "name": "stdout",
     "output_type": "stream",
     "text": [
      "1,942,825\n"
     ]
    }
   ],
   "source": [
    "quants['N_gpurer'] = f\"{len(tab_gpurer):,}\"\n",
    "print(quants['N_gpurer'])"
   ]
  },
  {
   "cell_type": "code",
   "execution_count": 93,
   "id": "79b8bbc5",
   "metadata": {},
   "outputs": [
    {
     "name": "stdout",
     "output_type": "stream",
     "text": [
      "1,729,625\n"
     ]
    }
   ],
   "source": [
    "i_gpurer_wqsoc = np.isfinite(tab_gpurer['redshift_qsoc'])\n",
    "quants['N_gpurer_wqsoc'] = f\"{np.sum(i_gpurer_wqsoc):,}\"\n",
    "print(quants['N_gpurer_wqsoc'])"
   ]
  },
  {
   "cell_type": "code",
   "execution_count": 169,
   "id": "a8b97ee3",
   "metadata": {},
   "outputs": [
    {
     "name": "stdout",
     "output_type": "stream",
     "text": [
      "1,518,782\n"
     ]
    }
   ],
   "source": [
    "quants['N_gsup'] = f\"{len(tab_gsup):,}\"\n",
    "print(quants['N_gsup'])"
   ]
  },
  {
   "cell_type": "code",
   "execution_count": 168,
   "id": "6855ccfe",
   "metadata": {},
   "outputs": [
    {
     "name": "stdout",
     "output_type": "stream",
     "text": [
      "1,442,077\n"
     ]
    }
   ],
   "source": [
    "quants['N_gclean'] = f\"{len(tab_gclean):,}\"\n",
    "print(quants['N_gclean'])"
   ]
  },
  {
   "cell_type": "code",
   "execution_count": 172,
   "id": "931accbc",
   "metadata": {},
   "outputs": [
    {
     "name": "stdout",
     "output_type": "stream",
     "text": [
      "5\n"
     ]
    }
   ],
   "source": [
    "quants['p_cut_gsup_gclean'] = f\"{100*(len(tab_gsup) - len(tab_gclean))/len(tab_gsup):.0f}\"\n",
    "print(quants['p_cut_gsup_gclean'])"
   ]
  },
  {
   "cell_type": "code",
   "execution_count": 137,
   "id": "968444aa",
   "metadata": {},
   "outputs": [
    {
     "name": "stdout",
     "output_type": "stream",
     "text": [
      "767,866\n"
     ]
    }
   ],
   "source": [
    "quants['N_gcatlo'] = f\"{len(tab_gcatlo):,}\"\n",
    "print(quants['N_gcatlo'])"
   ]
  },
  {
   "cell_type": "code",
   "execution_count": 138,
   "id": "20fdc13b",
   "metadata": {},
   "outputs": [
    {
     "name": "stdout",
     "output_type": "stream",
     "text": [
      "1,318,566\n"
     ]
    }
   ],
   "source": [
    "quants['N_gcathi'] = f\"{len(tab_gcathi):,}\"\n",
    "print(quants['N_gcathi'])"
   ]
  },
  {
   "cell_type": "code",
   "execution_count": 161,
   "id": "5f2abcc8",
   "metadata": {},
   "outputs": [
    {
     "name": "stdout",
     "output_type": "stream",
     "text": [
      "343,074\n"
     ]
    }
   ],
   "source": [
    "i_squasars_unwise = np.isfinite(tab_squasars['mag_w1_vg']) & ~tab_squasars.mask['mag_w1_vg'] & \\\n",
    "                    np.isfinite(tab_squasars['mag_w2_vg']) & ~tab_squasars.mask['mag_w2_vg']\n",
    "quants['N_squasars_unwise'] = f\"{np.sum(i_squasars_unwise):,}\"\n",
    "print(quants['N_squasars_unwise'])"
   ]
  },
  {
   "cell_type": "code",
   "execution_count": 167,
   "id": "4cfe1321",
   "metadata": {},
   "outputs": [
    {
     "name": "stdout",
     "output_type": "stream",
     "text": [
      "246,122\n"
     ]
    }
   ],
   "source": [
    "i_sq_sup = tab_labeled_sup['class']=='q'\n",
    "quants['N_squasars_sup'] = f\"{np.sum(i_sq_sup):,}\"\n",
    "print(quants['N_squasars_sup'])"
   ]
  },
  {
   "cell_type": "markdown",
   "id": "6dceb949",
   "metadata": {},
   "source": [
    "## Redshift info"
   ]
  },
  {
   "cell_type": "markdown",
   "id": "6b4017ad",
   "metadata": {},
   "source": [
    "### general"
   ]
  },
  {
   "cell_type": "code",
   "execution_count": 94,
   "id": "85e7e764",
   "metadata": {},
   "outputs": [
    {
     "name": "stdout",
     "output_type": "stream",
     "text": [
      "1.67\n"
     ]
    }
   ],
   "source": [
    "i_zfinite = np.isfinite(tab_gall['redshift_qsoc'])\n",
    "quants['z_med_gall'] = f\"{np.median(tab_gall['redshift_qsoc'][i_zfinite]):.2f}\"\n",
    "print(quants['z_med_gall'])"
   ]
  },
  {
   "cell_type": "code",
   "execution_count": 177,
   "id": "e66f7231",
   "metadata": {},
   "outputs": [
    {
     "name": "stdout",
     "output_type": "stream",
     "text": [
      "1.45\n"
     ]
    }
   ],
   "source": [
    "quants['z_med_gcatlo'] = f\"{np.median(tab_gcatlo['redshift_spz']):.2f}\"\n",
    "print(quants['z_med_gcatlo'])"
   ]
  },
  {
   "cell_type": "code",
   "execution_count": 181,
   "id": "489513f6",
   "metadata": {},
   "outputs": [
    {
     "name": "stdout",
     "output_type": "stream",
     "text": [
      "79441 0.1034568531488567\n"
     ]
    }
   ],
   "source": [
    "zintermediate = 2.5\n",
    "quants['zintermediate'] = zintermediate\n",
    "i_above_zintermediate_gcatlo = tab_gcatlo['redshift_spz'] > zintermediate\n",
    "quants['N_above_zintermediate_gcatlo'] = np.sum(i_above_zintermediate_gcatlo)\n",
    "quants['p_above_zintermediate_gcatlo'] = np.sum(i_above_zintermediate_gcatlo)/len(i_above_zintermediate_gcatlo)\n",
    "print(quants['N_above_zintermediate_gcatlo'], quants['p_above_zintermediate_gcatlo'])"
   ]
  },
  {
   "cell_type": "markdown",
   "id": "375c66cd",
   "metadata": {},
   "source": [
    "### dz checks vs sdss"
   ]
  },
  {
   "cell_type": "code",
   "execution_count": 95,
   "id": "c1364cfc",
   "metadata": {},
   "outputs": [],
   "source": [
    "rand_ints_labeled = tab_spz_labeled['rand_ints']\n",
    "i_train, i_valid, i_test = utils.split_train_val_test(rand_ints_labeled,\n",
    "                                 frac_train=0.7, frac_val=0.15, frac_test=0.15)"
   ]
  },
  {
   "cell_type": "code",
   "execution_count": 96,
   "id": "fdf4fa7e",
   "metadata": {},
   "outputs": [],
   "source": [
    "z_sdss_test = tab_spz_labeled['z_sdss'][i_test]\n",
    "z_spzraw_test = tab_spz_labeled['redshift_spz_raw'][i_test]\n",
    "z_spz_test = tab_spz_labeled['redshift_spz'][i_test]\n",
    "z_gaia_test = tab_spz_labeled['redshift_qsoc'][i_test]"
   ]
  },
  {
   "cell_type": "code",
   "execution_count": 97,
   "id": "3b56c8b6",
   "metadata": {},
   "outputs": [],
   "source": [
    "dz_spzraw_test = (z_spzraw_test - z_sdss_test)/(1+z_sdss_test)\n",
    "dz_spz_test = (z_spz_test - z_sdss_test)/(1+z_sdss_test)\n",
    "dz_gaia_test = (z_gaia_test - z_sdss_test)/(1+z_sdss_test)"
   ]
  },
  {
   "cell_type": "code",
   "execution_count": 183,
   "id": "685ecf89",
   "metadata": {},
   "outputs": [],
   "source": [
    "dz_threshs = {'dzlo': 0.01, 'dzmid': 0.1, 'dzhi': 0.2}\n",
    "G_maxs = {'Gbright': 19.0, 'Glo': 20.0, 'Ghi': 20.5}\n",
    "dz_arrs = {'zspz': dz_spz_test, 'zgaia': dz_gaia_test}"
   ]
  },
  {
   "cell_type": "code",
   "execution_count": 184,
   "id": "3ca2b4e4",
   "metadata": {},
   "outputs": [
    {
     "name": "stdout",
     "output_type": "stream",
     "text": [
      "p_outliers_zspz_dzlo_Gbright 14\n",
      "p_acc_zspz_dzlo_Gbright 86\n",
      "p_outliers_zgaia_dzlo_Gbright 9\n",
      "p_acc_zgaia_dzlo_Gbright 91\n",
      "p_outliers_zspz_dzmid_Gbright 5\n",
      "p_acc_zspz_dzmid_Gbright 95\n",
      "p_outliers_zgaia_dzmid_Gbright 7\n",
      "p_acc_zgaia_dzmid_Gbright 93\n",
      "p_outliers_zspz_dzhi_Gbright 3\n",
      "p_acc_zspz_dzhi_Gbright 97\n",
      "p_outliers_zgaia_dzhi_Gbright 6\n",
      "p_acc_zgaia_dzhi_Gbright 94\n",
      "p_outliers_zspz_dzlo_Glo 26\n",
      "p_acc_zspz_dzlo_Glo 74\n",
      "p_outliers_zgaia_dzlo_Glo 25\n",
      "p_acc_zgaia_dzlo_Glo 75\n",
      "p_outliers_zspz_dzmid_Glo 10\n",
      "p_acc_zspz_dzmid_Glo 90\n",
      "p_outliers_zgaia_dzmid_Glo 19\n",
      "p_acc_zgaia_dzmid_Glo 81\n",
      "p_outliers_zspz_dzhi_Glo 5\n",
      "p_acc_zspz_dzhi_Glo 95\n",
      "p_outliers_zgaia_dzhi_Glo 18\n",
      "p_acc_zgaia_dzhi_Glo 82\n",
      "p_outliers_zspz_dzlo_Ghi 39\n",
      "p_acc_zspz_dzlo_Ghi 61\n",
      "p_outliers_zgaia_dzlo_Ghi 38\n",
      "p_acc_zgaia_dzlo_Ghi 62\n",
      "p_outliers_zspz_dzmid_Ghi 17\n",
      "p_acc_zspz_dzmid_Ghi 83\n",
      "p_outliers_zgaia_dzmid_Ghi 30\n",
      "p_acc_zgaia_dzmid_Ghi 70\n",
      "p_outliers_zspz_dzhi_Ghi 9\n",
      "p_acc_zspz_dzhi_Ghi 91\n",
      "p_outliers_zgaia_dzhi_Ghi 28\n",
      "p_acc_zgaia_dzhi_Ghi 72\n"
     ]
    }
   ],
   "source": [
    "for G_name, G_max in G_maxs.items():\n",
    "    quants[G_name] = G_max\n",
    "    for dz_thresh_name, dz_thresh in dz_threshs.items():\n",
    "        quants[dz_thresh_name] = dz_thresh\n",
    "        for z_name, dz_arr in dz_arrs.items():\n",
    "        \n",
    "            i_G = tab_spz_labeled['phot_g_mean_mag'][i_test] < G_max\n",
    "            i_outliers = np.abs(dz_arr[i_G]) > dz_thresh\n",
    "            key = f'p_outliers_{z_name}_{dz_thresh_name}_{G_name}'\n",
    "            val = f\"{100*np.sum(i_outliers)/len(i_outliers):.0f}\"\n",
    "            print(key, val)\n",
    "            quants[key] = val\n",
    "            \n",
    "            i_acc = np.abs(dz_arr[i_G]) <= dz_thresh\n",
    "            key = f'p_acc_{z_name}_{dz_thresh_name}_{G_name}'\n",
    "            val = f\"{100*np.sum(i_acc)/len(i_acc):.0f}\"\n",
    "            print(key, val)\n",
    "            quants[key] = val"
   ]
  },
  {
   "cell_type": "markdown",
   "id": "c028fdb9",
   "metadata": {},
   "source": [
    "Get numbers for all Gaia candidates with SDSS redshifts:"
   ]
  },
  {
   "cell_type": "code",
   "execution_count": 107,
   "id": "01821844",
   "metadata": {},
   "outputs": [
    {
     "data": {
      "text/plain": [
       "<TableColumns names=('ra','dec','source_id','ra_sdss','dec_sdss','objid','z_sdss','phot_g_mean_mag','phot_bp_mean_mag','phot_rp_mean_mag','phot_bp_n_obs','phot_rp_n_obs','dec_unwise','mag_w1_vg','mag_w2_vg','ra_unwise','unwise_objid','dist_arcsec')>"
      ]
     },
     "execution_count": 107,
     "metadata": {},
     "output_type": "execute_result"
    }
   ],
   "source": [
    "tab_squasars.columns"
   ]
  },
  {
   "cell_type": "code",
   "execution_count": 115,
   "id": "b0e59037",
   "metadata": {},
   "outputs": [],
   "source": [
    "tab_squasars_lite = tab_squasars.copy()\n",
    "tab_squasars_lite.keep_columns(['source_id', 'z_sdss'])\n",
    "tab_gall_lite = tab_gall.copy()\n",
    "tab_gall_lite.keep_columns(['source_id', 'redshift_qsoc', 'phot_g_mean_mag'])"
   ]
  },
  {
   "cell_type": "code",
   "execution_count": 116,
   "id": "3035b365",
   "metadata": {},
   "outputs": [
    {
     "name": "stdout",
     "output_type": "stream",
     "text": [
      "326067\n"
     ]
    }
   ],
   "source": [
    "tab_gall_xsquasars = join(tab_gall_lite, tab_squasars_lite, keys='source_id', join_type='inner')\n",
    "print(len(tab_gall_xsquasars))"
   ]
  },
  {
   "cell_type": "code",
   "execution_count": 118,
   "id": "835eddbb",
   "metadata": {},
   "outputs": [
    {
     "name": "stdout",
     "output_type": "stream",
     "text": [
      "320149\n"
     ]
    }
   ],
   "source": [
    "tab_gall_xsquasars = tab_gall_xsquasars[np.isfinite(tab_gall_xsquasars['redshift_qsoc'])]\n",
    "print(len(tab_gall_xsquasars))"
   ]
  },
  {
   "cell_type": "code",
   "execution_count": 119,
   "id": "0b3ae4be",
   "metadata": {},
   "outputs": [],
   "source": [
    "z_sdss_gall = tab_gall_xsquasars['z_sdss']\n",
    "z_gaia_gall = tab_gall_xsquasars['redshift_qsoc']\n",
    "\n",
    "dz_gaia_gall = (z_gaia_gall - z_sdss_gall)/(1+z_sdss_gall)"
   ]
  },
  {
   "cell_type": "code",
   "execution_count": 127,
   "id": "97180794",
   "metadata": {},
   "outputs": [
    {
     "name": "stdout",
     "output_type": "stream",
     "text": [
      "p_outliers_gall_zgaia_dzlo_Glo 25\n",
      "p_outliers_gall_zgaia_dzmid_Glo 19\n",
      "p_outliers_gall_zgaia_dzhi_Glo 18\n",
      "p_outliers_gall_zgaia_dzlo_Ghi 38\n",
      "p_outliers_gall_zgaia_dzmid_Ghi 30\n",
      "p_outliers_gall_zgaia_dzhi_Ghi 28\n"
     ]
    }
   ],
   "source": [
    "z_name = 'zgaia'\n",
    "for G_name, G_max in G_maxs.items():\n",
    "    for dz_thresh_name, dz_thresh in dz_threshs.items():\n",
    "        \n",
    "        i_G = tab_gall_xsquasars['phot_g_mean_mag'] < G_max\n",
    "        i_outliers = np.abs(dz_gaia_gall[i_G]) > dz_thresh\n",
    "        key = f'p_outliers_gall_{z_name}_{dz_thresh_name}_{G_name}'\n",
    "        val = f\"{100*np.sum(i_outliers)/len(i_outliers):.0f}\"\n",
    "        print(key, val)\n",
    "        quants[key] = val"
   ]
  },
  {
   "cell_type": "markdown",
   "id": "64a8de59",
   "metadata": {},
   "source": [
    "Ends up being the same as our cleaned sample lol oop (rounded to a percent)"
   ]
  },
  {
   "cell_type": "code",
   "execution_count": 142,
   "id": "85add8f4",
   "metadata": {},
   "outputs": [
    {
     "name": "stdout",
     "output_type": "stream",
     "text": [
      "0.9615384615384616\n",
      "factor_reduction_outliers_dzlo_Glo : ${\\sim}1\\times$\n",
      "1.9\n",
      "factor_reduction_outliers_dzmid_Glo : ${\\sim}2\\times$\n",
      "3.6\n",
      "factor_reduction_outliers_dzhi_Glo : ${\\sim}3.5\\times$\n"
     ]
    }
   ],
   "source": [
    "G_name = 'Glo'\n",
    "for dz_thresh_name, dz_thresh in dz_threshs.items():\n",
    "    fac = float(quants[f'p_outliers_gall_zgaia_{dz_thresh_name}_{G_name}'])/ \\\n",
    "          float(quants[f'p_outliers_zspz_{dz_thresh_name}_{G_name}'])\n",
    "    key = f'factor_reduction_outliers_{dz_thresh_name}_{G_name}'\n",
    "    fac_rounded = round(fac*2)/2\n",
    "    val = rf'${{\\sim}}{fac_rounded:g}\\times$'\n",
    "    print(fac)\n",
    "    print(key,':', val)\n",
    "    quants[key] = val"
   ]
  },
  {
   "cell_type": "markdown",
   "id": "a727d51c",
   "metadata": {},
   "source": [
    "### Decontamination"
   ]
  },
  {
   "cell_type": "code",
   "execution_count": 154,
   "id": "060cd80f",
   "metadata": {},
   "outputs": [
    {
     "name": "stdout",
     "output_type": "stream",
     "text": [
      "3592\n",
      "1138\n"
     ]
    }
   ],
   "source": [
    "i_contam_labeled = (tab_labeled_sup['class']=='s') | (tab_labeled_sup['class']=='g')\n",
    "print(np.sum(i_contam_labeled))\n",
    "\n",
    "i_contam_gclean = np.isin(tab_labeled_sup['source_id'][i_contam_labeled], tab_gclean['source_id'])\n",
    "print(np.sum(i_contam_gclean))"
   ]
  },
  {
   "cell_type": "code",
   "execution_count": 155,
   "id": "2823ed66",
   "metadata": {},
   "outputs": [
    {
     "name": "stdout",
     "output_type": "stream",
     "text": [
      "3.156414762741652\n",
      "factor_reduction_contaminants ${\\sim}3\\times$\n"
     ]
    }
   ],
   "source": [
    "key = 'factor_reduction_contaminants'\n",
    "fac = np.sum(i_contam_labeled)/np.sum(i_contam_gclean)\n",
    "fac_rounded = round(fac*2)/2\n",
    "val = rf'${{\\sim}}{fac_rounded:g}\\times$'\n",
    "print(fac)\n",
    "print(key, val)\n",
    "quants[key] = val"
   ]
  },
  {
   "cell_type": "markdown",
   "id": "a85e15e8",
   "metadata": {},
   "source": [
    "# Write dict to file"
   ]
  },
  {
   "cell_type": "code",
   "execution_count": 182,
   "id": "32319596",
   "metadata": {},
   "outputs": [
    {
     "name": "stdout",
     "output_type": "stream",
     "text": [
      "N_gall 6,649,162\n",
      "N_gall_wqsoc 6,375,063\n",
      "N_gpurer 1,942,825\n",
      "N_gpurer_wqsoc 1,729,625\n",
      "z_med_gall 1.67\n",
      "Glo 20.0\n",
      "dzlo 0.01\n",
      "p_outliers_dzlo_gall_Glo 74\n",
      "dzmid 0.1\n",
      "p_outliers_dzmid_gall_Glo 90\n",
      "dzhi 0.2\n",
      "p_outliers_dzhi_gall_Glo 95\n",
      "Ghi 20.5\n",
      "p_outliers_dzlo_gall_Ghi 61\n",
      "p_outliers_dzmid_gall_Ghi 83\n",
      "p_outliers_dzhi_gall_Ghi 91\n",
      "p_outliers_zspz_dzhi_Glo 5\n",
      "p_outliers_zgaia_dzhi_Glo 18\n",
      "p_outliers_zspz_dzhi_Ghi 9\n",
      "p_outliers_zgaia_dzhi_Ghi 28\n",
      "p_outliers_zspz_dzlo_Glo 26\n",
      "p_outliers_zgaia_dzlo_Glo 25\n",
      "p_outliers_zspz_dzmid_Glo 10\n",
      "p_outliers_zgaia_dzmid_Glo 19\n",
      "p_outliers_zspz_dzlo_Ghi 39\n",
      "p_outliers_zgaia_dzlo_Ghi 38\n",
      "p_outliers_zspz_dzmid_Ghi 17\n",
      "p_outliers_zgaia_dzmid_Ghi 30\n",
      "p_outliers_gall_zgaia_dzlo_Glo 25\n",
      "p_outliers_gall_zgaia_dzmid_Glo 19\n",
      "p_outliers_gall_zgaia_dzhi_Glo 18\n",
      "p_outliers_gall_zgaia_dzlo_Ghi 38\n",
      "p_outliers_gall_zgaia_dzmid_Ghi 30\n",
      "p_outliers_gall_zgaia_dzhi_Ghi 28\n",
      "factor_reduction_outliers_dzlo_Glo ${\\sim}1\\times$\n",
      "factor_reduction_outliers_dzmid_Glo ${\\sim}2\\times$\n",
      "factor_reduction_outliers_dzhi_Glo ${\\sim}3.5\\times$\n",
      "N_gcatlo 767,866\n",
      "N_gcathi 1,318,566\n",
      "factor_reduction_contaminants ${\\sim}3\\times$\n",
      "N_squasars_unwise 343,074\n",
      "N_squasars_clean 246,122\n",
      "N_squasars_sup 246,122\n",
      "N_gclean 1,442,077\n",
      "N_gsup 1,518,782\n",
      "p_cut_gsup_gclean 5\n",
      "z_med_gcatlo 1.45\n",
      "p_acc_zspz_dzlo_Glo 74\n",
      "p_acc_zgaia_dzlo_Glo 75\n",
      "p_acc_zspz_dzmid_Glo 90\n",
      "p_acc_zgaia_dzmid_Glo 81\n",
      "p_acc_zspz_dzhi_Glo 95\n",
      "p_acc_zgaia_dzhi_Glo 82\n",
      "p_acc_zspz_dzlo_Ghi 61\n",
      "p_acc_zgaia_dzlo_Ghi 62\n",
      "p_acc_zspz_dzmid_Ghi 83\n",
      "p_acc_zgaia_dzmid_Ghi 70\n",
      "p_acc_zspz_dzhi_Ghi 91\n",
      "p_acc_zgaia_dzhi_Ghi 72\n",
      "zintermediate 2.5\n",
      "N_above_zintermediate_gcatlo 79441\n",
      "p_above_zintermediate_gcatlo 0.1034568531488567\n",
      "\n",
      "Saved to ../data/quantities.txt!\n"
     ]
    }
   ],
   "source": [
    "with open(fn_quants, 'w') as f:\n",
    "    for key, val in quants.items():\n",
    "        print(key, val)\n",
    "        if save:\n",
    "            f.write(f'{key} = {val}\\n')\n",
    "if save:\n",
    "    print()\n",
    "    print(f\"Saved to {fn_quants}!\")"
   ]
  },
  {
   "cell_type": "code",
   "execution_count": null,
   "id": "b28cce55",
   "metadata": {},
   "outputs": [],
   "source": []
  },
  {
   "cell_type": "code",
   "execution_count": null,
   "id": "e1c70f8e",
   "metadata": {},
   "outputs": [],
   "source": []
  }
 ],
 "metadata": {
  "kernelspec": {
   "display_name": "Python [conda env:gaiaenv]",
   "language": "python",
   "name": "conda-env-gaiaenv-py"
  },
  "language_info": {
   "codemirror_mode": {
    "name": "ipython",
    "version": 3
   },
   "file_extension": ".py",
   "mimetype": "text/x-python",
   "name": "python",
   "nbconvert_exporter": "python",
   "pygments_lexer": "ipython3",
   "version": "3.10.10"
  }
 },
 "nbformat": 4,
 "nbformat_minor": 5
}
