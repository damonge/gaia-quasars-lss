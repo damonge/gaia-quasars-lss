{
 "cells": [
  {
   "cell_type": "code",
   "execution_count": 10,
   "metadata": {},
   "outputs": [],
   "source": [
    "import matplotlib\n",
    "import numpy as np\n",
    "import seaborn as sns\n",
    "import time\n",
    "from scipy.optimize import curve_fit\n",
    "from matplotlib import pyplot as plt\n",
    "from numpy.random import default_rng\n",
    "\n",
    "from astropy.table import Table\n",
    "from astropy.io import fits\n",
    "import astropy.cosmology\n",
    "from astropy import units as u\n",
    "from astropy.coordinates import SkyCoord"
   ]
  },
  {
   "cell_type": "code",
   "execution_count": 11,
   "metadata": {},
   "outputs": [],
   "source": [
    "from Corrfunc.theory import DD\n",
    "from Corrfunc.theory import xi\n",
    "from Corrfunc.mocks.DDrppi_mocks import DDrppi_mocks\n",
    "from Corrfunc.mocks.DDtheta_mocks import DDtheta_mocks\n",
    "from Corrfunc.utils import convert_3d_counts_to_cf\n",
    "from Corrfunc.utils import convert_rp_pi_counts_to_wp"
   ]
  },
  {
   "cell_type": "code",
   "execution_count": 12,
   "metadata": {},
   "outputs": [],
   "source": [
    "# -------------------------------------------------------------------------------\n",
    "# plotting settings\n",
    "# -------------------------------------------------------------------------------\n",
    "\n",
    "colors = [\"windows blue\", \"amber\", \"greyish\", \"faded green\", \"dusty purple\", \"pale red\"]\n",
    "colors = sns.xkcd_palette(colors)\n",
    "#colors = sns.color_palette(\"Blues\")\n",
    "\n",
    "matplotlib.rcParams['ytick.labelsize'] = 18\n",
    "matplotlib.rcParams['xtick.labelsize'] = 18\n",
    "matplotlib.rcParams['axes.labelsize'] = 18\n",
    "matplotlib.rcParams['legend.fontsize'] = 18\n",
    "\n",
    "matplotlib.rc('text', usetex=True)\n",
    "fsize = 18\n",
    "\n",
    "colors_cont = [\"black\", \"grey\", \"light grey\"] \n",
    "colors_cont = sns.xkcd_palette(colors_cont)\n",
    "\n",
    "np.random.seed(40)"
   ]
  },
  {
   "cell_type": "markdown",
   "metadata": {},
   "source": [
    "# Functions"
   ]
  },
  {
   "cell_type": "code",
   "execution_count": 3,
   "metadata": {},
   "outputs": [],
   "source": [
    "def compute_xi(r_edges, x, y, z, x_rand, y_rand, z_rand,\n",
    "               return_full_results=False):\n",
    "    \n",
    "    nthreads = 4\n",
    "    \n",
    "    start = time.time()\n",
    "    autocorr=1\n",
    "    res_dd = DD(autocorr, nthreads, r_edges, x, y, z, periodic=False)\n",
    "    end = time.time()\n",
    "    print(f'Time: {end-start:.4f} s')\n",
    "    \n",
    "    start = time.time()\n",
    "    autocorr=0\n",
    "    res_dr = DD(autocorr, nthreads, r_edges, x, y, z,\n",
    "                X2=x_rand, Y2=y_rand, Z2=z_rand, periodic=False)\n",
    "    end = time.time()\n",
    "    print(f'Time: {end-start:.4f} s')\n",
    "\n",
    "    start = time.time()\n",
    "    autocorr=1\n",
    "    res_rr = DD(autocorr, nthreads, r_edges, x_rand, y_rand, z_rand, periodic=False)\n",
    "    end = time.time()\n",
    "    print(f'Time: {end-start:.4f} s')\n",
    "    print()\n",
    "    \n",
    "    N = len(x)\n",
    "    N_rand = len(x_rand)\n",
    "    xi = convert_3d_counts_to_cf(N, N, N_rand, N_rand,\n",
    "                                     res_dd, res_dr,\n",
    "                                     res_dr, res_rr)\n",
    "    \n",
    "    if return_full_results:\n",
    "        return xi, res_dd, res_dr, res_rr\n",
    "    \n",
    "    return xi"
   ]
  },
  {
   "cell_type": "code",
   "execution_count": 4,
   "metadata": {},
   "outputs": [],
   "source": [
    "def radec_to_cartesian(r, ra, dec):\n",
    "    \n",
    "    theta = ra * np.pi/180\n",
    "    phi = (90 - dec) * np.pi/180\n",
    "\n",
    "    x, y, z = spherical_to_cartesian(r, theta, phi)\n",
    "    return np.array([x, y, z])"
   ]
  },
  {
   "cell_type": "code",
   "execution_count": 5,
   "metadata": {},
   "outputs": [],
   "source": [
    "def spherical_to_cartesian(r, theta, phi):\n",
    "    x       =  r*np.cos(theta)*np.sin(phi)\n",
    "    y       =  r*np.sin(theta)*np.sin(phi)\n",
    "    z       =  r*np.cos(phi)\n",
    "    return np.array([x, y, z])"
   ]
  },
  {
   "cell_type": "code",
   "execution_count": 6,
   "metadata": {},
   "outputs": [],
   "source": [
    "def generate_shuffled_random(factor, data, rng, redshift_name='redshift_qsoc'):\n",
    "    N = len(data)\n",
    "    N_rand = factor*N\n",
    "\n",
    "    i_vals = np.arange(N)\n",
    "\n",
    "    i_radec_rand = rng.choice(i_vals, size=N_rand, replace=True)\n",
    "    ra_rand = data['ra'][i_radec_rand]\n",
    "    dec_rand = data['dec'][i_radec_rand]\n",
    "\n",
    "    i_redshift_rand = rng.choice(i_vals, size=N_rand, replace=True)\n",
    "    redshift_rand = data[redshift_name][i_redshift_rand]\n",
    "    dist_rand = data['distance'][i_redshift_rand]\n",
    "    \n",
    "    x_rand, y_rand, z_rand = radec_to_cartesian(dist_rand, ra_rand, dec_rand)\n",
    "    \n",
    "    rand = Table([ra_rand, dec_rand, redshift_rand, dist_rand,\n",
    "                      x_rand, y_rand, z_rand], \n",
    "              names=('ra', 'dec', 'redshift', 'distance', 'x', 'y', 'z'), \n",
    "              meta={'name': 'random_shuffle'})\n",
    "    return rand"
   ]
  },
  {
   "cell_type": "markdown",
   "metadata": {},
   "source": [
    "# Load in data"
   ]
  },
  {
   "cell_type": "code",
   "execution_count": 14,
   "metadata": {},
   "outputs": [
    {
     "name": "stdout",
     "output_type": "stream",
     "text": [
      "981927\n"
     ]
    }
   ],
   "source": [
    "fn_photoz = '../data/gaia_photoz.fits'\n",
    "data_photoz = Table.read(fn_photoz, format='fits')\n",
    "print(len(data_photoz))"
   ]
  },
  {
   "cell_type": "code",
   "execution_count": 18,
   "metadata": {},
   "outputs": [
    {
     "data": {
      "text/plain": [
       "<matplotlib.legend.Legend at 0x15b46f1d0>"
      ]
     },
     "execution_count": 18,
     "metadata": {},
     "output_type": "execute_result"
    },
    {
     "data": {
      "image/png": "[encoded data removed]",
      "text/plain": [
       "<Figure size 576x432 with 1 Axes>"
      ]
     },
     "metadata": {
      "needs_background": "light"
     },
     "output_type": "display_data"
    }
   ],
   "source": [
    "plt.figure(figsize=(8,6))\n",
    "plt.hist(data_photoz['redshift_qsoc'], bins=100, histtype='step', color='blue', lw=2, label='Gaia QSOC redshift')\n",
    "plt.hist(data_photoz['redshift_photoz_est'], bins=100, histtype='step', color='purple', lw=2,label='Photo-z redshift')\n",
    "plt.xlabel(r'redshift $z$')\n",
    "plt.ylabel('number per bin')\n",
    "plt.legend()"
   ]
  },
  {
   "cell_type": "code",
   "execution_count": null,
   "metadata": {},
   "outputs": [],
   "source": []
  }
 ],
 "metadata": {
  "kernelspec": {
   "display_name": "Python 3",
   "language": "python",
   "name": "python3"
  },
  "language_info": {
   "codemirror_mode": {
    "name": "ipython",
    "version": 3
   },
   "file_extension": ".py",
   "mimetype": "text/x-python",
   "name": "python",
   "nbconvert_exporter": "python",
   "pygments_lexer": "ipython3",
   "version": "3.7.3"
  }
 },
 "nbformat": 4,
 "nbformat_minor": 4
}
