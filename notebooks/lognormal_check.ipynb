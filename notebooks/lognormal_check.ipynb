{
 "cells": [
  {
   "cell_type": "code",
   "execution_count": 1,
   "metadata": {},
   "outputs": [],
   "source": [
    "import numpy as np\n",
    "import matplotlib.pyplot as plt\n",
    "import scipy\n",
    "import time\n",
    "from scipy import spatial\n",
    "\n",
    "import astropy\n",
    "from astropy import cosmology\n",
    "import Corrfunc\n",
    "\n",
    "import sys\n",
    "sys.path.insert(0, '../code')\n",
    "import read_lognormal"
   ]
  },
  {
   "cell_type": "code",
   "execution_count": 2,
   "metadata": {},
   "outputs": [
    {
     "name": "stdout",
     "output_type": "stream",
     "text": [
      "(1999526, 6)\n"
     ]
    }
   ],
   "source": [
    "L = 6000\n",
    "Nstr = '2e6'\n",
    "z = 0\n",
    "rlz = 0\n",
    "# lengths in Mpc/h, vel in km/s\n",
    "Lx, Ly, Lz, N_all, data_all = read_lognormal.read(f'../data/mocks/cat_L{L}_N{Nstr}_z{z}_patchy_lognormal_rlz{rlz}.bin')\n",
    "print(data_all.shape)"
   ]
  },
  {
   "cell_type": "code",
   "execution_count": 3,
   "metadata": {},
   "outputs": [
    {
     "name": "stdout",
     "output_type": "stream",
     "text": [
      "1999526\n"
     ]
    }
   ],
   "source": [
    "frac_subsample = 1.0\n",
    "idx_subsample = np.random.randint(0, N_all, size=int(frac_subsample*N_all))\n",
    "data = data_all[idx_subsample]\n",
    "N = data.shape[0]\n",
    "print(N)"
   ]
  },
  {
   "cell_type": "code",
   "execution_count": 4,
   "metadata": {},
   "outputs": [
    {
     "name": "stdout",
     "output_type": "stream",
     "text": [
      "(1999526, 3)\n",
      "Time: 1.5685 s\n"
     ]
    }
   ],
   "source": [
    "pos = data[:,:3]\n",
    "print(pos.shape)\n",
    "start = time.time()\n",
    "tree = scipy.spatial.cKDTree(pos)\n",
    "end = time.time()\n",
    "print(f'Time: {end-start:.4f} s')"
   ]
  },
  {
   "cell_type": "code",
   "execution_count": 5,
   "metadata": {},
   "outputs": [],
   "source": [
    "# rmin, rmax = 20, 60\n",
    "# bin_size = 10\n",
    "# r_edges = np.arange(rmin, rmax+bin_size, bin_size)\n",
    "# print(r_edges)\n",
    "# r_pairs_total = np.empty(len(r_edges))\n",
    "\n",
    "# for i, r in enumerate(r_edges):\n",
    "#     start = time.time()\n",
    "#     pairs = tree.query_pairs(r)\n",
    "#     r_pairs_total[i] = len(pairs)\n",
    "#     end = time.time()\n",
    "#     print(f'Bin {r_edges[i]} time: {end-start:.3f} s')"
   ]
  },
  {
   "cell_type": "code",
   "execution_count": 6,
   "metadata": {},
   "outputs": [],
   "source": [
    "# r_pairs_binned = r_pairs_total[1:] - r_pairs_total[:-1]\n",
    "# r_avg = 0.5 * (r_edges[1:] + r_edges[:-1])"
   ]
  },
  {
   "cell_type": "code",
   "execution_count": 7,
   "metadata": {},
   "outputs": [],
   "source": [
    "# plt.plot(figsize=(8,6))\n",
    "# plt.plot(r_avg, r_pairs_binned)\n",
    "# plt.xlabel('r (Mpc)')\n",
    "# plt.ylabel('pair counts')"
   ]
  },
  {
   "cell_type": "code",
   "execution_count": 19,
   "metadata": {},
   "outputs": [],
   "source": [
    "from Corrfunc.theory import DD\n",
    "from Corrfunc.theory import xi"
   ]
  },
  {
   "cell_type": "code",
   "execution_count": 9,
   "metadata": {},
   "outputs": [
    {
     "name": "stdout",
     "output_type": "stream",
     "text": [
      "Time: 2.9004 s\n"
     ]
    }
   ],
   "source": [
    "rmin, rmax = 20, 150\n",
    "bin_size = 5\n",
    "r_edges = np.arange(rmin, rmax+bin_size, bin_size)\n",
    "\n",
    "autocorr = 1\n",
    "nthreads = 1\n",
    "x_data, y_data, z_data = pos.T\n",
    "\n",
    "start = time.time()\n",
    "res = DD(autocorr, nthreads, r_edges, x_data, y_data, z_data, periodic=False)\n",
    "end = time.time()\n",
    "print(f'Time: {end-start:.4f} s')"
   ]
  },
  {
   "cell_type": "code",
   "execution_count": 11,
   "metadata": {},
   "outputs": [],
   "source": [
    "r_avg = 0.5 * (r_edges[1:] + r_edges[:-1])"
   ]
  },
  {
   "cell_type": "code",
   "execution_count": 29,
   "metadata": {},
   "outputs": [],
   "source": [
    "x_rand = np.random.uniform(0, Lx, size=N)\n",
    "y_rand = np.random.uniform(0, Ly, size=N)\n",
    "z_rand = np.random.uniform(0, Lz, size=N)"
   ]
  },
  {
   "cell_type": "code",
   "execution_count": 13,
   "metadata": {},
   "outputs": [
    {
     "name": "stdout",
     "output_type": "stream",
     "text": [
      "(1999526,) (1999526,)\n",
      "5999.99609375 5999.99767342907\n"
     ]
    }
   ],
   "source": [
    "print(x_data.shape, x_rand.shape)\n",
    "print(np.max(x_data), np.max(x_rand))"
   ]
  },
  {
   "cell_type": "code",
   "execution_count": 14,
   "metadata": {},
   "outputs": [
    {
     "name": "stdout",
     "output_type": "stream",
     "text": [
      "Time: 3.0107 s\n"
     ]
    }
   ],
   "source": [
    "start = time.time()\n",
    "res_rand = DD(autocorr, nthreads, r_edges, x_rand, y_rand, z_rand, periodic=False)\n",
    "end = time.time()\n",
    "print(f'Time: {end-start:.4f} s')"
   ]
  },
  {
   "cell_type": "code",
   "execution_count": 18,
   "metadata": {},
   "outputs": [
    {
     "data": {
      "text/plain": [
       "<matplotlib.legend.Legend at 0x13ba5e320>"
      ]
     },
     "execution_count": 18,
     "metadata": {},
     "output_type": "execute_result"
    },
    {
     "data": {
      "image/png": "[encoded data removed]",
      "text/plain": [
       "<Figure size 432x288 with 1 Axes>"
      ]
     },
     "metadata": {
      "needs_background": "light"
     },
     "output_type": "display_data"
    }
   ],
   "source": [
    "x_rand = np.random.uniform(size=N)\n",
    "plt.plot(figsize=(8,6))\n",
    "plt.plot(r_avg, res['npairs'], label='lognormal', color='blue')\n",
    "plt.plot(r_avg, res_rand['npairs'], label='random', color='orange')\n",
    "plt.xlabel('r (Mpc/h)')\n",
    "plt.ylabel('pair counts')\n",
    "\n",
    "#plt.xscale('log')\n",
    "plt.yscale('log')\n",
    "\n",
    "plt.legend()"
   ]
  },
  {
   "cell_type": "code",
   "execution_count": 36,
   "metadata": {},
   "outputs": [
    {
     "data": {
      "text/plain": [
       "<matplotlib.legend.Legend at 0x13b7cfcf8>"
      ]
     },
     "execution_count": 36,
     "metadata": {},
     "output_type": "execute_result"
    },
    {
     "data": {
      "image/png": "[encoded data removed]",
      "text/plain": [
       "<Figure size 432x288 with 1 Axes>"
      ]
     },
     "metadata": {
      "needs_background": "light"
     },
     "output_type": "display_data"
    }
   ],
   "source": [
    "x_rand = np.random.uniform(size=N)\n",
    "plt.plot(figsize=(8,6))\n",
    "plt.plot(r_avg, res['npairs'], label='lognormal', color='blue')\n",
    "plt.plot(r_avg, res_rand['npairs'], label='random', color='orange')\n",
    "plt.xlabel('r (Mpc/h)')\n",
    "plt.ylabel('pair counts')\n",
    "\n",
    "#plt.xscale('log')\n",
    "plt.xlim(90, 115)\n",
    "#plt.ylim(90, 115)\n",
    "\n",
    "#plt.yscale('log')\n",
    "\n",
    "plt.legend()"
   ]
  },
  {
   "cell_type": "code",
   "execution_count": 20,
   "metadata": {},
   "outputs": [],
   "source": [
    "res_xi = xi(Lx, nthreads, r_edges, x_data, y_data, z_data)"
   ]
  },
  {
   "cell_type": "code",
   "execution_count": 31,
   "metadata": {},
   "outputs": [],
   "source": [
    "res_xi_rand = xi(Lx, nthreads, r_edges, x_rand, y_rand, z_rand)"
   ]
  },
  {
   "cell_type": "code",
   "execution_count": 32,
   "metadata": {},
   "outputs": [
    {
     "name": "stdout",
     "output_type": "stream",
     "text": [
      "(1999526,) (1999526,)\n",
      "5999.99609375 5999.992969401932\n"
     ]
    }
   ],
   "source": [
    "print(x_data.shape, x_rand.shape)\n",
    "print(np.max(x_data), np.max(x_rand))"
   ]
  },
  {
   "cell_type": "code",
   "execution_count": 33,
   "metadata": {},
   "outputs": [
    {
     "data": {
      "text/plain": [
       "<matplotlib.legend.Legend at 0x13ada2e48>"
      ]
     },
     "execution_count": 33,
     "metadata": {},
     "output_type": "execute_result"
    },
    {
     "data": {
      "image/png": "[encoded data removed]",
      "text/plain": [
       "<Figure size 432x288 with 1 Axes>"
      ]
     },
     "metadata": {
      "needs_background": "light"
     },
     "output_type": "display_data"
    }
   ],
   "source": [
    "plt.plot(figsize=(8,6))\n",
    "plt.plot(r_avg, res_xi['xi'], label='lognormal', color='blue')\n",
    "plt.plot(r_avg, res_xi_rand['xi'], label='random', color='orange')\n",
    "plt.xlabel('r (Mpc)')\n",
    "plt.ylabel('xi(r)')\n",
    "\n",
    "#plt.xscale('log')\n",
    "#plt.yscale('log')\n",
    "\n",
    "plt.legend()"
   ]
  },
  {
   "cell_type": "code",
   "execution_count": null,
   "metadata": {},
   "outputs": [],
   "source": []
  }
 ],
 "metadata": {
  "kernelspec": {
   "display_name": "Python 3",
   "language": "python",
   "name": "python3"
  },
  "language_info": {
   "codemirror_mode": {
    "name": "ipython",
    "version": 3
   },
   "file_extension": ".py",
   "mimetype": "text/x-python",
   "name": "python",
   "nbconvert_exporter": "python",
   "pygments_lexer": "ipython3",
   "version": "3.7.3"
  }
 },
 "nbformat": 4,
 "nbformat_minor": 4
}
